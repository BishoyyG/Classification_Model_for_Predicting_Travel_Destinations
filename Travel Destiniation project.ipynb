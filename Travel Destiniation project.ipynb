{
 "cells": [
  {
   "cell_type": "markdown",
   "metadata": {
    "id": "3u1LbTWdl9wL"
   },
   "source": [
    "### Authors:\n",
    "\n",
    "## Bishoy George     Bishoy.George.eg@gmail.com\n",
    "## Farah Mohamad\n",
    "## Zaynab El Agamy\n",
    "## Omar Ahmed Shihi\n",
    "## Toka Abd El Ghafar\n",
    "\n",
    "## under the respected supervision of TA Ibrahim Gomaa, Data Visualization Lab course\n",
    "## Dataset 3 a classification problem where the target column named “country_destination”."
   ]
  },
  {
   "cell_type": "markdown",
   "metadata": {
    "id": "b7xsliJPl5KE"
   },
   "source": [
    "### imports"
   ]
  },
  {
   "cell_type": "code",
   "execution_count": null,
   "metadata": {
    "colab": {
     "base_uri": "https://localhost:8080/"
    },
    "executionInfo": {
     "elapsed": 7656,
     "status": "ok",
     "timestamp": 1715365616034,
     "user": {
      "displayName": "Ammar Shihi",
      "userId": "09931002932639687714"
     },
     "user_tz": -180
    },
    "id": "jOrx6S_QSYpm",
    "outputId": "f525b757-279c-4597-d2c8-9e61d6999e68"
   },
   "outputs": [],
   "source": [
    "!pip install dash\n",
    "!pip install xgboost"
   ]
  },
  {
   "cell_type": "code",
   "execution_count": 1,
   "metadata": {
    "colab": {
     "base_uri": "https://localhost:8080/",
     "height": 156
    },
    "executionInfo": {
     "elapsed": 1747,
     "status": "ok",
     "timestamp": 1715365617774,
     "user": {
      "displayName": "Ammar Shihi",
      "userId": "09931002932639687714"
     },
     "user_tz": -180
    },
    "id": "WaAWmiCQRVO0",
    "outputId": "5e69c4ba-0028-4416-8e38-b16828a6d336"
   },
   "outputs": [
    {
     "name": "stderr",
     "output_type": "stream",
     "text": [
      "D:\\Programs\\anaconda\\lib\\site-packages\\scipy\\__init__.py:146: UserWarning: A NumPy version >=1.16.5 and <1.23.0 is required for this version of SciPy (detected version 1.26.4\n",
      "  warnings.warn(f\"A NumPy version >={np_minversion} and <{np_maxversion}\"\n",
      "C:\\Users\\JESUS\\AppData\\Local\\Temp\\ipykernel_10392\\1135754056.py:21: UserWarning: \n",
      "The dash_core_components package is deprecated. Please replace\n",
      "`import dash_core_components as dcc` with `from dash import dcc`\n",
      "  import dash_core_components as dcc\n",
      "C:\\Users\\JESUS\\AppData\\Local\\Temp\\ipykernel_10392\\1135754056.py:22: UserWarning: \n",
      "The dash_html_components package is deprecated. Please replace\n",
      "`import dash_html_components as html` with `from dash import html`\n",
      "  import dash_html_components as html\n"
     ]
    }
   ],
   "source": [
    "import pandas as pd\n",
    "import numpy as np\n",
    "import seaborn as sns\n",
    "import matplotlib.pyplot as plt\n",
    "from sklearn.model_selection import train_test_split\n",
    "from sklearn.feature_selection import RFE\n",
    "\n",
    "from sklearn.ensemble import ExtraTreesClassifier\n",
    "from sklearn.feature_selection import SelectKBest, chi2\n",
    "from sklearn.preprocessing import LabelEncoder\n",
    "from sklearn.ensemble import RandomForestClassifier\n",
    "from sklearn.model_selection import train_test_split\n",
    "from sklearn.tree import DecisionTreeClassifier\n",
    "from sklearn.metrics import accuracy_score, f1_score, mean_squared_error, r2_score, classification_report\n",
    "from sklearn.linear_model import LinearRegression, LogisticRegression\n",
    "from sklearn.model_selection import cross_val_score\n",
    "from sklearn.impute import SimpleImputer\n",
    "\n",
    "import xgboost as xgb\n",
    "import dash\n",
    "import dash_core_components as dcc\n",
    "import dash_html_components as html\n",
    "from dash.dependencies import Input, Output\n",
    "from IPython.display import display, HTML\n",
    "\n",
    "import plotly.graph_objs as go\n",
    "import plotly.figure_factory as ff\n",
    "import plotly.express as px\n",
    "import joblib"
   ]
  },
  {
   "cell_type": "markdown",
   "metadata": {
    "id": "xAzlr3gVl07r"
   },
   "source": [
    "### 1. Load the dataset and show the first ten rows"
   ]
  },
  {
   "cell_type": "code",
   "execution_count": 2,
   "metadata": {
    "colab": {
     "base_uri": "https://localhost:8080/",
     "height": 363
    },
    "executionInfo": {
     "elapsed": 1641,
     "status": "ok",
     "timestamp": 1715365630603,
     "user": {
      "displayName": "Ammar Shihi",
      "userId": "09931002932639687714"
     },
     "user_tz": -180
    },
    "id": "C0xUXGBemfCl",
    "outputId": "47d8f8a8-b862-4319-f71f-a3ef5142d2f5"
   },
   "outputs": [
    {
     "data": {
      "text/html": [
       "<div>\n",
       "<style scoped>\n",
       "    .dataframe tbody tr th:only-of-type {\n",
       "        vertical-align: middle;\n",
       "    }\n",
       "\n",
       "    .dataframe tbody tr th {\n",
       "        vertical-align: top;\n",
       "    }\n",
       "\n",
       "    .dataframe thead th {\n",
       "        text-align: right;\n",
       "    }\n",
       "</style>\n",
       "<table border=\"1\" class=\"dataframe\">\n",
       "  <thead>\n",
       "    <tr style=\"text-align: right;\">\n",
       "      <th></th>\n",
       "      <th>id</th>\n",
       "      <th>date_account_created</th>\n",
       "      <th>timestamp_first_active</th>\n",
       "      <th>date_first_booking</th>\n",
       "      <th>gender</th>\n",
       "      <th>age</th>\n",
       "      <th>signup_method</th>\n",
       "      <th>signup_flow</th>\n",
       "      <th>language</th>\n",
       "      <th>affiliate_channel</th>\n",
       "      <th>affiliate_provider</th>\n",
       "      <th>first_affiliate_tracked</th>\n",
       "      <th>signup_app</th>\n",
       "      <th>first_device_type</th>\n",
       "      <th>first_browser</th>\n",
       "      <th>country_destination</th>\n",
       "    </tr>\n",
       "  </thead>\n",
       "  <tbody>\n",
       "    <tr>\n",
       "      <th>0</th>\n",
       "      <td>gxn3p5htnn</td>\n",
       "      <td>6/28/2010</td>\n",
       "      <td>2.009030e+13</td>\n",
       "      <td>NaN</td>\n",
       "      <td>-unknown-</td>\n",
       "      <td>NaN</td>\n",
       "      <td>facebook</td>\n",
       "      <td>0</td>\n",
       "      <td>en</td>\n",
       "      <td>direct</td>\n",
       "      <td>direct</td>\n",
       "      <td>untracked</td>\n",
       "      <td>Web</td>\n",
       "      <td>Mac Desktop</td>\n",
       "      <td>Chrome</td>\n",
       "      <td>NDF</td>\n",
       "    </tr>\n",
       "    <tr>\n",
       "      <th>1</th>\n",
       "      <td>820tgsjxq7</td>\n",
       "      <td>5/25/2011</td>\n",
       "      <td>2.009050e+13</td>\n",
       "      <td>NaN</td>\n",
       "      <td>MALE</td>\n",
       "      <td>38.0</td>\n",
       "      <td>facebook</td>\n",
       "      <td>0</td>\n",
       "      <td>en</td>\n",
       "      <td>seo</td>\n",
       "      <td>google</td>\n",
       "      <td>untracked</td>\n",
       "      <td>Web</td>\n",
       "      <td>Mac Desktop</td>\n",
       "      <td>Chrome</td>\n",
       "      <td>NDF</td>\n",
       "    </tr>\n",
       "    <tr>\n",
       "      <th>2</th>\n",
       "      <td>4ft3gnwmtx</td>\n",
       "      <td>9/28/2010</td>\n",
       "      <td>2.009060e+13</td>\n",
       "      <td>8/2/2010</td>\n",
       "      <td>FEMALE</td>\n",
       "      <td>56.0</td>\n",
       "      <td>basic</td>\n",
       "      <td>3</td>\n",
       "      <td>en</td>\n",
       "      <td>direct</td>\n",
       "      <td>direct</td>\n",
       "      <td>untracked</td>\n",
       "      <td>Web</td>\n",
       "      <td>Windows Desktop</td>\n",
       "      <td>IE</td>\n",
       "      <td>US</td>\n",
       "    </tr>\n",
       "    <tr>\n",
       "      <th>3</th>\n",
       "      <td>bjjt8pjhuk</td>\n",
       "      <td>12/5/2011</td>\n",
       "      <td>2.009100e+13</td>\n",
       "      <td>9/8/2012</td>\n",
       "      <td>FEMALE</td>\n",
       "      <td>42.0</td>\n",
       "      <td>facebook</td>\n",
       "      <td>0</td>\n",
       "      <td>en</td>\n",
       "      <td>direct</td>\n",
       "      <td>direct</td>\n",
       "      <td>untracked</td>\n",
       "      <td>Web</td>\n",
       "      <td>Mac Desktop</td>\n",
       "      <td>Firefox</td>\n",
       "      <td>other</td>\n",
       "    </tr>\n",
       "    <tr>\n",
       "      <th>4</th>\n",
       "      <td>87mebub9p4</td>\n",
       "      <td>9/14/2010</td>\n",
       "      <td>2.009120e+13</td>\n",
       "      <td>2/18/2010</td>\n",
       "      <td>-unknown-</td>\n",
       "      <td>41.0</td>\n",
       "      <td>basic</td>\n",
       "      <td>0</td>\n",
       "      <td>en</td>\n",
       "      <td>direct</td>\n",
       "      <td>direct</td>\n",
       "      <td>untracked</td>\n",
       "      <td>Web</td>\n",
       "      <td>Mac Desktop</td>\n",
       "      <td>Chrome</td>\n",
       "      <td>US</td>\n",
       "    </tr>\n",
       "    <tr>\n",
       "      <th>5</th>\n",
       "      <td>osr2jwljor</td>\n",
       "      <td>1/1/2010</td>\n",
       "      <td>2.010010e+13</td>\n",
       "      <td>1/2/2010</td>\n",
       "      <td>-unknown-</td>\n",
       "      <td>NaN</td>\n",
       "      <td>basic</td>\n",
       "      <td>0</td>\n",
       "      <td>en</td>\n",
       "      <td>other</td>\n",
       "      <td>other</td>\n",
       "      <td>omg</td>\n",
       "      <td>Web</td>\n",
       "      <td>Mac Desktop</td>\n",
       "      <td>Chrome</td>\n",
       "      <td>US</td>\n",
       "    </tr>\n",
       "    <tr>\n",
       "      <th>6</th>\n",
       "      <td>lsw9q7uk0j</td>\n",
       "      <td>1/2/2010</td>\n",
       "      <td>2.010010e+13</td>\n",
       "      <td>1/5/2010</td>\n",
       "      <td>FEMALE</td>\n",
       "      <td>46.0</td>\n",
       "      <td>basic</td>\n",
       "      <td>0</td>\n",
       "      <td>en</td>\n",
       "      <td>other</td>\n",
       "      <td>craigslist</td>\n",
       "      <td>untracked</td>\n",
       "      <td>Web</td>\n",
       "      <td>Mac Desktop</td>\n",
       "      <td>Safari</td>\n",
       "      <td>US</td>\n",
       "    </tr>\n",
       "    <tr>\n",
       "      <th>7</th>\n",
       "      <td>0d01nltbrs</td>\n",
       "      <td>1/3/2010</td>\n",
       "      <td>2.010010e+13</td>\n",
       "      <td>1/13/2010</td>\n",
       "      <td>FEMALE</td>\n",
       "      <td>47.0</td>\n",
       "      <td>basic</td>\n",
       "      <td>0</td>\n",
       "      <td>en</td>\n",
       "      <td>direct</td>\n",
       "      <td>direct</td>\n",
       "      <td>omg</td>\n",
       "      <td>Web</td>\n",
       "      <td>Mac Desktop</td>\n",
       "      <td>Safari</td>\n",
       "      <td>US</td>\n",
       "    </tr>\n",
       "    <tr>\n",
       "      <th>8</th>\n",
       "      <td>a1vcnhxeij</td>\n",
       "      <td>1/4/2010</td>\n",
       "      <td>2.010010e+13</td>\n",
       "      <td>7/29/2010</td>\n",
       "      <td>FEMALE</td>\n",
       "      <td>50.0</td>\n",
       "      <td>basic</td>\n",
       "      <td>0</td>\n",
       "      <td>en</td>\n",
       "      <td>NaN</td>\n",
       "      <td>craigslist</td>\n",
       "      <td>untracked</td>\n",
       "      <td>Web</td>\n",
       "      <td>Mac Desktop</td>\n",
       "      <td>Safari</td>\n",
       "      <td>US</td>\n",
       "    </tr>\n",
       "    <tr>\n",
       "      <th>9</th>\n",
       "      <td>6uh8zyj2gn</td>\n",
       "      <td>1/4/2010</td>\n",
       "      <td>2.010010e+13</td>\n",
       "      <td>1/4/2010</td>\n",
       "      <td>-unknown-</td>\n",
       "      <td>46.0</td>\n",
       "      <td>basic</td>\n",
       "      <td>0</td>\n",
       "      <td>en</td>\n",
       "      <td>NaN</td>\n",
       "      <td>craigslist</td>\n",
       "      <td>omg</td>\n",
       "      <td>Web</td>\n",
       "      <td>Mac Desktop</td>\n",
       "      <td>Firefox</td>\n",
       "      <td>US</td>\n",
       "    </tr>\n",
       "  </tbody>\n",
       "</table>\n",
       "</div>"
      ],
      "text/plain": [
       "           id date_account_created  timestamp_first_active date_first_booking  \\\n",
       "0  gxn3p5htnn            6/28/2010            2.009030e+13                NaN   \n",
       "1  820tgsjxq7            5/25/2011            2.009050e+13                NaN   \n",
       "2  4ft3gnwmtx            9/28/2010            2.009060e+13           8/2/2010   \n",
       "3  bjjt8pjhuk            12/5/2011            2.009100e+13           9/8/2012   \n",
       "4  87mebub9p4            9/14/2010            2.009120e+13          2/18/2010   \n",
       "5  osr2jwljor             1/1/2010            2.010010e+13           1/2/2010   \n",
       "6  lsw9q7uk0j             1/2/2010            2.010010e+13           1/5/2010   \n",
       "7  0d01nltbrs             1/3/2010            2.010010e+13          1/13/2010   \n",
       "8  a1vcnhxeij             1/4/2010            2.010010e+13          7/29/2010   \n",
       "9  6uh8zyj2gn             1/4/2010            2.010010e+13           1/4/2010   \n",
       "\n",
       "      gender   age signup_method  signup_flow language affiliate_channel  \\\n",
       "0  -unknown-   NaN      facebook            0       en            direct   \n",
       "1       MALE  38.0      facebook            0       en               seo   \n",
       "2     FEMALE  56.0         basic            3       en            direct   \n",
       "3     FEMALE  42.0      facebook            0       en            direct   \n",
       "4  -unknown-  41.0         basic            0       en            direct   \n",
       "5  -unknown-   NaN         basic            0       en             other   \n",
       "6     FEMALE  46.0         basic            0       en             other   \n",
       "7     FEMALE  47.0         basic            0       en            direct   \n",
       "8     FEMALE  50.0         basic            0       en               NaN   \n",
       "9  -unknown-  46.0         basic            0       en               NaN   \n",
       "\n",
       "  affiliate_provider first_affiliate_tracked signup_app first_device_type  \\\n",
       "0             direct               untracked        Web       Mac Desktop   \n",
       "1             google               untracked        Web       Mac Desktop   \n",
       "2             direct               untracked        Web   Windows Desktop   \n",
       "3             direct               untracked        Web       Mac Desktop   \n",
       "4             direct               untracked        Web       Mac Desktop   \n",
       "5              other                     omg        Web       Mac Desktop   \n",
       "6         craigslist               untracked        Web       Mac Desktop   \n",
       "7             direct                     omg        Web       Mac Desktop   \n",
       "8         craigslist               untracked        Web       Mac Desktop   \n",
       "9         craigslist                     omg        Web       Mac Desktop   \n",
       "\n",
       "  first_browser country_destination  \n",
       "0        Chrome                 NDF  \n",
       "1        Chrome                 NDF  \n",
       "2            IE                  US  \n",
       "3       Firefox               other  \n",
       "4        Chrome                  US  \n",
       "5        Chrome                  US  \n",
       "6        Safari                  US  \n",
       "7        Safari                  US  \n",
       "8        Safari                  US  \n",
       "9       Firefox                  US  "
      ]
     },
     "execution_count": 2,
     "metadata": {},
     "output_type": "execute_result"
    }
   ],
   "source": [
    "df = pd.read_csv ('Dataset3.csv')\n",
    "df.head(10)"
   ]
  },
  {
   "cell_type": "markdown",
   "metadata": {
    "id": "a0EaT-vwmfZw"
   },
   "source": [
    "### 2. (0)Describe the dataset and show:\n",
    "#### Before we describe the data set we need to see it's false values and preprosses it a little before moving on with the describing...\n",
    "#### consider this as describe verision 0....the real describe is version 1 below"
   ]
  },
  {
   "cell_type": "code",
   "execution_count": 3,
   "metadata": {
    "colab": {
     "base_uri": "https://localhost:8080/",
     "height": 424
    },
    "executionInfo": {
     "elapsed": 34,
     "status": "ok",
     "timestamp": 1715365630607,
     "user": {
      "displayName": "Ammar Shihi",
      "userId": "09931002932639687714"
     },
     "user_tz": -180
    },
    "id": "HKH4fZp_jIpW",
    "outputId": "e3d685c4-fe7e-4b92-d859-5caa46500696",
    "scrolled": true
   },
   "outputs": [
    {
     "data": {
      "text/html": [
       "<div>\n",
       "<style scoped>\n",
       "    .dataframe tbody tr th:only-of-type {\n",
       "        vertical-align: middle;\n",
       "    }\n",
       "\n",
       "    .dataframe tbody tr th {\n",
       "        vertical-align: top;\n",
       "    }\n",
       "\n",
       "    .dataframe thead th {\n",
       "        text-align: right;\n",
       "    }\n",
       "</style>\n",
       "<table border=\"1\" class=\"dataframe\">\n",
       "  <thead>\n",
       "    <tr style=\"text-align: right;\">\n",
       "      <th></th>\n",
       "      <th>id</th>\n",
       "      <th>date_account_created</th>\n",
       "      <th>timestamp_first_active</th>\n",
       "      <th>date_first_booking</th>\n",
       "      <th>gender</th>\n",
       "      <th>age</th>\n",
       "      <th>signup_method</th>\n",
       "      <th>signup_flow</th>\n",
       "      <th>language</th>\n",
       "      <th>affiliate_channel</th>\n",
       "      <th>affiliate_provider</th>\n",
       "      <th>first_affiliate_tracked</th>\n",
       "      <th>signup_app</th>\n",
       "      <th>first_device_type</th>\n",
       "      <th>first_browser</th>\n",
       "      <th>country_destination</th>\n",
       "    </tr>\n",
       "  </thead>\n",
       "  <tbody>\n",
       "    <tr>\n",
       "      <th>0</th>\n",
       "      <td>gxn3p5htnn</td>\n",
       "      <td>6/28/2010</td>\n",
       "      <td>2.009030e+13</td>\n",
       "      <td>NaN</td>\n",
       "      <td>-unknown-</td>\n",
       "      <td>NaN</td>\n",
       "      <td>facebook</td>\n",
       "      <td>0</td>\n",
       "      <td>en</td>\n",
       "      <td>direct</td>\n",
       "      <td>direct</td>\n",
       "      <td>untracked</td>\n",
       "      <td>Web</td>\n",
       "      <td>Mac Desktop</td>\n",
       "      <td>Chrome</td>\n",
       "      <td>NDF</td>\n",
       "    </tr>\n",
       "    <tr>\n",
       "      <th>1</th>\n",
       "      <td>820tgsjxq7</td>\n",
       "      <td>5/25/2011</td>\n",
       "      <td>2.009050e+13</td>\n",
       "      <td>NaN</td>\n",
       "      <td>MALE</td>\n",
       "      <td>38.0</td>\n",
       "      <td>facebook</td>\n",
       "      <td>0</td>\n",
       "      <td>en</td>\n",
       "      <td>seo</td>\n",
       "      <td>google</td>\n",
       "      <td>untracked</td>\n",
       "      <td>Web</td>\n",
       "      <td>Mac Desktop</td>\n",
       "      <td>Chrome</td>\n",
       "      <td>NDF</td>\n",
       "    </tr>\n",
       "    <tr>\n",
       "      <th>2</th>\n",
       "      <td>4ft3gnwmtx</td>\n",
       "      <td>9/28/2010</td>\n",
       "      <td>2.009060e+13</td>\n",
       "      <td>8/2/2010</td>\n",
       "      <td>FEMALE</td>\n",
       "      <td>56.0</td>\n",
       "      <td>basic</td>\n",
       "      <td>3</td>\n",
       "      <td>en</td>\n",
       "      <td>direct</td>\n",
       "      <td>direct</td>\n",
       "      <td>untracked</td>\n",
       "      <td>Web</td>\n",
       "      <td>Windows Desktop</td>\n",
       "      <td>IE</td>\n",
       "      <td>US</td>\n",
       "    </tr>\n",
       "    <tr>\n",
       "      <th>3</th>\n",
       "      <td>bjjt8pjhuk</td>\n",
       "      <td>12/5/2011</td>\n",
       "      <td>2.009100e+13</td>\n",
       "      <td>9/8/2012</td>\n",
       "      <td>FEMALE</td>\n",
       "      <td>42.0</td>\n",
       "      <td>facebook</td>\n",
       "      <td>0</td>\n",
       "      <td>en</td>\n",
       "      <td>direct</td>\n",
       "      <td>direct</td>\n",
       "      <td>untracked</td>\n",
       "      <td>Web</td>\n",
       "      <td>Mac Desktop</td>\n",
       "      <td>Firefox</td>\n",
       "      <td>other</td>\n",
       "    </tr>\n",
       "    <tr>\n",
       "      <th>4</th>\n",
       "      <td>87mebub9p4</td>\n",
       "      <td>9/14/2010</td>\n",
       "      <td>2.009120e+13</td>\n",
       "      <td>2/18/2010</td>\n",
       "      <td>-unknown-</td>\n",
       "      <td>41.0</td>\n",
       "      <td>basic</td>\n",
       "      <td>0</td>\n",
       "      <td>en</td>\n",
       "      <td>direct</td>\n",
       "      <td>direct</td>\n",
       "      <td>untracked</td>\n",
       "      <td>Web</td>\n",
       "      <td>Mac Desktop</td>\n",
       "      <td>Chrome</td>\n",
       "      <td>US</td>\n",
       "    </tr>\n",
       "    <tr>\n",
       "      <th>...</th>\n",
       "      <td>...</td>\n",
       "      <td>...</td>\n",
       "      <td>...</td>\n",
       "      <td>...</td>\n",
       "      <td>...</td>\n",
       "      <td>...</td>\n",
       "      <td>...</td>\n",
       "      <td>...</td>\n",
       "      <td>...</td>\n",
       "      <td>...</td>\n",
       "      <td>...</td>\n",
       "      <td>...</td>\n",
       "      <td>...</td>\n",
       "      <td>...</td>\n",
       "      <td>...</td>\n",
       "      <td>...</td>\n",
       "    </tr>\n",
       "    <tr>\n",
       "      <th>213446</th>\n",
       "      <td>zxodksqpep</td>\n",
       "      <td>6/30/2014</td>\n",
       "      <td>2.014060e+13</td>\n",
       "      <td>NaN</td>\n",
       "      <td>MALE</td>\n",
       "      <td>32.0</td>\n",
       "      <td>basic</td>\n",
       "      <td>0</td>\n",
       "      <td>en</td>\n",
       "      <td>sem-brand</td>\n",
       "      <td>google</td>\n",
       "      <td>omg</td>\n",
       "      <td>Web</td>\n",
       "      <td>Mac Desktop</td>\n",
       "      <td>Safari</td>\n",
       "      <td>NDF</td>\n",
       "    </tr>\n",
       "    <tr>\n",
       "      <th>213447</th>\n",
       "      <td>mhewnxesx9</td>\n",
       "      <td>6/30/2014</td>\n",
       "      <td>2.014060e+13</td>\n",
       "      <td>NaN</td>\n",
       "      <td>-unknown-</td>\n",
       "      <td>NaN</td>\n",
       "      <td>basic</td>\n",
       "      <td>0</td>\n",
       "      <td>en</td>\n",
       "      <td>direct</td>\n",
       "      <td>direct</td>\n",
       "      <td>linked</td>\n",
       "      <td>Web</td>\n",
       "      <td>Windows Desktop</td>\n",
       "      <td>Chrome</td>\n",
       "      <td>NDF</td>\n",
       "    </tr>\n",
       "    <tr>\n",
       "      <th>213448</th>\n",
       "      <td>6o3arsjbb4</td>\n",
       "      <td>6/30/2014</td>\n",
       "      <td>2.014060e+13</td>\n",
       "      <td>NaN</td>\n",
       "      <td>-unknown-</td>\n",
       "      <td>32.0</td>\n",
       "      <td>basic</td>\n",
       "      <td>0</td>\n",
       "      <td>en</td>\n",
       "      <td>direct</td>\n",
       "      <td>direct</td>\n",
       "      <td>untracked</td>\n",
       "      <td>Web</td>\n",
       "      <td>Mac Desktop</td>\n",
       "      <td>Firefox</td>\n",
       "      <td>NDF</td>\n",
       "    </tr>\n",
       "    <tr>\n",
       "      <th>213449</th>\n",
       "      <td>jh95kwisub</td>\n",
       "      <td>6/30/2014</td>\n",
       "      <td>2.014060e+13</td>\n",
       "      <td>NaN</td>\n",
       "      <td>-unknown-</td>\n",
       "      <td>NaN</td>\n",
       "      <td>basic</td>\n",
       "      <td>25</td>\n",
       "      <td>en</td>\n",
       "      <td>other</td>\n",
       "      <td>other</td>\n",
       "      <td>tracked-other</td>\n",
       "      <td>iOS</td>\n",
       "      <td>iPhone</td>\n",
       "      <td>Mobile Safari</td>\n",
       "      <td>NDF</td>\n",
       "    </tr>\n",
       "    <tr>\n",
       "      <th>213450</th>\n",
       "      <td>nw9fwlyb5f</td>\n",
       "      <td>6/30/2014</td>\n",
       "      <td>2.014060e+13</td>\n",
       "      <td>NaN</td>\n",
       "      <td>-unknown-</td>\n",
       "      <td>NaN</td>\n",
       "      <td>basic</td>\n",
       "      <td>25</td>\n",
       "      <td>en</td>\n",
       "      <td>direct</td>\n",
       "      <td>direct</td>\n",
       "      <td>untracked</td>\n",
       "      <td>iOS</td>\n",
       "      <td>iPhone</td>\n",
       "      <td>-unknown-</td>\n",
       "      <td>NDF</td>\n",
       "    </tr>\n",
       "  </tbody>\n",
       "</table>\n",
       "<p>213451 rows × 16 columns</p>\n",
       "</div>"
      ],
      "text/plain": [
       "                id date_account_created  timestamp_first_active  \\\n",
       "0       gxn3p5htnn            6/28/2010            2.009030e+13   \n",
       "1       820tgsjxq7            5/25/2011            2.009050e+13   \n",
       "2       4ft3gnwmtx            9/28/2010            2.009060e+13   \n",
       "3       bjjt8pjhuk            12/5/2011            2.009100e+13   \n",
       "4       87mebub9p4            9/14/2010            2.009120e+13   \n",
       "...            ...                  ...                     ...   \n",
       "213446  zxodksqpep            6/30/2014            2.014060e+13   \n",
       "213447  mhewnxesx9            6/30/2014            2.014060e+13   \n",
       "213448  6o3arsjbb4            6/30/2014            2.014060e+13   \n",
       "213449  jh95kwisub            6/30/2014            2.014060e+13   \n",
       "213450  nw9fwlyb5f            6/30/2014            2.014060e+13   \n",
       "\n",
       "       date_first_booking     gender   age signup_method  signup_flow  \\\n",
       "0                     NaN  -unknown-   NaN      facebook            0   \n",
       "1                     NaN       MALE  38.0      facebook            0   \n",
       "2                8/2/2010     FEMALE  56.0         basic            3   \n",
       "3                9/8/2012     FEMALE  42.0      facebook            0   \n",
       "4               2/18/2010  -unknown-  41.0         basic            0   \n",
       "...                   ...        ...   ...           ...          ...   \n",
       "213446                NaN       MALE  32.0         basic            0   \n",
       "213447                NaN  -unknown-   NaN         basic            0   \n",
       "213448                NaN  -unknown-  32.0         basic            0   \n",
       "213449                NaN  -unknown-   NaN         basic           25   \n",
       "213450                NaN  -unknown-   NaN         basic           25   \n",
       "\n",
       "       language affiliate_channel affiliate_provider first_affiliate_tracked  \\\n",
       "0            en            direct             direct               untracked   \n",
       "1            en               seo             google               untracked   \n",
       "2            en            direct             direct               untracked   \n",
       "3            en            direct             direct               untracked   \n",
       "4            en            direct             direct               untracked   \n",
       "...         ...               ...                ...                     ...   \n",
       "213446       en         sem-brand             google                     omg   \n",
       "213447       en            direct             direct                  linked   \n",
       "213448       en            direct             direct               untracked   \n",
       "213449       en             other              other           tracked-other   \n",
       "213450       en            direct             direct               untracked   \n",
       "\n",
       "       signup_app first_device_type  first_browser country_destination  \n",
       "0             Web       Mac Desktop         Chrome                 NDF  \n",
       "1             Web       Mac Desktop         Chrome                 NDF  \n",
       "2             Web   Windows Desktop             IE                  US  \n",
       "3             Web       Mac Desktop        Firefox               other  \n",
       "4             Web       Mac Desktop         Chrome                  US  \n",
       "...           ...               ...            ...                 ...  \n",
       "213446        Web       Mac Desktop         Safari                 NDF  \n",
       "213447        Web   Windows Desktop         Chrome                 NDF  \n",
       "213448        Web       Mac Desktop        Firefox                 NDF  \n",
       "213449        iOS            iPhone  Mobile Safari                 NDF  \n",
       "213450        iOS            iPhone      -unknown-                 NDF  \n",
       "\n",
       "[213451 rows x 16 columns]"
      ]
     },
     "execution_count": 3,
     "metadata": {},
     "output_type": "execute_result"
    }
   ],
   "source": [
    "df"
   ]
  },
  {
   "cell_type": "code",
   "execution_count": 4,
   "metadata": {
    "colab": {
     "base_uri": "https://localhost:8080/",
     "height": 318
    },
    "executionInfo": {
     "elapsed": 30,
     "status": "ok",
     "timestamp": 1715365630607,
     "user": {
      "displayName": "Ammar Shihi",
      "userId": "09931002932639687714"
     },
     "user_tz": -180
    },
    "id": "cKcsx5TERVO6",
    "outputId": "913ec188-5ac0-420a-afb9-1a2985af17b0",
    "scrolled": false
   },
   "outputs": [
    {
     "name": "stdout",
     "output_type": "stream",
     "text": [
      "Describing the Data:\n"
     ]
    },
    {
     "data": {
      "text/html": [
       "<div>\n",
       "<style scoped>\n",
       "    .dataframe tbody tr th:only-of-type {\n",
       "        vertical-align: middle;\n",
       "    }\n",
       "\n",
       "    .dataframe tbody tr th {\n",
       "        vertical-align: top;\n",
       "    }\n",
       "\n",
       "    .dataframe thead th {\n",
       "        text-align: right;\n",
       "    }\n",
       "</style>\n",
       "<table border=\"1\" class=\"dataframe\">\n",
       "  <thead>\n",
       "    <tr style=\"text-align: right;\">\n",
       "      <th></th>\n",
       "      <th>timestamp_first_active</th>\n",
       "      <th>age</th>\n",
       "      <th>signup_flow</th>\n",
       "    </tr>\n",
       "  </thead>\n",
       "  <tbody>\n",
       "    <tr>\n",
       "      <th>count</th>\n",
       "      <td>2.134510e+05</td>\n",
       "      <td>125461.000000</td>\n",
       "      <td>213451.000000</td>\n",
       "    </tr>\n",
       "    <tr>\n",
       "      <th>mean</th>\n",
       "      <td>2.013083e+13</td>\n",
       "      <td>49.668335</td>\n",
       "      <td>3.267387</td>\n",
       "    </tr>\n",
       "    <tr>\n",
       "      <th>std</th>\n",
       "      <td>9.253690e+09</td>\n",
       "      <td>155.666612</td>\n",
       "      <td>7.637707</td>\n",
       "    </tr>\n",
       "    <tr>\n",
       "      <th>min</th>\n",
       "      <td>2.009030e+13</td>\n",
       "      <td>1.000000</td>\n",
       "      <td>0.000000</td>\n",
       "    </tr>\n",
       "    <tr>\n",
       "      <th>25%</th>\n",
       "      <td>2.012120e+13</td>\n",
       "      <td>28.000000</td>\n",
       "      <td>0.000000</td>\n",
       "    </tr>\n",
       "    <tr>\n",
       "      <th>50%</th>\n",
       "      <td>2.013090e+13</td>\n",
       "      <td>34.000000</td>\n",
       "      <td>0.000000</td>\n",
       "    </tr>\n",
       "    <tr>\n",
       "      <th>75%</th>\n",
       "      <td>2.014030e+13</td>\n",
       "      <td>43.000000</td>\n",
       "      <td>0.000000</td>\n",
       "    </tr>\n",
       "    <tr>\n",
       "      <th>max</th>\n",
       "      <td>2.014060e+13</td>\n",
       "      <td>2014.000000</td>\n",
       "      <td>25.000000</td>\n",
       "    </tr>\n",
       "  </tbody>\n",
       "</table>\n",
       "</div>"
      ],
      "text/plain": [
       "       timestamp_first_active            age    signup_flow\n",
       "count            2.134510e+05  125461.000000  213451.000000\n",
       "mean             2.013083e+13      49.668335       3.267387\n",
       "std              9.253690e+09     155.666612       7.637707\n",
       "min              2.009030e+13       1.000000       0.000000\n",
       "25%              2.012120e+13      28.000000       0.000000\n",
       "50%              2.013090e+13      34.000000       0.000000\n",
       "75%              2.014030e+13      43.000000       0.000000\n",
       "max              2.014060e+13    2014.000000      25.000000"
      ]
     },
     "execution_count": 4,
     "metadata": {},
     "output_type": "execute_result"
    }
   ],
   "source": [
    "print(\"Describing the Data:\")\n",
    "df.describe()"
   ]
  },
  {
   "cell_type": "code",
   "execution_count": 5,
   "metadata": {
    "colab": {
     "base_uri": "https://localhost:8080/"
    },
    "executionInfo": {
     "elapsed": 433,
     "status": "ok",
     "timestamp": 1715365631020,
     "user": {
      "displayName": "Ammar Shihi",
      "userId": "09931002932639687714"
     },
     "user_tz": -180
    },
    "id": "JEIRsJobRVO6",
    "outputId": "465c77b9-a283-48da-d91c-505fbd030735"
   },
   "outputs": [
    {
     "name": "stdout",
     "output_type": "stream",
     "text": [
      "id                              0\n",
      "date_account_created            0\n",
      "timestamp_first_active          0\n",
      "date_first_booking         124543\n",
      "gender                         17\n",
      "age                         87990\n",
      "signup_method                   0\n",
      "signup_flow                     0\n",
      "language                        0\n",
      "affiliate_channel              15\n",
      "affiliate_provider              0\n",
      "first_affiliate_tracked      6065\n",
      "signup_app                      0\n",
      "first_device_type               0\n",
      "first_browser                   0\n",
      "country_destination             0\n",
      "dtype: int64\n"
     ]
    }
   ],
   "source": [
    "print(df.isna().sum())"
   ]
  },
  {
   "cell_type": "code",
   "execution_count": 6,
   "metadata": {
    "colab": {
     "base_uri": "https://localhost:8080/"
    },
    "executionInfo": {
     "elapsed": 823,
     "status": "ok",
     "timestamp": 1715365631839,
     "user": {
      "displayName": "Ammar Shihi",
      "userId": "09931002932639687714"
     },
     "user_tz": -180
    },
    "id": "sLgKPNpuRVO6",
    "outputId": "9fe5f4da-c8b0-4648-be96-f16773d4dc0d"
   },
   "outputs": [
    {
     "name": "stdout",
     "output_type": "stream",
     "text": [
      "<class 'pandas.core.frame.DataFrame'>\n",
      "RangeIndex: 213451 entries, 0 to 213450\n",
      "Data columns (total 16 columns):\n",
      " #   Column                   Non-Null Count   Dtype  \n",
      "---  ------                   --------------   -----  \n",
      " 0   id                       213451 non-null  object \n",
      " 1   date_account_created     213451 non-null  object \n",
      " 2   timestamp_first_active   213451 non-null  float64\n",
      " 3   date_first_booking       88908 non-null   object \n",
      " 4   gender                   213434 non-null  object \n",
      " 5   age                      125461 non-null  float64\n",
      " 6   signup_method            213451 non-null  object \n",
      " 7   signup_flow              213451 non-null  int64  \n",
      " 8   language                 213451 non-null  object \n",
      " 9   affiliate_channel        213436 non-null  object \n",
      " 10  affiliate_provider       213451 non-null  object \n",
      " 11  first_affiliate_tracked  207386 non-null  object \n",
      " 12  signup_app               213451 non-null  object \n",
      " 13  first_device_type        213451 non-null  object \n",
      " 14  first_browser            213451 non-null  object \n",
      " 15  country_destination      213451 non-null  object \n",
      "dtypes: float64(2), int64(1), object(13)\n",
      "memory usage: 26.1+ MB\n"
     ]
    }
   ],
   "source": [
    "df.info()"
   ]
  },
  {
   "cell_type": "code",
   "execution_count": 7,
   "metadata": {
    "colab": {
     "base_uri": "https://localhost:8080/"
    },
    "executionInfo": {
     "elapsed": 63,
     "status": "ok",
     "timestamp": 1715365631839,
     "user": {
      "displayName": "Ammar Shihi",
      "userId": "09931002932639687714"
     },
     "user_tz": -180
    },
    "id": "jaK6UU_WRVO6",
    "outputId": "c1ce5f60-dbe0-4ac4-f655-d2168ff107bb"
   },
   "outputs": [
    {
     "name": "stdout",
     "output_type": "stream",
     "text": [
      "Distribution of Numerical Data:\n",
      "timestamp_first_active\n",
      "\n",
      "count    2.134510e+05\n",
      "mean     2.013083e+13\n",
      "std      9.253690e+09\n",
      "min      2.009030e+13\n",
      "25%      2.012120e+13\n",
      "50%      2.013090e+13\n",
      "75%      2.014030e+13\n",
      "max      2.014060e+13\n",
      "Name: timestamp_first_active, dtype: float64\n",
      "age\n",
      "\n",
      "count    125461.000000\n",
      "mean         49.668335\n",
      "std         155.666612\n",
      "min           1.000000\n",
      "25%          28.000000\n",
      "50%          34.000000\n",
      "75%          43.000000\n",
      "max        2014.000000\n",
      "Name: age, dtype: float64\n",
      "signup_flow\n",
      "\n",
      "count    213451.000000\n",
      "mean          3.267387\n",
      "std           7.637707\n",
      "min           0.000000\n",
      "25%           0.000000\n",
      "50%           0.000000\n",
      "75%           0.000000\n",
      "max          25.000000\n",
      "Name: signup_flow, dtype: float64\n"
     ]
    }
   ],
   "source": [
    "print(\"Distribution of Numerical Data:\")\n",
    "for col in df.select_dtypes(include=['float64','int64']):\n",
    "    print(col)\n",
    "    print()\n",
    "    print(df[col].describe())"
   ]
  },
  {
   "cell_type": "code",
   "execution_count": 8,
   "metadata": {
    "colab": {
     "base_uri": "https://localhost:8080/",
     "height": 1000
    },
    "executionInfo": {
     "elapsed": 884,
     "status": "ok",
     "timestamp": 1715365632677,
     "user": {
      "displayName": "Ammar Shihi",
      "userId": "09931002932639687714"
     },
     "user_tz": -180
    },
    "id": "XfIs3B5fRVO7",
    "outputId": "a2030c22-90c9-49a3-8839-3f3ac97bfc1c"
   },
   "outputs": [
    {
     "data": {
      "image/png": "[encoded data removed]",
      "text/plain": [
       "<Figure size 1440x1440 with 4 Axes>"
      ]
     },
     "metadata": {
      "needs_background": "light"
     },
     "output_type": "display_data"
    }
   ],
   "source": [
    "#show the type of distribution of the data\n",
    "df.hist(figsize=(20,20))\n",
    "plt.show()"
   ]
  },
  {
   "cell_type": "code",
   "execution_count": 9,
   "metadata": {
    "colab": {
     "base_uri": "https://localhost:8080/",
     "height": 807
    },
    "executionInfo": {
     "elapsed": 631,
     "status": "ok",
     "timestamp": 1715365633290,
     "user": {
      "displayName": "Ammar Shihi",
      "userId": "09931002932639687714"
     },
     "user_tz": -180
    },
    "id": "fe1r9OOhRVO7",
    "outputId": "7781b1ee-52bd-4aff-84db-44bd729af454",
    "scrolled": true
   },
   "outputs": [
    {
     "data": {
      "image/png": "[encoded data removed]",
      "text/plain": [
       "<Figure size 864x576 with 3 Axes>"
      ]
     },
     "metadata": {
      "needs_background": "light"
     },
     "output_type": "display_data"
    }
   ],
   "source": [
    "# For Numerical Data:\n",
    "numerical_cols = df.select_dtypes(include=['float64','int64']).columns\n",
    "# Create box plots for numerical features\n",
    "plt.figure(figsize=(12, 8))\n",
    "for i, col in enumerate(numerical_cols):\n",
    "    plt.subplot(2, 2, i + 1)\n",
    "    plt.boxplot(df[col].dropna())  # Dropping NaN values for plotting\n",
    "    plt.title(col)\n",
    "plt.tight_layout()\n",
    "plt.show()"
   ]
  },
  {
   "cell_type": "code",
   "execution_count": 10,
   "metadata": {
    "colab": {
     "base_uri": "https://localhost:8080/",
     "height": 1000
    },
    "executionInfo": {
     "elapsed": 3149,
     "status": "ok",
     "timestamp": 1715365636425,
     "user": {
      "displayName": "Ammar Shihi",
      "userId": "09931002932639687714"
     },
     "user_tz": -180
    },
    "id": "nSrfyj4TRVO8",
    "outputId": "2cf68807-4383-403f-ffa0-6d3800519412",
    "scrolled": true
   },
   "outputs": [
    {
     "data": {
      "image/png": "[encoded data removed]",
      "text/plain": [
       "<Figure size 1080x1080 with 2 Axes>"
      ]
     },
     "metadata": {
      "needs_background": "light"
     },
     "output_type": "display_data"
    }
   ],
   "source": [
    "le = LabelEncoder()\n",
    "df_without_time = df.copy()\n",
    "df_without_time= df_without_time.drop('date_first_booking', axis=1)\n",
    "\n",
    "# Apply Label Encoder to each column of the dataframe with object datatype\n",
    "df_without_time = df_without_time.apply(lambda col: le.fit_transform(col) if col.dtype == 'object' else col)\n",
    "\n",
    "# calculate the correlation and plot the heatmap\n",
    "corr = df_without_time.corr()\n",
    "plt.figure(figsize=(15, 15))\n",
    "sns.heatmap(corr, xticklabels=corr.columns, yticklabels=corr.columns, annot=True, cmap=sns.diverging_palette(220, 20, as_cmap=True))\n",
    "plt.show()"
   ]
  },
  {
   "cell_type": "markdown",
   "metadata": {
    "id": "xDIxb75WRVO-"
   },
   "source": [
    "### 2. (1)Describe the dataset and show:"
   ]
  },
  {
   "cell_type": "markdown",
   "metadata": {
    "id": "STDFJpcqRVO-"
   },
   "source": [
    "#### small preprossesing to check the data distribution and Describe it better in variable df0"
   ]
  },
  {
   "cell_type": "code",
   "execution_count": 11,
   "metadata": {
    "colab": {
     "base_uri": "https://localhost:8080/",
     "height": 424
    },
    "executionInfo": {
     "elapsed": 76,
     "status": "ok",
     "timestamp": 1715365636425,
     "user": {
      "displayName": "Ammar Shihi",
      "userId": "09931002932639687714"
     },
     "user_tz": -180
    },
    "id": "TI95k32JRVO-",
    "outputId": "e1d62aba-3dd1-40d4-8dd9-97beaf73813b"
   },
   "outputs": [
    {
     "data": {
      "text/html": [
       "<div>\n",
       "<style scoped>\n",
       "    .dataframe tbody tr th:only-of-type {\n",
       "        vertical-align: middle;\n",
       "    }\n",
       "\n",
       "    .dataframe tbody tr th {\n",
       "        vertical-align: top;\n",
       "    }\n",
       "\n",
       "    .dataframe thead th {\n",
       "        text-align: right;\n",
       "    }\n",
       "</style>\n",
       "<table border=\"1\" class=\"dataframe\">\n",
       "  <thead>\n",
       "    <tr style=\"text-align: right;\">\n",
       "      <th></th>\n",
       "      <th>id</th>\n",
       "      <th>date_account_created</th>\n",
       "      <th>timestamp_first_active</th>\n",
       "      <th>date_first_booking</th>\n",
       "      <th>gender</th>\n",
       "      <th>age</th>\n",
       "      <th>signup_method</th>\n",
       "      <th>signup_flow</th>\n",
       "      <th>language</th>\n",
       "      <th>affiliate_channel</th>\n",
       "      <th>affiliate_provider</th>\n",
       "      <th>first_affiliate_tracked</th>\n",
       "      <th>signup_app</th>\n",
       "      <th>first_device_type</th>\n",
       "      <th>first_browser</th>\n",
       "      <th>country_destination</th>\n",
       "    </tr>\n",
       "  </thead>\n",
       "  <tbody>\n",
       "    <tr>\n",
       "      <th>0</th>\n",
       "      <td>gxn3p5htnn</td>\n",
       "      <td>6/28/2010</td>\n",
       "      <td>2.009030e+13</td>\n",
       "      <td>NaN</td>\n",
       "      <td>-unknown-</td>\n",
       "      <td>NaN</td>\n",
       "      <td>facebook</td>\n",
       "      <td>0</td>\n",
       "      <td>en</td>\n",
       "      <td>direct</td>\n",
       "      <td>direct</td>\n",
       "      <td>untracked</td>\n",
       "      <td>Web</td>\n",
       "      <td>Mac Desktop</td>\n",
       "      <td>Chrome</td>\n",
       "      <td>NDF</td>\n",
       "    </tr>\n",
       "    <tr>\n",
       "      <th>1</th>\n",
       "      <td>820tgsjxq7</td>\n",
       "      <td>5/25/2011</td>\n",
       "      <td>2.009050e+13</td>\n",
       "      <td>NaN</td>\n",
       "      <td>MALE</td>\n",
       "      <td>38.0</td>\n",
       "      <td>facebook</td>\n",
       "      <td>0</td>\n",
       "      <td>en</td>\n",
       "      <td>seo</td>\n",
       "      <td>google</td>\n",
       "      <td>untracked</td>\n",
       "      <td>Web</td>\n",
       "      <td>Mac Desktop</td>\n",
       "      <td>Chrome</td>\n",
       "      <td>NDF</td>\n",
       "    </tr>\n",
       "    <tr>\n",
       "      <th>2</th>\n",
       "      <td>4ft3gnwmtx</td>\n",
       "      <td>9/28/2010</td>\n",
       "      <td>2.009060e+13</td>\n",
       "      <td>8/2/2010</td>\n",
       "      <td>FEMALE</td>\n",
       "      <td>56.0</td>\n",
       "      <td>basic</td>\n",
       "      <td>3</td>\n",
       "      <td>en</td>\n",
       "      <td>direct</td>\n",
       "      <td>direct</td>\n",
       "      <td>untracked</td>\n",
       "      <td>Web</td>\n",
       "      <td>Windows Desktop</td>\n",
       "      <td>IE</td>\n",
       "      <td>US</td>\n",
       "    </tr>\n",
       "    <tr>\n",
       "      <th>3</th>\n",
       "      <td>bjjt8pjhuk</td>\n",
       "      <td>12/5/2011</td>\n",
       "      <td>2.009100e+13</td>\n",
       "      <td>9/8/2012</td>\n",
       "      <td>FEMALE</td>\n",
       "      <td>42.0</td>\n",
       "      <td>facebook</td>\n",
       "      <td>0</td>\n",
       "      <td>en</td>\n",
       "      <td>direct</td>\n",
       "      <td>direct</td>\n",
       "      <td>untracked</td>\n",
       "      <td>Web</td>\n",
       "      <td>Mac Desktop</td>\n",
       "      <td>Firefox</td>\n",
       "      <td>other</td>\n",
       "    </tr>\n",
       "    <tr>\n",
       "      <th>4</th>\n",
       "      <td>87mebub9p4</td>\n",
       "      <td>9/14/2010</td>\n",
       "      <td>2.009120e+13</td>\n",
       "      <td>2/18/2010</td>\n",
       "      <td>-unknown-</td>\n",
       "      <td>41.0</td>\n",
       "      <td>basic</td>\n",
       "      <td>0</td>\n",
       "      <td>en</td>\n",
       "      <td>direct</td>\n",
       "      <td>direct</td>\n",
       "      <td>untracked</td>\n",
       "      <td>Web</td>\n",
       "      <td>Mac Desktop</td>\n",
       "      <td>Chrome</td>\n",
       "      <td>US</td>\n",
       "    </tr>\n",
       "    <tr>\n",
       "      <th>...</th>\n",
       "      <td>...</td>\n",
       "      <td>...</td>\n",
       "      <td>...</td>\n",
       "      <td>...</td>\n",
       "      <td>...</td>\n",
       "      <td>...</td>\n",
       "      <td>...</td>\n",
       "      <td>...</td>\n",
       "      <td>...</td>\n",
       "      <td>...</td>\n",
       "      <td>...</td>\n",
       "      <td>...</td>\n",
       "      <td>...</td>\n",
       "      <td>...</td>\n",
       "      <td>...</td>\n",
       "      <td>...</td>\n",
       "    </tr>\n",
       "    <tr>\n",
       "      <th>213446</th>\n",
       "      <td>zxodksqpep</td>\n",
       "      <td>6/30/2014</td>\n",
       "      <td>2.014060e+13</td>\n",
       "      <td>NaN</td>\n",
       "      <td>MALE</td>\n",
       "      <td>32.0</td>\n",
       "      <td>basic</td>\n",
       "      <td>0</td>\n",
       "      <td>en</td>\n",
       "      <td>sem-brand</td>\n",
       "      <td>google</td>\n",
       "      <td>omg</td>\n",
       "      <td>Web</td>\n",
       "      <td>Mac Desktop</td>\n",
       "      <td>Safari</td>\n",
       "      <td>NDF</td>\n",
       "    </tr>\n",
       "    <tr>\n",
       "      <th>213447</th>\n",
       "      <td>mhewnxesx9</td>\n",
       "      <td>6/30/2014</td>\n",
       "      <td>2.014060e+13</td>\n",
       "      <td>NaN</td>\n",
       "      <td>-unknown-</td>\n",
       "      <td>NaN</td>\n",
       "      <td>basic</td>\n",
       "      <td>0</td>\n",
       "      <td>en</td>\n",
       "      <td>direct</td>\n",
       "      <td>direct</td>\n",
       "      <td>linked</td>\n",
       "      <td>Web</td>\n",
       "      <td>Windows Desktop</td>\n",
       "      <td>Chrome</td>\n",
       "      <td>NDF</td>\n",
       "    </tr>\n",
       "    <tr>\n",
       "      <th>213448</th>\n",
       "      <td>6o3arsjbb4</td>\n",
       "      <td>6/30/2014</td>\n",
       "      <td>2.014060e+13</td>\n",
       "      <td>NaN</td>\n",
       "      <td>-unknown-</td>\n",
       "      <td>32.0</td>\n",
       "      <td>basic</td>\n",
       "      <td>0</td>\n",
       "      <td>en</td>\n",
       "      <td>direct</td>\n",
       "      <td>direct</td>\n",
       "      <td>untracked</td>\n",
       "      <td>Web</td>\n",
       "      <td>Mac Desktop</td>\n",
       "      <td>Firefox</td>\n",
       "      <td>NDF</td>\n",
       "    </tr>\n",
       "    <tr>\n",
       "      <th>213449</th>\n",
       "      <td>jh95kwisub</td>\n",
       "      <td>6/30/2014</td>\n",
       "      <td>2.014060e+13</td>\n",
       "      <td>NaN</td>\n",
       "      <td>-unknown-</td>\n",
       "      <td>NaN</td>\n",
       "      <td>basic</td>\n",
       "      <td>25</td>\n",
       "      <td>en</td>\n",
       "      <td>other</td>\n",
       "      <td>other</td>\n",
       "      <td>tracked-other</td>\n",
       "      <td>iOS</td>\n",
       "      <td>iPhone</td>\n",
       "      <td>Mobile Safari</td>\n",
       "      <td>NDF</td>\n",
       "    </tr>\n",
       "    <tr>\n",
       "      <th>213450</th>\n",
       "      <td>nw9fwlyb5f</td>\n",
       "      <td>6/30/2014</td>\n",
       "      <td>2.014060e+13</td>\n",
       "      <td>NaN</td>\n",
       "      <td>-unknown-</td>\n",
       "      <td>NaN</td>\n",
       "      <td>basic</td>\n",
       "      <td>25</td>\n",
       "      <td>en</td>\n",
       "      <td>direct</td>\n",
       "      <td>direct</td>\n",
       "      <td>untracked</td>\n",
       "      <td>iOS</td>\n",
       "      <td>iPhone</td>\n",
       "      <td>-unknown-</td>\n",
       "      <td>NDF</td>\n",
       "    </tr>\n",
       "  </tbody>\n",
       "</table>\n",
       "<p>213451 rows × 16 columns</p>\n",
       "</div>"
      ],
      "text/plain": [
       "                id date_account_created  timestamp_first_active  \\\n",
       "0       gxn3p5htnn            6/28/2010            2.009030e+13   \n",
       "1       820tgsjxq7            5/25/2011            2.009050e+13   \n",
       "2       4ft3gnwmtx            9/28/2010            2.009060e+13   \n",
       "3       bjjt8pjhuk            12/5/2011            2.009100e+13   \n",
       "4       87mebub9p4            9/14/2010            2.009120e+13   \n",
       "...            ...                  ...                     ...   \n",
       "213446  zxodksqpep            6/30/2014            2.014060e+13   \n",
       "213447  mhewnxesx9            6/30/2014            2.014060e+13   \n",
       "213448  6o3arsjbb4            6/30/2014            2.014060e+13   \n",
       "213449  jh95kwisub            6/30/2014            2.014060e+13   \n",
       "213450  nw9fwlyb5f            6/30/2014            2.014060e+13   \n",
       "\n",
       "       date_first_booking     gender   age signup_method  signup_flow  \\\n",
       "0                     NaN  -unknown-   NaN      facebook            0   \n",
       "1                     NaN       MALE  38.0      facebook            0   \n",
       "2                8/2/2010     FEMALE  56.0         basic            3   \n",
       "3                9/8/2012     FEMALE  42.0      facebook            0   \n",
       "4               2/18/2010  -unknown-  41.0         basic            0   \n",
       "...                   ...        ...   ...           ...          ...   \n",
       "213446                NaN       MALE  32.0         basic            0   \n",
       "213447                NaN  -unknown-   NaN         basic            0   \n",
       "213448                NaN  -unknown-  32.0         basic            0   \n",
       "213449                NaN  -unknown-   NaN         basic           25   \n",
       "213450                NaN  -unknown-   NaN         basic           25   \n",
       "\n",
       "       language affiliate_channel affiliate_provider first_affiliate_tracked  \\\n",
       "0            en            direct             direct               untracked   \n",
       "1            en               seo             google               untracked   \n",
       "2            en            direct             direct               untracked   \n",
       "3            en            direct             direct               untracked   \n",
       "4            en            direct             direct               untracked   \n",
       "...         ...               ...                ...                     ...   \n",
       "213446       en         sem-brand             google                     omg   \n",
       "213447       en            direct             direct                  linked   \n",
       "213448       en            direct             direct               untracked   \n",
       "213449       en             other              other           tracked-other   \n",
       "213450       en            direct             direct               untracked   \n",
       "\n",
       "       signup_app first_device_type  first_browser country_destination  \n",
       "0             Web       Mac Desktop         Chrome                 NDF  \n",
       "1             Web       Mac Desktop         Chrome                 NDF  \n",
       "2             Web   Windows Desktop             IE                  US  \n",
       "3             Web       Mac Desktop        Firefox               other  \n",
       "4             Web       Mac Desktop         Chrome                  US  \n",
       "...           ...               ...            ...                 ...  \n",
       "213446        Web       Mac Desktop         Safari                 NDF  \n",
       "213447        Web   Windows Desktop         Chrome                 NDF  \n",
       "213448        Web       Mac Desktop        Firefox                 NDF  \n",
       "213449        iOS            iPhone  Mobile Safari                 NDF  \n",
       "213450        iOS            iPhone      -unknown-                 NDF  \n",
       "\n",
       "[213451 rows x 16 columns]"
      ]
     },
     "execution_count": 11,
     "metadata": {},
     "output_type": "execute_result"
    }
   ],
   "source": [
    "df"
   ]
  },
  {
   "cell_type": "code",
   "execution_count": 12,
   "metadata": {
    "executionInfo": {
     "elapsed": 58,
     "status": "ok",
     "timestamp": 1715365636426,
     "user": {
      "displayName": "Ammar Shihi",
      "userId": "09931002932639687714"
     },
     "user_tz": -180
    },
    "id": "IsoxmZKRRVO_"
   },
   "outputs": [],
   "source": [
    "df['timestamp_first_active'] = pd.to_datetime(df['timestamp_first_active']) #Correcting the datetime timestamp variable\n",
    "df['date_account_created'] = pd.to_datetime(df['date_account_created'])     #Correcting the datetime timestamp variable\n",
    "df['date_first_booking'] = pd.to_datetime(df['date_first_booking'])         #Correcting the datetime timestamp variable"
   ]
  },
  {
   "cell_type": "code",
   "execution_count": 13,
   "metadata": {
    "colab": {
     "base_uri": "https://localhost:8080/",
     "height": 424
    },
    "executionInfo": {
     "elapsed": 58,
     "status": "ok",
     "timestamp": 1715365636426,
     "user": {
      "displayName": "Ammar Shihi",
      "userId": "09931002932639687714"
     },
     "user_tz": -180
    },
    "id": "D4qUy331RVO_",
    "outputId": "9f7ea89e-1ab8-4e93-e7af-30d1ce7ce7df"
   },
   "outputs": [
    {
     "data": {
      "text/html": [
       "<div>\n",
       "<style scoped>\n",
       "    .dataframe tbody tr th:only-of-type {\n",
       "        vertical-align: middle;\n",
       "    }\n",
       "\n",
       "    .dataframe tbody tr th {\n",
       "        vertical-align: top;\n",
       "    }\n",
       "\n",
       "    .dataframe thead th {\n",
       "        text-align: right;\n",
       "    }\n",
       "</style>\n",
       "<table border=\"1\" class=\"dataframe\">\n",
       "  <thead>\n",
       "    <tr style=\"text-align: right;\">\n",
       "      <th></th>\n",
       "      <th>id</th>\n",
       "      <th>date_account_created</th>\n",
       "      <th>timestamp_first_active</th>\n",
       "      <th>date_first_booking</th>\n",
       "      <th>gender</th>\n",
       "      <th>age</th>\n",
       "      <th>signup_method</th>\n",
       "      <th>signup_flow</th>\n",
       "      <th>language</th>\n",
       "      <th>affiliate_channel</th>\n",
       "      <th>affiliate_provider</th>\n",
       "      <th>first_affiliate_tracked</th>\n",
       "      <th>signup_app</th>\n",
       "      <th>first_device_type</th>\n",
       "      <th>first_browser</th>\n",
       "      <th>country_destination</th>\n",
       "    </tr>\n",
       "  </thead>\n",
       "  <tbody>\n",
       "    <tr>\n",
       "      <th>0</th>\n",
       "      <td>gxn3p5htnn</td>\n",
       "      <td>2010-06-28</td>\n",
       "      <td>1970-01-01 05:34:50.300</td>\n",
       "      <td>NaT</td>\n",
       "      <td>-unknown-</td>\n",
       "      <td>NaN</td>\n",
       "      <td>facebook</td>\n",
       "      <td>0</td>\n",
       "      <td>en</td>\n",
       "      <td>direct</td>\n",
       "      <td>direct</td>\n",
       "      <td>untracked</td>\n",
       "      <td>Web</td>\n",
       "      <td>Mac Desktop</td>\n",
       "      <td>Chrome</td>\n",
       "      <td>NDF</td>\n",
       "    </tr>\n",
       "    <tr>\n",
       "      <th>1</th>\n",
       "      <td>820tgsjxq7</td>\n",
       "      <td>2011-05-25</td>\n",
       "      <td>1970-01-01 05:34:50.500</td>\n",
       "      <td>NaT</td>\n",
       "      <td>MALE</td>\n",
       "      <td>38.0</td>\n",
       "      <td>facebook</td>\n",
       "      <td>0</td>\n",
       "      <td>en</td>\n",
       "      <td>seo</td>\n",
       "      <td>google</td>\n",
       "      <td>untracked</td>\n",
       "      <td>Web</td>\n",
       "      <td>Mac Desktop</td>\n",
       "      <td>Chrome</td>\n",
       "      <td>NDF</td>\n",
       "    </tr>\n",
       "    <tr>\n",
       "      <th>2</th>\n",
       "      <td>4ft3gnwmtx</td>\n",
       "      <td>2010-09-28</td>\n",
       "      <td>1970-01-01 05:34:50.600</td>\n",
       "      <td>2010-08-02</td>\n",
       "      <td>FEMALE</td>\n",
       "      <td>56.0</td>\n",
       "      <td>basic</td>\n",
       "      <td>3</td>\n",
       "      <td>en</td>\n",
       "      <td>direct</td>\n",
       "      <td>direct</td>\n",
       "      <td>untracked</td>\n",
       "      <td>Web</td>\n",
       "      <td>Windows Desktop</td>\n",
       "      <td>IE</td>\n",
       "      <td>US</td>\n",
       "    </tr>\n",
       "    <tr>\n",
       "      <th>3</th>\n",
       "      <td>bjjt8pjhuk</td>\n",
       "      <td>2011-12-05</td>\n",
       "      <td>1970-01-01 05:34:51.000</td>\n",
       "      <td>2012-09-08</td>\n",
       "      <td>FEMALE</td>\n",
       "      <td>42.0</td>\n",
       "      <td>facebook</td>\n",
       "      <td>0</td>\n",
       "      <td>en</td>\n",
       "      <td>direct</td>\n",
       "      <td>direct</td>\n",
       "      <td>untracked</td>\n",
       "      <td>Web</td>\n",
       "      <td>Mac Desktop</td>\n",
       "      <td>Firefox</td>\n",
       "      <td>other</td>\n",
       "    </tr>\n",
       "    <tr>\n",
       "      <th>4</th>\n",
       "      <td>87mebub9p4</td>\n",
       "      <td>2010-09-14</td>\n",
       "      <td>1970-01-01 05:34:51.200</td>\n",
       "      <td>2010-02-18</td>\n",
       "      <td>-unknown-</td>\n",
       "      <td>41.0</td>\n",
       "      <td>basic</td>\n",
       "      <td>0</td>\n",
       "      <td>en</td>\n",
       "      <td>direct</td>\n",
       "      <td>direct</td>\n",
       "      <td>untracked</td>\n",
       "      <td>Web</td>\n",
       "      <td>Mac Desktop</td>\n",
       "      <td>Chrome</td>\n",
       "      <td>US</td>\n",
       "    </tr>\n",
       "    <tr>\n",
       "      <th>...</th>\n",
       "      <td>...</td>\n",
       "      <td>...</td>\n",
       "      <td>...</td>\n",
       "      <td>...</td>\n",
       "      <td>...</td>\n",
       "      <td>...</td>\n",
       "      <td>...</td>\n",
       "      <td>...</td>\n",
       "      <td>...</td>\n",
       "      <td>...</td>\n",
       "      <td>...</td>\n",
       "      <td>...</td>\n",
       "      <td>...</td>\n",
       "      <td>...</td>\n",
       "      <td>...</td>\n",
       "      <td>...</td>\n",
       "    </tr>\n",
       "    <tr>\n",
       "      <th>213446</th>\n",
       "      <td>zxodksqpep</td>\n",
       "      <td>2014-06-30</td>\n",
       "      <td>1970-01-01 05:35:40.600</td>\n",
       "      <td>NaT</td>\n",
       "      <td>MALE</td>\n",
       "      <td>32.0</td>\n",
       "      <td>basic</td>\n",
       "      <td>0</td>\n",
       "      <td>en</td>\n",
       "      <td>sem-brand</td>\n",
       "      <td>google</td>\n",
       "      <td>omg</td>\n",
       "      <td>Web</td>\n",
       "      <td>Mac Desktop</td>\n",
       "      <td>Safari</td>\n",
       "      <td>NDF</td>\n",
       "    </tr>\n",
       "    <tr>\n",
       "      <th>213447</th>\n",
       "      <td>mhewnxesx9</td>\n",
       "      <td>2014-06-30</td>\n",
       "      <td>1970-01-01 05:35:40.600</td>\n",
       "      <td>NaT</td>\n",
       "      <td>-unknown-</td>\n",
       "      <td>NaN</td>\n",
       "      <td>basic</td>\n",
       "      <td>0</td>\n",
       "      <td>en</td>\n",
       "      <td>direct</td>\n",
       "      <td>direct</td>\n",
       "      <td>linked</td>\n",
       "      <td>Web</td>\n",
       "      <td>Windows Desktop</td>\n",
       "      <td>Chrome</td>\n",
       "      <td>NDF</td>\n",
       "    </tr>\n",
       "    <tr>\n",
       "      <th>213448</th>\n",
       "      <td>6o3arsjbb4</td>\n",
       "      <td>2014-06-30</td>\n",
       "      <td>1970-01-01 05:35:40.600</td>\n",
       "      <td>NaT</td>\n",
       "      <td>-unknown-</td>\n",
       "      <td>32.0</td>\n",
       "      <td>basic</td>\n",
       "      <td>0</td>\n",
       "      <td>en</td>\n",
       "      <td>direct</td>\n",
       "      <td>direct</td>\n",
       "      <td>untracked</td>\n",
       "      <td>Web</td>\n",
       "      <td>Mac Desktop</td>\n",
       "      <td>Firefox</td>\n",
       "      <td>NDF</td>\n",
       "    </tr>\n",
       "    <tr>\n",
       "      <th>213449</th>\n",
       "      <td>jh95kwisub</td>\n",
       "      <td>2014-06-30</td>\n",
       "      <td>1970-01-01 05:35:40.600</td>\n",
       "      <td>NaT</td>\n",
       "      <td>-unknown-</td>\n",
       "      <td>NaN</td>\n",
       "      <td>basic</td>\n",
       "      <td>25</td>\n",
       "      <td>en</td>\n",
       "      <td>other</td>\n",
       "      <td>other</td>\n",
       "      <td>tracked-other</td>\n",
       "      <td>iOS</td>\n",
       "      <td>iPhone</td>\n",
       "      <td>Mobile Safari</td>\n",
       "      <td>NDF</td>\n",
       "    </tr>\n",
       "    <tr>\n",
       "      <th>213450</th>\n",
       "      <td>nw9fwlyb5f</td>\n",
       "      <td>2014-06-30</td>\n",
       "      <td>1970-01-01 05:35:40.600</td>\n",
       "      <td>NaT</td>\n",
       "      <td>-unknown-</td>\n",
       "      <td>NaN</td>\n",
       "      <td>basic</td>\n",
       "      <td>25</td>\n",
       "      <td>en</td>\n",
       "      <td>direct</td>\n",
       "      <td>direct</td>\n",
       "      <td>untracked</td>\n",
       "      <td>iOS</td>\n",
       "      <td>iPhone</td>\n",
       "      <td>-unknown-</td>\n",
       "      <td>NDF</td>\n",
       "    </tr>\n",
       "  </tbody>\n",
       "</table>\n",
       "<p>213451 rows × 16 columns</p>\n",
       "</div>"
      ],
      "text/plain": [
       "                id date_account_created  timestamp_first_active  \\\n",
       "0       gxn3p5htnn           2010-06-28 1970-01-01 05:34:50.300   \n",
       "1       820tgsjxq7           2011-05-25 1970-01-01 05:34:50.500   \n",
       "2       4ft3gnwmtx           2010-09-28 1970-01-01 05:34:50.600   \n",
       "3       bjjt8pjhuk           2011-12-05 1970-01-01 05:34:51.000   \n",
       "4       87mebub9p4           2010-09-14 1970-01-01 05:34:51.200   \n",
       "...            ...                  ...                     ...   \n",
       "213446  zxodksqpep           2014-06-30 1970-01-01 05:35:40.600   \n",
       "213447  mhewnxesx9           2014-06-30 1970-01-01 05:35:40.600   \n",
       "213448  6o3arsjbb4           2014-06-30 1970-01-01 05:35:40.600   \n",
       "213449  jh95kwisub           2014-06-30 1970-01-01 05:35:40.600   \n",
       "213450  nw9fwlyb5f           2014-06-30 1970-01-01 05:35:40.600   \n",
       "\n",
       "       date_first_booking     gender   age signup_method  signup_flow  \\\n",
       "0                     NaT  -unknown-   NaN      facebook            0   \n",
       "1                     NaT       MALE  38.0      facebook            0   \n",
       "2              2010-08-02     FEMALE  56.0         basic            3   \n",
       "3              2012-09-08     FEMALE  42.0      facebook            0   \n",
       "4              2010-02-18  -unknown-  41.0         basic            0   \n",
       "...                   ...        ...   ...           ...          ...   \n",
       "213446                NaT       MALE  32.0         basic            0   \n",
       "213447                NaT  -unknown-   NaN         basic            0   \n",
       "213448                NaT  -unknown-  32.0         basic            0   \n",
       "213449                NaT  -unknown-   NaN         basic           25   \n",
       "213450                NaT  -unknown-   NaN         basic           25   \n",
       "\n",
       "       language affiliate_channel affiliate_provider first_affiliate_tracked  \\\n",
       "0            en            direct             direct               untracked   \n",
       "1            en               seo             google               untracked   \n",
       "2            en            direct             direct               untracked   \n",
       "3            en            direct             direct               untracked   \n",
       "4            en            direct             direct               untracked   \n",
       "...         ...               ...                ...                     ...   \n",
       "213446       en         sem-brand             google                     omg   \n",
       "213447       en            direct             direct                  linked   \n",
       "213448       en            direct             direct               untracked   \n",
       "213449       en             other              other           tracked-other   \n",
       "213450       en            direct             direct               untracked   \n",
       "\n",
       "       signup_app first_device_type  first_browser country_destination  \n",
       "0             Web       Mac Desktop         Chrome                 NDF  \n",
       "1             Web       Mac Desktop         Chrome                 NDF  \n",
       "2             Web   Windows Desktop             IE                  US  \n",
       "3             Web       Mac Desktop        Firefox               other  \n",
       "4             Web       Mac Desktop         Chrome                  US  \n",
       "...           ...               ...            ...                 ...  \n",
       "213446        Web       Mac Desktop         Safari                 NDF  \n",
       "213447        Web   Windows Desktop         Chrome                 NDF  \n",
       "213448        Web       Mac Desktop        Firefox                 NDF  \n",
       "213449        iOS            iPhone  Mobile Safari                 NDF  \n",
       "213450        iOS            iPhone      -unknown-                 NDF  \n",
       "\n",
       "[213451 rows x 16 columns]"
      ]
     },
     "execution_count": 13,
     "metadata": {},
     "output_type": "execute_result"
    }
   ],
   "source": [
    "df"
   ]
  },
  {
   "cell_type": "code",
   "execution_count": 14,
   "metadata": {
    "colab": {
     "base_uri": "https://localhost:8080/",
     "height": 301
    },
    "executionInfo": {
     "elapsed": 483,
     "status": "ok",
     "timestamp": 1715365636853,
     "user": {
      "displayName": "Ammar Shihi",
      "userId": "09931002932639687714"
     },
     "user_tz": -180
    },
    "id": "2Yt9fOuiRVO_",
    "outputId": "1c8ce947-4278-4b7a-c1a0-0f0296f54dcc"
   },
   "outputs": [
    {
     "data": {
      "text/html": [
       "<div>\n",
       "<style scoped>\n",
       "    .dataframe tbody tr th:only-of-type {\n",
       "        vertical-align: middle;\n",
       "    }\n",
       "\n",
       "    .dataframe tbody tr th {\n",
       "        vertical-align: top;\n",
       "    }\n",
       "\n",
       "    .dataframe thead th {\n",
       "        text-align: right;\n",
       "    }\n",
       "</style>\n",
       "<table border=\"1\" class=\"dataframe\">\n",
       "  <thead>\n",
       "    <tr style=\"text-align: right;\">\n",
       "      <th></th>\n",
       "      <th>age</th>\n",
       "      <th>signup_flow</th>\n",
       "    </tr>\n",
       "  </thead>\n",
       "  <tbody>\n",
       "    <tr>\n",
       "      <th>count</th>\n",
       "      <td>125461.000000</td>\n",
       "      <td>213451.000000</td>\n",
       "    </tr>\n",
       "    <tr>\n",
       "      <th>mean</th>\n",
       "      <td>49.668335</td>\n",
       "      <td>3.267387</td>\n",
       "    </tr>\n",
       "    <tr>\n",
       "      <th>std</th>\n",
       "      <td>155.666612</td>\n",
       "      <td>7.637707</td>\n",
       "    </tr>\n",
       "    <tr>\n",
       "      <th>min</th>\n",
       "      <td>1.000000</td>\n",
       "      <td>0.000000</td>\n",
       "    </tr>\n",
       "    <tr>\n",
       "      <th>25%</th>\n",
       "      <td>28.000000</td>\n",
       "      <td>0.000000</td>\n",
       "    </tr>\n",
       "    <tr>\n",
       "      <th>50%</th>\n",
       "      <td>34.000000</td>\n",
       "      <td>0.000000</td>\n",
       "    </tr>\n",
       "    <tr>\n",
       "      <th>75%</th>\n",
       "      <td>43.000000</td>\n",
       "      <td>0.000000</td>\n",
       "    </tr>\n",
       "    <tr>\n",
       "      <th>max</th>\n",
       "      <td>2014.000000</td>\n",
       "      <td>25.000000</td>\n",
       "    </tr>\n",
       "  </tbody>\n",
       "</table>\n",
       "</div>"
      ],
      "text/plain": [
       "                 age    signup_flow\n",
       "count  125461.000000  213451.000000\n",
       "mean       49.668335       3.267387\n",
       "std       155.666612       7.637707\n",
       "min         1.000000       0.000000\n",
       "25%        28.000000       0.000000\n",
       "50%        34.000000       0.000000\n",
       "75%        43.000000       0.000000\n",
       "max      2014.000000      25.000000"
      ]
     },
     "execution_count": 14,
     "metadata": {},
     "output_type": "execute_result"
    }
   ],
   "source": [
    "df.describe()"
   ]
  },
  {
   "cell_type": "code",
   "execution_count": 15,
   "metadata": {
    "colab": {
     "base_uri": "https://localhost:8080/"
    },
    "executionInfo": {
     "elapsed": 13,
     "status": "ok",
     "timestamp": 1715365636854,
     "user": {
      "displayName": "Ammar Shihi",
      "userId": "09931002932639687714"
     },
     "user_tz": -180
    },
    "id": "7gPL4-34RVO_",
    "outputId": "9b3462c4-7dbc-48a9-ae12-bb0c26a47556"
   },
   "outputs": [
    {
     "name": "stdout",
     "output_type": "stream",
     "text": [
      "<class 'pandas.core.frame.DataFrame'>\n",
      "RangeIndex: 213451 entries, 0 to 213450\n",
      "Data columns (total 16 columns):\n",
      " #   Column                   Non-Null Count   Dtype         \n",
      "---  ------                   --------------   -----         \n",
      " 0   id                       213451 non-null  object        \n",
      " 1   date_account_created     213451 non-null  datetime64[ns]\n",
      " 2   timestamp_first_active   213451 non-null  datetime64[ns]\n",
      " 3   date_first_booking       88908 non-null   datetime64[ns]\n",
      " 4   gender                   213434 non-null  object        \n",
      " 5   age                      125461 non-null  float64       \n",
      " 6   signup_method            213451 non-null  object        \n",
      " 7   signup_flow              213451 non-null  int64         \n",
      " 8   language                 213451 non-null  object        \n",
      " 9   affiliate_channel        213436 non-null  object        \n",
      " 10  affiliate_provider       213451 non-null  object        \n",
      " 11  first_affiliate_tracked  207386 non-null  object        \n",
      " 12  signup_app               213451 non-null  object        \n",
      " 13  first_device_type        213451 non-null  object        \n",
      " 14  first_browser            213451 non-null  object        \n",
      " 15  country_destination      213451 non-null  object        \n",
      "dtypes: datetime64[ns](3), float64(1), int64(1), object(11)\n",
      "memory usage: 26.1+ MB\n"
     ]
    }
   ],
   "source": [
    "df.info()"
   ]
  },
  {
   "cell_type": "code",
   "execution_count": 16,
   "metadata": {
    "colab": {
     "base_uri": "https://localhost:8080/"
    },
    "executionInfo": {
     "elapsed": 10,
     "status": "ok",
     "timestamp": 1715365636854,
     "user": {
      "displayName": "Ammar Shihi",
      "userId": "09931002932639687714"
     },
     "user_tz": -180
    },
    "id": "5T3xO3k1RVO_",
    "outputId": "83471c4f-6c6b-4f0c-dea4-287c6e9b1d65",
    "scrolled": true
   },
   "outputs": [
    {
     "name": "stdout",
     "output_type": "stream",
     "text": [
      "id                              0\n",
      "date_account_created            0\n",
      "timestamp_first_active          0\n",
      "date_first_booking         124543\n",
      "gender                         17\n",
      "age                         87990\n",
      "signup_method                   0\n",
      "signup_flow                     0\n",
      "language                        0\n",
      "affiliate_channel              15\n",
      "affiliate_provider              0\n",
      "first_affiliate_tracked      6065\n",
      "signup_app                      0\n",
      "first_device_type               0\n",
      "first_browser                   0\n",
      "country_destination             0\n",
      "dtype: int64\n"
     ]
    }
   ],
   "source": [
    "print(df.isna().sum())"
   ]
  },
  {
   "cell_type": "markdown",
   "metadata": {
    "id": "iTR5PXJARVO_"
   },
   "source": [
    "#### start of df0 for better understanding of the data"
   ]
  },
  {
   "cell_type": "code",
   "execution_count": 17,
   "metadata": {
    "executionInfo": {
     "elapsed": 9,
     "status": "ok",
     "timestamp": 1715365636856,
     "user": {
      "displayName": "Ammar Shihi",
      "userId": "09931002932639687714"
     },
     "user_tz": -180
    },
    "id": "JYrBbMxwRVO_"
   },
   "outputs": [],
   "source": [
    "# Drop date_first_booking column because more than half the values is missing in Variable df0\n",
    "df0 = df.copy()\n",
    "df0= df0.drop('date_first_booking', axis=1)"
   ]
  },
  {
   "cell_type": "code",
   "execution_count": 18,
   "metadata": {
    "colab": {
     "base_uri": "https://localhost:8080/"
    },
    "executionInfo": {
     "elapsed": 10,
     "status": "ok",
     "timestamp": 1715365636857,
     "user": {
      "displayName": "Ammar Shihi",
      "userId": "09931002932639687714"
     },
     "user_tz": -180
    },
    "id": "yFRh5_HmRVO_",
    "outputId": "921f6c68-4130-47a4-c29c-ccc6404e44c8"
   },
   "outputs": [
    {
     "name": "stdout",
     "output_type": "stream",
     "text": [
      "Count of each value in the 'gender' column: \n",
      "-unknown-    95678\n",
      "FEMALE       63035\n",
      "MALE         54439\n",
      "OTHER          282\n",
      "Name: gender, dtype: int64\n"
     ]
    }
   ],
   "source": [
    "# Drop Gender column, it doesn't have a lot of null values but most of the values are 'unknown'\n",
    "gender_counts = df0['gender'].value_counts()\n",
    "print(\"Count of each value in the 'gender' column: \")\n",
    "print(gender_counts)"
   ]
  },
  {
   "cell_type": "code",
   "execution_count": 19,
   "metadata": {
    "executionInfo": {
     "elapsed": 7,
     "status": "ok",
     "timestamp": 1715365637241,
     "user": {
      "displayName": "Ammar Shihi",
      "userId": "09931002932639687714"
     },
     "user_tz": -180
    },
    "id": "lzAKZPTpRVPA"
   },
   "outputs": [],
   "source": [
    "df0 = df0.drop('gender', axis=1)"
   ]
  },
  {
   "cell_type": "code",
   "execution_count": 20,
   "metadata": {
    "executionInfo": {
     "elapsed": 5,
     "status": "ok",
     "timestamp": 1715365637241,
     "user": {
      "displayName": "Ammar Shihi",
      "userId": "09931002932639687714"
     },
     "user_tz": -180
    },
    "id": "NPN4sbYjRVPA"
   },
   "outputs": [],
   "source": [
    "# Fill missing values of age column by the age mean\n",
    "age_mean = df['age'].mean()\n",
    "df0['age'] = df0['age'].fillna(age_mean)\n",
    "\n",
    "# Drop affiliate_channel\n",
    "df0 = df0.dropna(subset=['affiliate_channel'])"
   ]
  },
  {
   "cell_type": "code",
   "execution_count": 21,
   "metadata": {
    "colab": {
     "base_uri": "https://localhost:8080/"
    },
    "executionInfo": {
     "elapsed": 474,
     "status": "ok",
     "timestamp": 1715365637711,
     "user": {
      "displayName": "Ammar Shihi",
      "userId": "09931002932639687714"
     },
     "user_tz": -180
    },
    "id": "Qyq07wCmRVPA",
    "outputId": "b2279e72-67ce-4370-b6a7-cd5aa96e341d",
    "scrolled": true
   },
   "outputs": [
    {
     "name": "stdout",
     "output_type": "stream",
     "text": [
      "Count of each value in the 'first_affiliate_tracked' column: \n",
      "untracked        109225\n",
      "linked            46285\n",
      "omg               43981\n",
      "tracked-other      6156\n",
      "product            1556\n",
      "marketing           139\n",
      "local ops            34\n",
      "Name: first_affiliate_tracked, dtype: int64\n"
     ]
    }
   ],
   "source": [
    "# fill first_affiliate_tracked by the most common value which is '\n",
    "first_affiliate_tracked  = df0['first_affiliate_tracked'].value_counts()\n",
    "print(\"Count of each value in the 'first_affiliate_tracked' column: \")\n",
    "print(first_affiliate_tracked)"
   ]
  },
  {
   "cell_type": "code",
   "execution_count": 22,
   "metadata": {
    "colab": {
     "base_uri": "https://localhost:8080/"
    },
    "executionInfo": {
     "elapsed": 9,
     "status": "ok",
     "timestamp": 1715365638121,
     "user": {
      "displayName": "Ammar Shihi",
      "userId": "09931002932639687714"
     },
     "user_tz": -180
    },
    "id": "wO5LSx64RVPA",
    "outputId": "d35943c0-f81d-4859-9074-0f37a480b6e7"
   },
   "outputs": [
    {
     "name": "stdout",
     "output_type": "stream",
     "text": [
      "id                            0\n",
      "date_account_created          0\n",
      "timestamp_first_active        0\n",
      "age                           0\n",
      "signup_method                 0\n",
      "signup_flow                   0\n",
      "language                      0\n",
      "affiliate_channel             0\n",
      "affiliate_provider            0\n",
      "first_affiliate_tracked    6060\n",
      "signup_app                    0\n",
      "first_device_type             0\n",
      "first_browser                 0\n",
      "country_destination           0\n",
      "dtype: int64\n"
     ]
    }
   ],
   "source": [
    "print(df0.isna().sum())"
   ]
  },
  {
   "cell_type": "code",
   "execution_count": 23,
   "metadata": {
    "colab": {
     "base_uri": "https://localhost:8080/"
    },
    "executionInfo": {
     "elapsed": 409,
     "status": "ok",
     "timestamp": 1715365638527,
     "user": {
      "displayName": "Ammar Shihi",
      "userId": "09931002932639687714"
     },
     "user_tz": -180
    },
    "id": "0QpqUUv0RVPA",
    "outputId": "81ff4c58-1a66-42e8-cff0-de44461fe0ef"
   },
   "outputs": [
    {
     "name": "stdout",
     "output_type": "stream",
     "text": [
      "id                         0\n",
      "date_account_created       0\n",
      "timestamp_first_active     0\n",
      "age                        0\n",
      "signup_method              0\n",
      "signup_flow                0\n",
      "language                   0\n",
      "affiliate_channel          0\n",
      "affiliate_provider         0\n",
      "first_affiliate_tracked    0\n",
      "signup_app                 0\n",
      "first_device_type          0\n",
      "first_browser              0\n",
      "country_destination        0\n",
      "dtype: int64\n"
     ]
    }
   ],
   "source": [
    "df0['first_affiliate_tracked'] = df0['first_affiliate_tracked'].fillna('untracked')\n",
    "print(df0.isna().sum())"
   ]
  },
  {
   "cell_type": "code",
   "execution_count": 24,
   "metadata": {
    "colab": {
     "base_uri": "https://localhost:8080/",
     "height": 318
    },
    "executionInfo": {
     "elapsed": 407,
     "status": "ok",
     "timestamp": 1715365638931,
     "user": {
      "displayName": "Ammar Shihi",
      "userId": "09931002932639687714"
     },
     "user_tz": -180
    },
    "id": "7rWAZb4DnOsJ",
    "outputId": "4978e67d-8c9d-41ca-d6fb-ddb91d67f6a2"
   },
   "outputs": [
    {
     "name": "stdout",
     "output_type": "stream",
     "text": [
      "Describing the Data:\n"
     ]
    },
    {
     "data": {
      "text/html": [
       "<div>\n",
       "<style scoped>\n",
       "    .dataframe tbody tr th:only-of-type {\n",
       "        vertical-align: middle;\n",
       "    }\n",
       "\n",
       "    .dataframe tbody tr th {\n",
       "        vertical-align: top;\n",
       "    }\n",
       "\n",
       "    .dataframe thead th {\n",
       "        text-align: right;\n",
       "    }\n",
       "</style>\n",
       "<table border=\"1\" class=\"dataframe\">\n",
       "  <thead>\n",
       "    <tr style=\"text-align: right;\">\n",
       "      <th></th>\n",
       "      <th>age</th>\n",
       "      <th>signup_flow</th>\n",
       "    </tr>\n",
       "  </thead>\n",
       "  <tbody>\n",
       "    <tr>\n",
       "      <th>count</th>\n",
       "      <td>213436.000000</td>\n",
       "      <td>213436.000000</td>\n",
       "    </tr>\n",
       "    <tr>\n",
       "      <th>mean</th>\n",
       "      <td>49.668951</td>\n",
       "      <td>3.267617</td>\n",
       "    </tr>\n",
       "    <tr>\n",
       "      <th>std</th>\n",
       "      <td>119.348000</td>\n",
       "      <td>7.637926</td>\n",
       "    </tr>\n",
       "    <tr>\n",
       "      <th>min</th>\n",
       "      <td>1.000000</td>\n",
       "      <td>0.000000</td>\n",
       "    </tr>\n",
       "    <tr>\n",
       "      <th>25%</th>\n",
       "      <td>32.000000</td>\n",
       "      <td>0.000000</td>\n",
       "    </tr>\n",
       "    <tr>\n",
       "      <th>50%</th>\n",
       "      <td>49.668335</td>\n",
       "      <td>0.000000</td>\n",
       "    </tr>\n",
       "    <tr>\n",
       "      <th>75%</th>\n",
       "      <td>49.668335</td>\n",
       "      <td>0.000000</td>\n",
       "    </tr>\n",
       "    <tr>\n",
       "      <th>max</th>\n",
       "      <td>2014.000000</td>\n",
       "      <td>25.000000</td>\n",
       "    </tr>\n",
       "  </tbody>\n",
       "</table>\n",
       "</div>"
      ],
      "text/plain": [
       "                 age    signup_flow\n",
       "count  213436.000000  213436.000000\n",
       "mean       49.668951       3.267617\n",
       "std       119.348000       7.637926\n",
       "min         1.000000       0.000000\n",
       "25%        32.000000       0.000000\n",
       "50%        49.668335       0.000000\n",
       "75%        49.668335       0.000000\n",
       "max      2014.000000      25.000000"
      ]
     },
     "execution_count": 24,
     "metadata": {},
     "output_type": "execute_result"
    }
   ],
   "source": [
    "print(\"Describing the Data:\")\n",
    "df0.describe()"
   ]
  },
  {
   "cell_type": "code",
   "execution_count": 25,
   "metadata": {
    "colab": {
     "base_uri": "https://localhost:8080/"
    },
    "executionInfo": {
     "elapsed": 375,
     "status": "ok",
     "timestamp": 1715365639293,
     "user": {
      "displayName": "Ammar Shihi",
      "userId": "09931002932639687714"
     },
     "user_tz": -180
    },
    "id": "do322t1UrRZ0",
    "outputId": "351dc33c-fea7-462e-b31f-c6f7ec166788"
   },
   "outputs": [
    {
     "name": "stdout",
     "output_type": "stream",
     "text": [
      "Data Info:\n",
      "<class 'pandas.core.frame.DataFrame'>\n",
      "Int64Index: 213436 entries, 0 to 213450\n",
      "Data columns (total 14 columns):\n",
      " #   Column                   Non-Null Count   Dtype         \n",
      "---  ------                   --------------   -----         \n",
      " 0   id                       213436 non-null  object        \n",
      " 1   date_account_created     213436 non-null  datetime64[ns]\n",
      " 2   timestamp_first_active   213436 non-null  datetime64[ns]\n",
      " 3   age                      213436 non-null  float64       \n",
      " 4   signup_method            213436 non-null  object        \n",
      " 5   signup_flow              213436 non-null  int64         \n",
      " 6   language                 213436 non-null  object        \n",
      " 7   affiliate_channel        213436 non-null  object        \n",
      " 8   affiliate_provider       213436 non-null  object        \n",
      " 9   first_affiliate_tracked  213436 non-null  object        \n",
      " 10  signup_app               213436 non-null  object        \n",
      " 11  first_device_type        213436 non-null  object        \n",
      " 12  first_browser            213436 non-null  object        \n",
      " 13  country_destination      213436 non-null  object        \n",
      "dtypes: datetime64[ns](2), float64(1), int64(1), object(10)\n",
      "memory usage: 24.4+ MB\n"
     ]
    }
   ],
   "source": [
    "print(\"Data Info:\")\n",
    "df0.info()"
   ]
  },
  {
   "cell_type": "code",
   "execution_count": 26,
   "metadata": {
    "colab": {
     "base_uri": "https://localhost:8080/",
     "height": 424
    },
    "executionInfo": {
     "elapsed": 412,
     "status": "ok",
     "timestamp": 1715365639703,
     "user": {
      "displayName": "Ammar Shihi",
      "userId": "09931002932639687714"
     },
     "user_tz": -180
    },
    "id": "U2S4aEfsRVPB",
    "outputId": "ac959d3a-3622-4fcd-a180-86455bb1554b"
   },
   "outputs": [
    {
     "data": {
      "text/html": [
       "<div>\n",
       "<style scoped>\n",
       "    .dataframe tbody tr th:only-of-type {\n",
       "        vertical-align: middle;\n",
       "    }\n",
       "\n",
       "    .dataframe tbody tr th {\n",
       "        vertical-align: top;\n",
       "    }\n",
       "\n",
       "    .dataframe thead th {\n",
       "        text-align: right;\n",
       "    }\n",
       "</style>\n",
       "<table border=\"1\" class=\"dataframe\">\n",
       "  <thead>\n",
       "    <tr style=\"text-align: right;\">\n",
       "      <th></th>\n",
       "      <th>id</th>\n",
       "      <th>date_account_created</th>\n",
       "      <th>timestamp_first_active</th>\n",
       "      <th>age</th>\n",
       "      <th>signup_method</th>\n",
       "      <th>signup_flow</th>\n",
       "      <th>language</th>\n",
       "      <th>affiliate_channel</th>\n",
       "      <th>affiliate_provider</th>\n",
       "      <th>first_affiliate_tracked</th>\n",
       "      <th>signup_app</th>\n",
       "      <th>first_device_type</th>\n",
       "      <th>first_browser</th>\n",
       "      <th>country_destination</th>\n",
       "    </tr>\n",
       "  </thead>\n",
       "  <tbody>\n",
       "    <tr>\n",
       "      <th>0</th>\n",
       "      <td>gxn3p5htnn</td>\n",
       "      <td>2010-06-28</td>\n",
       "      <td>1970-01-01 05:34:50.300</td>\n",
       "      <td>49.668335</td>\n",
       "      <td>facebook</td>\n",
       "      <td>0</td>\n",
       "      <td>en</td>\n",
       "      <td>direct</td>\n",
       "      <td>direct</td>\n",
       "      <td>untracked</td>\n",
       "      <td>Web</td>\n",
       "      <td>Mac Desktop</td>\n",
       "      <td>Chrome</td>\n",
       "      <td>NDF</td>\n",
       "    </tr>\n",
       "    <tr>\n",
       "      <th>1</th>\n",
       "      <td>820tgsjxq7</td>\n",
       "      <td>2011-05-25</td>\n",
       "      <td>1970-01-01 05:34:50.500</td>\n",
       "      <td>38.000000</td>\n",
       "      <td>facebook</td>\n",
       "      <td>0</td>\n",
       "      <td>en</td>\n",
       "      <td>seo</td>\n",
       "      <td>google</td>\n",
       "      <td>untracked</td>\n",
       "      <td>Web</td>\n",
       "      <td>Mac Desktop</td>\n",
       "      <td>Chrome</td>\n",
       "      <td>NDF</td>\n",
       "    </tr>\n",
       "    <tr>\n",
       "      <th>2</th>\n",
       "      <td>4ft3gnwmtx</td>\n",
       "      <td>2010-09-28</td>\n",
       "      <td>1970-01-01 05:34:50.600</td>\n",
       "      <td>56.000000</td>\n",
       "      <td>basic</td>\n",
       "      <td>3</td>\n",
       "      <td>en</td>\n",
       "      <td>direct</td>\n",
       "      <td>direct</td>\n",
       "      <td>untracked</td>\n",
       "      <td>Web</td>\n",
       "      <td>Windows Desktop</td>\n",
       "      <td>IE</td>\n",
       "      <td>US</td>\n",
       "    </tr>\n",
       "    <tr>\n",
       "      <th>3</th>\n",
       "      <td>bjjt8pjhuk</td>\n",
       "      <td>2011-12-05</td>\n",
       "      <td>1970-01-01 05:34:51.000</td>\n",
       "      <td>42.000000</td>\n",
       "      <td>facebook</td>\n",
       "      <td>0</td>\n",
       "      <td>en</td>\n",
       "      <td>direct</td>\n",
       "      <td>direct</td>\n",
       "      <td>untracked</td>\n",
       "      <td>Web</td>\n",
       "      <td>Mac Desktop</td>\n",
       "      <td>Firefox</td>\n",
       "      <td>other</td>\n",
       "    </tr>\n",
       "    <tr>\n",
       "      <th>4</th>\n",
       "      <td>87mebub9p4</td>\n",
       "      <td>2010-09-14</td>\n",
       "      <td>1970-01-01 05:34:51.200</td>\n",
       "      <td>41.000000</td>\n",
       "      <td>basic</td>\n",
       "      <td>0</td>\n",
       "      <td>en</td>\n",
       "      <td>direct</td>\n",
       "      <td>direct</td>\n",
       "      <td>untracked</td>\n",
       "      <td>Web</td>\n",
       "      <td>Mac Desktop</td>\n",
       "      <td>Chrome</td>\n",
       "      <td>US</td>\n",
       "    </tr>\n",
       "    <tr>\n",
       "      <th>...</th>\n",
       "      <td>...</td>\n",
       "      <td>...</td>\n",
       "      <td>...</td>\n",
       "      <td>...</td>\n",
       "      <td>...</td>\n",
       "      <td>...</td>\n",
       "      <td>...</td>\n",
       "      <td>...</td>\n",
       "      <td>...</td>\n",
       "      <td>...</td>\n",
       "      <td>...</td>\n",
       "      <td>...</td>\n",
       "      <td>...</td>\n",
       "      <td>...</td>\n",
       "    </tr>\n",
       "    <tr>\n",
       "      <th>213446</th>\n",
       "      <td>zxodksqpep</td>\n",
       "      <td>2014-06-30</td>\n",
       "      <td>1970-01-01 05:35:40.600</td>\n",
       "      <td>32.000000</td>\n",
       "      <td>basic</td>\n",
       "      <td>0</td>\n",
       "      <td>en</td>\n",
       "      <td>sem-brand</td>\n",
       "      <td>google</td>\n",
       "      <td>omg</td>\n",
       "      <td>Web</td>\n",
       "      <td>Mac Desktop</td>\n",
       "      <td>Safari</td>\n",
       "      <td>NDF</td>\n",
       "    </tr>\n",
       "    <tr>\n",
       "      <th>213447</th>\n",
       "      <td>mhewnxesx9</td>\n",
       "      <td>2014-06-30</td>\n",
       "      <td>1970-01-01 05:35:40.600</td>\n",
       "      <td>49.668335</td>\n",
       "      <td>basic</td>\n",
       "      <td>0</td>\n",
       "      <td>en</td>\n",
       "      <td>direct</td>\n",
       "      <td>direct</td>\n",
       "      <td>linked</td>\n",
       "      <td>Web</td>\n",
       "      <td>Windows Desktop</td>\n",
       "      <td>Chrome</td>\n",
       "      <td>NDF</td>\n",
       "    </tr>\n",
       "    <tr>\n",
       "      <th>213448</th>\n",
       "      <td>6o3arsjbb4</td>\n",
       "      <td>2014-06-30</td>\n",
       "      <td>1970-01-01 05:35:40.600</td>\n",
       "      <td>32.000000</td>\n",
       "      <td>basic</td>\n",
       "      <td>0</td>\n",
       "      <td>en</td>\n",
       "      <td>direct</td>\n",
       "      <td>direct</td>\n",
       "      <td>untracked</td>\n",
       "      <td>Web</td>\n",
       "      <td>Mac Desktop</td>\n",
       "      <td>Firefox</td>\n",
       "      <td>NDF</td>\n",
       "    </tr>\n",
       "    <tr>\n",
       "      <th>213449</th>\n",
       "      <td>jh95kwisub</td>\n",
       "      <td>2014-06-30</td>\n",
       "      <td>1970-01-01 05:35:40.600</td>\n",
       "      <td>49.668335</td>\n",
       "      <td>basic</td>\n",
       "      <td>25</td>\n",
       "      <td>en</td>\n",
       "      <td>other</td>\n",
       "      <td>other</td>\n",
       "      <td>tracked-other</td>\n",
       "      <td>iOS</td>\n",
       "      <td>iPhone</td>\n",
       "      <td>Mobile Safari</td>\n",
       "      <td>NDF</td>\n",
       "    </tr>\n",
       "    <tr>\n",
       "      <th>213450</th>\n",
       "      <td>nw9fwlyb5f</td>\n",
       "      <td>2014-06-30</td>\n",
       "      <td>1970-01-01 05:35:40.600</td>\n",
       "      <td>49.668335</td>\n",
       "      <td>basic</td>\n",
       "      <td>25</td>\n",
       "      <td>en</td>\n",
       "      <td>direct</td>\n",
       "      <td>direct</td>\n",
       "      <td>untracked</td>\n",
       "      <td>iOS</td>\n",
       "      <td>iPhone</td>\n",
       "      <td>-unknown-</td>\n",
       "      <td>NDF</td>\n",
       "    </tr>\n",
       "  </tbody>\n",
       "</table>\n",
       "<p>213436 rows × 14 columns</p>\n",
       "</div>"
      ],
      "text/plain": [
       "                id date_account_created  timestamp_first_active        age  \\\n",
       "0       gxn3p5htnn           2010-06-28 1970-01-01 05:34:50.300  49.668335   \n",
       "1       820tgsjxq7           2011-05-25 1970-01-01 05:34:50.500  38.000000   \n",
       "2       4ft3gnwmtx           2010-09-28 1970-01-01 05:34:50.600  56.000000   \n",
       "3       bjjt8pjhuk           2011-12-05 1970-01-01 05:34:51.000  42.000000   \n",
       "4       87mebub9p4           2010-09-14 1970-01-01 05:34:51.200  41.000000   \n",
       "...            ...                  ...                     ...        ...   \n",
       "213446  zxodksqpep           2014-06-30 1970-01-01 05:35:40.600  32.000000   \n",
       "213447  mhewnxesx9           2014-06-30 1970-01-01 05:35:40.600  49.668335   \n",
       "213448  6o3arsjbb4           2014-06-30 1970-01-01 05:35:40.600  32.000000   \n",
       "213449  jh95kwisub           2014-06-30 1970-01-01 05:35:40.600  49.668335   \n",
       "213450  nw9fwlyb5f           2014-06-30 1970-01-01 05:35:40.600  49.668335   \n",
       "\n",
       "       signup_method  signup_flow language affiliate_channel  \\\n",
       "0           facebook            0       en            direct   \n",
       "1           facebook            0       en               seo   \n",
       "2              basic            3       en            direct   \n",
       "3           facebook            0       en            direct   \n",
       "4              basic            0       en            direct   \n",
       "...              ...          ...      ...               ...   \n",
       "213446         basic            0       en         sem-brand   \n",
       "213447         basic            0       en            direct   \n",
       "213448         basic            0       en            direct   \n",
       "213449         basic           25       en             other   \n",
       "213450         basic           25       en            direct   \n",
       "\n",
       "       affiliate_provider first_affiliate_tracked signup_app  \\\n",
       "0                  direct               untracked        Web   \n",
       "1                  google               untracked        Web   \n",
       "2                  direct               untracked        Web   \n",
       "3                  direct               untracked        Web   \n",
       "4                  direct               untracked        Web   \n",
       "...                   ...                     ...        ...   \n",
       "213446             google                     omg        Web   \n",
       "213447             direct                  linked        Web   \n",
       "213448             direct               untracked        Web   \n",
       "213449              other           tracked-other        iOS   \n",
       "213450             direct               untracked        iOS   \n",
       "\n",
       "       first_device_type  first_browser country_destination  \n",
       "0            Mac Desktop         Chrome                 NDF  \n",
       "1            Mac Desktop         Chrome                 NDF  \n",
       "2        Windows Desktop             IE                  US  \n",
       "3            Mac Desktop        Firefox               other  \n",
       "4            Mac Desktop         Chrome                  US  \n",
       "...                  ...            ...                 ...  \n",
       "213446       Mac Desktop         Safari                 NDF  \n",
       "213447   Windows Desktop         Chrome                 NDF  \n",
       "213448       Mac Desktop        Firefox                 NDF  \n",
       "213449            iPhone  Mobile Safari                 NDF  \n",
       "213450            iPhone      -unknown-                 NDF  \n",
       "\n",
       "[213436 rows x 14 columns]"
      ]
     },
     "execution_count": 26,
     "metadata": {},
     "output_type": "execute_result"
    }
   ],
   "source": [
    "df0"
   ]
  },
  {
   "cell_type": "markdown",
   "metadata": {
    "id": "XV5gpI9nRVPB"
   },
   "source": [
    "#### a. The type of distribution of the data."
   ]
  },
  {
   "cell_type": "code",
   "execution_count": 27,
   "metadata": {
    "colab": {
     "base_uri": "https://localhost:8080/"
    },
    "executionInfo": {
     "elapsed": 16,
     "status": "ok",
     "timestamp": 1715365639704,
     "user": {
      "displayName": "Ammar Shihi",
      "userId": "09931002932639687714"
     },
     "user_tz": -180
    },
    "id": "7h2TyH33rz97",
    "outputId": "3a008dcb-9764-4561-fa68-0579f8aec320"
   },
   "outputs": [
    {
     "name": "stdout",
     "output_type": "stream",
     "text": [
      "Distribution of Numerical Data:\n",
      "date_account_created\n",
      "\n",
      "count                  213436\n",
      "unique                   1629\n",
      "top       2014-05-13 00:00:00\n",
      "freq                      674\n",
      "first     2010-01-01 00:00:00\n",
      "last      2014-06-30 00:00:00\n",
      "Name: date_account_created, dtype: object\n",
      "timestamp_first_active\n",
      "\n",
      "count                         213436\n",
      "unique                            59\n",
      "top       1970-01-01 05:35:40.600000\n",
      "freq                           15741\n",
      "first     1970-01-01 05:34:50.300000\n",
      "last      1970-01-01 05:35:40.600000\n",
      "Name: timestamp_first_active, dtype: object\n",
      "age\n",
      "\n",
      "count    213436.000000\n",
      "mean         49.668951\n",
      "std         119.348000\n",
      "min           1.000000\n",
      "25%          32.000000\n",
      "50%          49.668335\n",
      "75%          49.668335\n",
      "max        2014.000000\n",
      "Name: age, dtype: float64\n",
      "signup_flow\n",
      "\n",
      "count    213436.000000\n",
      "mean          3.267617\n",
      "std           7.637926\n",
      "min           0.000000\n",
      "25%           0.000000\n",
      "50%           0.000000\n",
      "75%           0.000000\n",
      "max          25.000000\n",
      "Name: signup_flow, dtype: float64\n"
     ]
    },
    {
     "name": "stderr",
     "output_type": "stream",
     "text": [
      "C:\\Users\\JESUS\\AppData\\Local\\Temp\\ipykernel_10392\\3142203720.py:5: FutureWarning: Treating datetime data as categorical rather than numeric in `.describe` is deprecated and will be removed in a future version of pandas. Specify `datetime_is_numeric=True` to silence this warning and adopt the future behavior now.\n",
      "  print(df0[col].describe())\n",
      "C:\\Users\\JESUS\\AppData\\Local\\Temp\\ipykernel_10392\\3142203720.py:5: FutureWarning: Treating datetime data as categorical rather than numeric in `.describe` is deprecated and will be removed in a future version of pandas. Specify `datetime_is_numeric=True` to silence this warning and adopt the future behavior now.\n",
      "  print(df0[col].describe())\n"
     ]
    }
   ],
   "source": [
    "print(\"Distribution of Numerical Data:\")\n",
    "for col in df0.select_dtypes(include=['float64','int64','datetime64[ns]']):\n",
    "    print(col)\n",
    "    print()\n",
    "    print(df0[col].describe())"
   ]
  },
  {
   "cell_type": "code",
   "execution_count": 28,
   "metadata": {
    "executionInfo": {
     "elapsed": 2911,
     "status": "ok",
     "timestamp": 1715365642603,
     "user": {
      "displayName": "Ammar Shihi",
      "userId": "09931002932639687714"
     },
     "user_tz": -180
    },
    "id": "_TheIP2ORVPC"
   },
   "outputs": [],
   "source": [
    "le = LabelEncoder()\n",
    "# Apply Label Encoder to each column of the dataframe with object datatype\n",
    "df0 = df0.apply(lambda col: le.fit_transform(col) if col.dtype == 'object' else col)"
   ]
  },
  {
   "cell_type": "code",
   "execution_count": 29,
   "metadata": {
    "colab": {
     "base_uri": "https://localhost:8080/",
     "height": 1000
    },
    "executionInfo": {
     "elapsed": 6752,
     "status": "ok",
     "timestamp": 1715365649353,
     "user": {
      "displayName": "Ammar Shihi",
      "userId": "09931002932639687714"
     },
     "user_tz": -180
    },
    "id": "LNTctary8txG",
    "outputId": "5839fe86-d10b-4548-9d9b-3cf2fe83cf64"
   },
   "outputs": [
    {
     "data": {
      "image/png": "[encoded data removed]",
      "text/plain": [
       "<Figure size 1440x1440 with 16 Axes>"
      ]
     },
     "metadata": {
      "needs_background": "light"
     },
     "output_type": "display_data"
    }
   ],
   "source": [
    "#show the type of distribution of the data\n",
    "df0.hist(figsize=(20,20))\n",
    "plt.show()"
   ]
  },
  {
   "cell_type": "markdown",
   "metadata": {
    "id": "8jm5gREZoAtQ"
   },
   "source": [
    "#### b. If there are any outliers in the data, show them.\n"
   ]
  },
  {
   "cell_type": "code",
   "execution_count": 30,
   "metadata": {
    "colab": {
     "base_uri": "https://localhost:8080/",
     "height": 1000
    },
    "executionInfo": {
     "elapsed": 3039,
     "status": "error",
     "timestamp": 1715365652375,
     "user": {
      "displayName": "Ammar Shihi",
      "userId": "09931002932639687714"
     },
     "user_tz": -180
    },
    "id": "3Cqmal_3RVPH",
    "outputId": "811b1951-7146-4f48-d462-eb19425f2408"
   },
   "outputs": [
    {
     "data": {
      "image/png": "[encoded data removed]",
      "text/plain": [
       "<Figure size 864x576 with 2 Axes>"
      ]
     },
     "metadata": {
      "needs_background": "light"
     },
     "output_type": "display_data"
    }
   ],
   "source": [
    "#For Numerical Data:\n",
    "numerical_cols = df0.select_dtypes(include=['float64','int64']).columns\n",
    "# Step 3: Create box plots for numerical features\n",
    "plt.figure(figsize=(12, 8))\n",
    "for i, col in enumerate(numerical_cols):\n",
    "    plt.subplot(2, 2, i + 1)\n",
    "    plt.boxplot(df0[col].dropna())  # Dropping NaN values for plotting\n",
    "    plt.title(col)\n",
    "plt.tight_layout()\n",
    "plt.show()"
   ]
  },
  {
   "cell_type": "code",
   "execution_count": 31,
   "metadata": {
    "colab": {
     "base_uri": "https://localhost:8080/",
     "height": 1000
    },
    "executionInfo": {
     "elapsed": 1186,
     "status": "error",
     "timestamp": 1715365747082,
     "user": {
      "displayName": "Ammar Shihi",
      "userId": "09931002932639687714"
     },
     "user_tz": -180
    },
    "id": "32C9AjS-oCgy",
    "outputId": "fad996ab-25d5-4165-9f06-48241fb6eb71",
    "scrolled": true
   },
   "outputs": [
    {
     "data": {
      "image/png": "[encoded data removed]",
      "text/plain": [
       "<Figure size 864x576 with 2 Axes>"
      ]
     },
     "metadata": {
      "needs_background": "light"
     },
     "output_type": "display_data"
    }
   ],
   "source": [
    "# Filter out ages over 100 and under 16\n",
    "df0 = df0[df0['age'] <= 100]\n",
    "df0 = df0[df0['age'] >= 16]\n",
    "\n",
    "filtered_df = df0[df0['signup_flow'] <= 30]\n",
    "\n",
    "# For Numerical Data:\n",
    "numerical_cols = filtered_df.select_dtypes(include=['float64','int64']).columns\n",
    "\n",
    "# Create box plots for numerical features\n",
    "plt.figure(figsize=(12, 8))\n",
    "for i, col in enumerate(numerical_cols):\n",
    "    plt.subplot(2, 2, i + 1)\n",
    "    plt.boxplot(filtered_df[col].dropna())  # Dropping NaN values for plotting\n",
    "    plt.title(col)\n",
    "plt.tight_layout()\n",
    "plt.show()\n"
   ]
  },
  {
   "cell_type": "markdown",
   "metadata": {
    "id": "2pkPRVmMoCqp"
   },
   "source": [
    "#### c. Show the top three columns containing high variety in the number of categories in case of there are categorical features in the data; or the top three columns with the highest variance in case of all features were numeric.\n"
   ]
  },
  {
   "cell_type": "code",
   "execution_count": 32,
   "metadata": {
    "colab": {
     "base_uri": "https://localhost:8080/"
    },
    "executionInfo": {
     "elapsed": 432,
     "status": "ok",
     "timestamp": 1715365750882,
     "user": {
      "displayName": "Ammar Shihi",
      "userId": "09931002932639687714"
     },
     "user_tz": -180
    },
    "id": "QyQUlI3YoEaD",
    "outputId": "a4f498c0-ac37-45d3-82a0-05d24a12f654"
   },
   "outputs": [
    {
     "name": "stdout",
     "output_type": "stream",
     "text": [
      "id                    213451\n",
      "first_browser             52\n",
      "language                  25\n",
      "affiliate_provider        18\n",
      "dtype: int64\n"
     ]
    }
   ],
   "source": [
    "#For Categorical Data\n",
    "if df.select_dtypes(include=['object']).shape[1]>0:\n",
    "  print(df.select_dtypes(include = ['object']).nunique().sort_values(ascending=False)[:4])\n",
    "else:\n",
    "    print(df.var().sort_values(ascending=False)[:4])"
   ]
  },
  {
   "cell_type": "code",
   "execution_count": 33,
   "metadata": {
    "colab": {
     "base_uri": "https://localhost:8080/"
    },
    "executionInfo": {
     "elapsed": 340,
     "status": "ok",
     "timestamp": 1715365753903,
     "user": {
      "displayName": "Ammar Shihi",
      "userId": "09931002932639687714"
     },
     "user_tz": -180
    },
    "id": "NxtAQ0YGRVPI",
    "outputId": "ebc323d9-a966-4bb0-c6ef-ff74bac0ec34"
   },
   "outputs": [
    {
     "name": "stdout",
     "output_type": "stream",
     "text": [
      "date_first_booking        1976\n",
      "date_account_created      1634\n",
      "age                        127\n",
      "timestamp_first_active      59\n",
      "dtype: int64\n"
     ]
    }
   ],
   "source": [
    "#For Numerical and dates Data\n",
    "if df.select_dtypes(include=['float64','int64','datetime']).shape[1]>0:\n",
    "  print(df.select_dtypes(include = ['float64','int64','datetime']).nunique().sort_values(ascending=False)[:4])\n",
    "else:\n",
    "    print(df.var().sort_values(ascending=False)[:4])"
   ]
  },
  {
   "cell_type": "markdown",
   "metadata": {
    "id": "bPiryQqAoEx7"
   },
   "source": [
    "#### d. If there are any correlations between variables."
   ]
  },
  {
   "cell_type": "code",
   "execution_count": 34,
   "metadata": {
    "colab": {
     "base_uri": "https://localhost:8080/",
     "height": 1000
    },
    "executionInfo": {
     "elapsed": 4040,
     "status": "ok",
     "timestamp": 1715365758453,
     "user": {
      "displayName": "Ammar Shihi",
      "userId": "09931002932639687714"
     },
     "user_tz": -180
    },
    "id": "DUxVqQe8RVPI",
    "outputId": "e08ba98f-bae0-4e17-9543-a57f7679b6b5"
   },
   "outputs": [
    {
     "data": {
      "image/png": "[encoded data removed]",
      "text/plain": [
       "<Figure size 1080x1080 with 2 Axes>"
      ]
     },
     "metadata": {
      "needs_background": "light"
     },
     "output_type": "display_data"
    }
   ],
   "source": [
    "# calculate the correlation and plot the heatmap\n",
    "df0['timestamp_first_active'] = df0['timestamp_first_active'].astype('int64') // 10**9\n",
    "corr = df0.corr()\n",
    "plt.figure(figsize=(15, 15))\n",
    "sns.heatmap(corr, xticklabels=corr.columns, yticklabels=corr.columns, annot=True, cmap=sns.diverging_palette(220, 20, as_cmap=True))\n",
    "plt.show()"
   ]
  },
  {
   "cell_type": "markdown",
   "metadata": {
    "id": "ZW8TYqySnExU"
   },
   "source": [
    "### 3. Define the most important insights of takeaways from the data?\n"
   ]
  },
  {
   "cell_type": "markdown",
   "metadata": {
    "id": "7DElypQ9gxqS"
   },
   "source": [
    "Booking Patterns:"
   ]
  },
  {
   "cell_type": "code",
   "execution_count": 35,
   "metadata": {
    "executionInfo": {
     "elapsed": 350,
     "status": "ok",
     "timestamp": 1715365761239,
     "user": {
      "displayName": "Ammar Shihi",
      "userId": "09931002932639687714"
     },
     "user_tz": -180
    },
    "id": "wcGpbTzWRVPI"
   },
   "outputs": [],
   "source": [
    "# Convert date columns to datetime objects for insurence\n",
    "df['date_account_created'] = pd.to_datetime(df['date_account_created'])\n",
    "df['timestamp_first_active'] = pd.to_datetime(df['timestamp_first_active'])\n",
    "df['date_first_booking'] = pd.to_datetime(df['date_first_booking'])"
   ]
  },
  {
   "cell_type": "code",
   "execution_count": 36,
   "metadata": {
    "colab": {
     "base_uri": "https://localhost:8080/",
     "height": 582
    },
    "executionInfo": {
     "elapsed": 594,
     "status": "ok",
     "timestamp": 1715365762748,
     "user": {
      "displayName": "Ammar Shihi",
      "userId": "09931002932639687714"
     },
     "user_tz": -180
    },
    "id": "yNi69TaOnPNa",
    "outputId": "09a0f939-9aa7-4260-f9bb-08492e0d90fa",
    "scrolled": true
   },
   "outputs": [
    {
     "data": {
      "image/png": "[encoded data removed]",
      "text/plain": [
       "<Figure size 720x432 with 1 Axes>"
      ]
     },
     "metadata": {
      "needs_background": "light"
     },
     "output_type": "display_data"
    }
   ],
   "source": [
    "# Visualize booking frequency over time\n",
    "plt.figure(figsize=(10, 6))\n",
    "df['date_first_booking'].dt.month.value_counts().sort_index().plot(kind='bar')\n",
    "plt.xlabel('Month')\n",
    "plt.ylabel('Number of Bookings')\n",
    "plt.title('Booking Frequency by Month')\n",
    "plt.xticks(rotation=45)\n",
    "plt.ylim(4000)\n",
    "plt.show()"
   ]
  },
  {
   "cell_type": "markdown",
   "metadata": {},
   "source": [
    "#### requency of bookings over different months. Each bar represents the number of bookings made in a specific month, and as seen month 6 has the highest no of bookings "
   ]
  },
  {
   "cell_type": "markdown",
   "metadata": {},
   "source": [
    "##### df2 for visualization"
   ]
  },
  {
   "cell_type": "code",
   "execution_count": 37,
   "metadata": {
    "executionInfo": {
     "elapsed": 4,
     "status": "ok",
     "timestamp": 1715365763331,
     "user": {
      "displayName": "Ammar Shihi",
      "userId": "09931002932639687714"
     },
     "user_tz": -180
    },
    "id": "_nLUl367iodt"
   },
   "outputs": [],
   "source": [
    "# Remove rows with unknown gender\n",
    "df2 = df.copy()\n",
    "df2= df2.drop('date_first_booking', axis=1)\n",
    "df2 = df2[df2['gender'] != '-unknown-']"
   ]
  },
  {
   "cell_type": "markdown",
   "metadata": {
    "id": "3GJDhW6_hKFC"
   },
   "source": [
    "User Demographics:"
   ]
  },
  {
   "cell_type": "code",
   "execution_count": 38,
   "metadata": {
    "colab": {
     "base_uri": "https://localhost:8080/",
     "height": 521
    },
    "executionInfo": {
     "elapsed": 394,
     "status": "ok",
     "timestamp": 1715365765761,
     "user": {
      "displayName": "Ammar Shihi",
      "userId": "09931002932639687714"
     },
     "user_tz": -180
    },
    "id": "d5US1FZ6hJRR",
    "outputId": "3cb23a36-cfbf-4df5-a37a-1ab52aa25854",
    "scrolled": true
   },
   "outputs": [
    {
     "data": {
      "image/png": "[encoded data removed]",
      "text/plain": [
       "<Figure size 720x432 with 1 Axes>"
      ]
     },
     "metadata": {},
     "output_type": "display_data"
    }
   ],
   "source": [
    "# Explore demographic variables\n",
    "gender_counts = df2['gender'].value_counts()\n",
    "\n",
    "# Visualize demographic distributions\n",
    "plt.figure(figsize=(10, 6))\n",
    "gender_counts.plot(kind='pie', autopct='%1.1f%%', startangle=90)\n",
    "plt.title('Gender Distribution')\n",
    "plt.ylabel('')\n",
    "plt.show()"
   ]
  },
  {
   "cell_type": "markdown",
   "metadata": {},
   "source": [
    "#### focusing on gender. It counts the occurrences of each gender category in the DataFrame and creates a pie chart to visualize the distribution....the no. of females exceeds no. of males"
   ]
  },
  {
   "cell_type": "code",
   "execution_count": 39,
   "metadata": {
    "colab": {
     "base_uri": "https://localhost:8080/",
     "height": 489
    },
    "executionInfo": {
     "elapsed": 754,
     "status": "ok",
     "timestamp": 1715365767786,
     "user": {
      "displayName": "Ammar Shihi",
      "userId": "09931002932639687714"
     },
     "user_tz": -180
    },
    "id": "TVe5ShCaRVPK",
    "outputId": "1a158616-b623-4e8d-cda8-e3d90e1c0eb7",
    "scrolled": true
   },
   "outputs": [
    {
     "data": {
      "text/plain": [
       "<Figure size 1008x648 with 0 Axes>"
      ]
     },
     "metadata": {},
     "output_type": "display_data"
    },
    {
     "data": {
      "image/png": "[encoded data removed]",
      "text/plain": [
       "<Figure size 432x288 with 1 Axes>"
      ]
     },
     "metadata": {
      "needs_background": "light"
     },
     "output_type": "display_data"
    }
   ],
   "source": [
    "df2= df2.drop('signup_flow', axis=1)\n",
    "age_distribution = df2['age'].dropna()\n",
    "age_distribution = df2[df2['age'] <= 100]\n",
    "\n",
    "plt.figure(figsize=(14, 9))\n",
    "age_distribution.plot(kind='hist', bins=20)\n",
    "plt.xlabel('Age')\n",
    "plt.ylabel('Count')\n",
    "plt.title('Age Distribution')\n",
    "plt.show()"
   ]
  },
  {
   "cell_type": "markdown",
   "metadata": {},
   "source": [
    "#### as for the age most of our people aged between 20 to 60"
   ]
  },
  {
   "cell_type": "markdown",
   "metadata": {
    "id": "oDUtGOMcld2k"
   },
   "source": [
    "User Engagement:\n"
   ]
  },
  {
   "cell_type": "code",
   "execution_count": 40,
   "metadata": {
    "executionInfo": {
     "elapsed": 332,
     "status": "ok",
     "timestamp": 1715365769948,
     "user": {
      "displayName": "Ammar Shihi",
      "userId": "09931002932639687714"
     },
     "user_tz": -180
    },
    "id": "lcw6uCnvRVPK"
   },
   "outputs": [],
   "source": [
    "# Explore user engagement metrics\n",
    "signup_methods = df2['signup_method'].value_counts()\n",
    "affiliate_channels = df2['affiliate_channel'].value_counts()"
   ]
  },
  {
   "cell_type": "code",
   "execution_count": 41,
   "metadata": {
    "colab": {
     "base_uri": "https://localhost:8080/",
     "height": 521
    },
    "executionInfo": {
     "elapsed": 11,
     "status": "ok",
     "timestamp": 1715365771280,
     "user": {
      "displayName": "Ammar Shihi",
      "userId": "09931002932639687714"
     },
     "user_tz": -180
    },
    "id": "KIrZFYmXlcLR",
    "outputId": "d603fe2b-71fb-4751-8ac9-01fa105cff46",
    "scrolled": true
   },
   "outputs": [
    {
     "data": {
      "image/png": "[encoded data removed]",
      "text/plain": [
       "<Figure size 720x432 with 1 Axes>"
      ]
     },
     "metadata": {},
     "output_type": "display_data"
    }
   ],
   "source": [
    "# Visualize engagement metrics as a pie chart\n",
    "plt.figure(figsize=(10, 6))\n",
    "signup_methods.plot(kind='pie', autopct='%1.1f%%', startangle=90)\n",
    "plt.title('Signup Method Distribution')\n",
    "plt.ylabel('')\n",
    "plt.show()"
   ]
  },
  {
   "cell_type": "markdown",
   "metadata": {},
   "source": [
    "#### The pie chart presents each signup method's proportion relative to the total signups, with percentages displayed on each slice."
   ]
  },
  {
   "cell_type": "code",
   "execution_count": 42,
   "metadata": {
    "colab": {
     "base_uri": "https://localhost:8080/",
     "height": 564
    },
    "executionInfo": {
     "elapsed": 19,
     "status": "ok",
     "timestamp": 1715365771852,
     "user": {
      "displayName": "Ammar Shihi",
      "userId": "09931002932639687714"
     },
     "user_tz": -180
    },
    "id": "X97xtDmFRVPL",
    "outputId": "aa3016e3-58af-42fb-884c-2f658231f640",
    "scrolled": false
   },
   "outputs": [
    {
     "data": {
      "image/png": "[encoded data removed]",
      "text/plain": [
       "<Figure size 720x432 with 1 Axes>"
      ]
     },
     "metadata": {
      "needs_background": "light"
     },
     "output_type": "display_data"
    }
   ],
   "source": [
    "plt.figure(figsize=(10, 6))\n",
    "affiliate_channels.plot(kind='barh')\n",
    "plt.xlabel('Count')\n",
    "plt.ylabel('Affiliate Channel')\n",
    "plt.title('Affiliate Channel Distribution')\n",
    "plt.xticks(rotation=0)\n",
    "plt.show()"
   ]
  },
  {
   "cell_type": "markdown",
   "metadata": {},
   "source": [
    "#### generates a horizontal bar chart illustrating the distribution of users across different affiliate channels and as shown most people channel us directly"
   ]
  },
  {
   "cell_type": "code",
   "execution_count": 82,
   "metadata": {
    "scrolled": true
   },
   "outputs": [
    {
     "data": {
      "text/plain": [
       "<Figure size 864x576 with 0 Axes>"
      ]
     },
     "metadata": {},
     "output_type": "display_data"
    },
    {
     "data": {
      "image/png": "[encoded data removed]",
      "text/plain": [
       "<Figure size 864x576 with 1 Axes>"
      ]
     },
     "metadata": {},
     "output_type": "display_data"
    }
   ],
   "source": [
    "# Affiliate Channels and Providers\n",
    "plt.figure(figsize=(12, 8))\n",
    "affiliate_channels_providers = pd.crosstab(df2['affiliate_channel'], df2['affiliate_provider'])\n",
    "affiliate_channels_providers.plot(kind='barh', stacked=True, colormap='viridis', figsize=(12, 8))\n",
    "plt.title('Affiliate Channels and Providers')\n",
    "plt.xlabel('Affiliate Channel')\n",
    "plt.ylabel('Count')\n",
    "plt.xticks(rotation=0)\n",
    "plt.show()"
   ]
  },
  {
   "cell_type": "markdown",
   "metadata": {},
   "source": [
    "#### horizontal bar chart displaying the relationship between affiliate channels and providers. It starts by generating a cross-tabulation of the 'affiliate_channel' and 'affiliate_provider' columns to count occurrences"
   ]
  },
  {
   "cell_type": "code",
   "execution_count": 44,
   "metadata": {
    "scrolled": false
   },
   "outputs": [
    {
     "data": {
      "image/png": "[encoded data removed]",
      "text/plain": [
       "<Figure size 720x432 with 1 Axes>"
      ]
     },
     "metadata": {},
     "output_type": "display_data"
    },
    {
     "data": {
      "image/png": "[encoded data removed]",
      "text/plain": [
       "<Figure size 720x432 with 1 Axes>"
      ]
     },
     "metadata": {},
     "output_type": "display_data"
    },
    {
     "data": {
      "image/png": "[encoded data removed]",
      "text/plain": [
       "<Figure size 720x432 with 1 Axes>"
      ]
     },
     "metadata": {},
     "output_type": "display_data"
    },
    {
     "data": {
      "image/png": "[encoded data removed]",
      "text/plain": [
       "<Figure size 720x432 with 1 Axes>"
      ]
     },
     "metadata": {},
     "output_type": "display_data"
    }
   ],
   "source": [
    "# Language Preferences\n",
    "\n",
    "sns.set_style(\"whitegrid\")\n",
    "\n",
    "plt.figure(figsize=(10, 6))\n",
    "sns.countplot(data=df2, x='language', palette='bright')\n",
    "plt.title('Language Preferences')\n",
    "plt.xlabel('Language')\n",
    "plt.ylabel('Count')\n",
    "plt.show()\n",
    "\n",
    "#Language Preferences Pie Chart\n",
    "sns.set_style(\"whitegrid\")\n",
    "plt.figure(figsize=(10, 6))\n",
    "language_counts = df2['language'].value_counts()\n",
    "plt.pie(language_counts, labels=language_counts.index, autopct='%1.1f%%', colors=sns.color_palette('bright', len(language_counts)))\n",
    "plt.title('Language Preferences')\n",
    "plt.show()\n",
    "\n",
    "df_excl_en = df2[df2['language'] != 'en']\n",
    "\n",
    "# Language Preferences Bar Chart Excluding 'en'\n",
    "plt.figure(figsize=(10, 6))\n",
    "sns.countplot(data=df_excl_en, x='language', palette='bright')\n",
    "plt.title('Language Preferences (Excluding \"en\")')\n",
    "plt.xlabel('Language')\n",
    "plt.ylabel('Count')\n",
    "plt.show()\n",
    "\n",
    "# Language Preferences Pie Chart Excluding 'en'\n",
    "plt.figure(figsize=(10, 6))\n",
    "language_counts_excl_en = df_excl_en['language'].value_counts()\n",
    "plt.pie(language_counts_excl_en, labels=language_counts_excl_en.index, autopct='%1.1f%%', colors=sns.color_palette('bright', len(language_counts_excl_en)))\n",
    "plt.title('Language Preferences (Excluding \"en\")')\n",
    "plt.show()"
   ]
  },
  {
   "cell_type": "code",
   "execution_count": 45,
   "metadata": {},
   "outputs": [
    {
     "data": {
      "text/plain": [
       "en    113369\n",
       "zh       860\n",
       "fr       802\n",
       "es       630\n",
       "ko       395\n",
       "de       390\n",
       "it       365\n",
       "ru       275\n",
       "pt       173\n",
       "ja       132\n",
       "sv        80\n",
       "nl        48\n",
       "tr        42\n",
       "pl        41\n",
       "da        35\n",
       "no        21\n",
       "el        21\n",
       "cs        20\n",
       "id        18\n",
       "th        18\n",
       "hu        17\n",
       "fi        11\n",
       "ca         4\n",
       "is         4\n",
       "hr         2\n",
       "Name: language, dtype: int64"
      ]
     },
     "execution_count": 45,
     "metadata": {},
     "output_type": "execute_result"
    }
   ],
   "source": [
    "language_counts = df2['language'].value_counts()\n",
    "language_counts"
   ]
  },
  {
   "cell_type": "code",
   "execution_count": 46,
   "metadata": {
    "scrolled": true
   },
   "outputs": [
    {
     "data": {
      "image/png": "[encoded data removed]",
      "text/plain": [
       "<Figure size 720x432 with 1 Axes>"
      ]
     },
     "metadata": {},
     "output_type": "display_data"
    },
    {
     "data": {
      "image/png": "[encoded data removed]",
      "text/plain": [
       "<Figure size 720x432 with 1 Axes>"
      ]
     },
     "metadata": {},
     "output_type": "display_data"
    }
   ],
   "source": [
    "#Country Destination\n",
    "plt.figure(figsize=(10, 6))\n",
    "sns.countplot(data=df2, x='country_destination', palette='bright')\n",
    "plt.title('Country Destination Distribution')\n",
    "plt.xlabel('Country Destination')\n",
    "plt.ylabel('Count')\n",
    "plt.show()\n",
    "\n",
    "# Count occurrences of each country destination\n",
    "country_counts = df2['country_destination'].value_counts()\n",
    "# Create a pie chart\n",
    "plt.figure(figsize=(10, 6))\n",
    "plt.pie(country_counts, labels=country_counts.index, autopct='%1.1f%%', colors=sns.color_palette('bright'))\n",
    "plt.title('Country Destination Distribution')\n",
    "plt.show()"
   ]
  },
  {
   "cell_type": "markdown",
   "metadata": {},
   "source": [
    "## Based on this Data...we need to sample more to overcome overfitting (Data science Insights)\n",
    "## the data is unbalanced so we have to decide what to do with it \n",
    "## Over Sampling IS A MUST   FOR CLASSIFICATION"
   ]
  },
  {
   "cell_type": "markdown",
   "metadata": {},
   "source": [
    "#### as shown the most spoken language our user use is eng, but we there are very few that uses other language as shown"
   ]
  },
  {
   "cell_type": "code",
   "execution_count": 47,
   "metadata": {
    "scrolled": true
   },
   "outputs": [
    {
     "data": {
      "text/plain": [
       "\"\\nplt.figure(figsize=(12, 8))\\ndevice_browser = pd.crosstab(df2['first_device_type'], df2['first_browser'])\\ndevice_browser.plot(kind='bar', stacked=True, colormap='viridis', figsize=(22, 15))\\nplt.title('Device Type and Browser Usage')\\nplt.xlabel('Device Type')\\nplt.ylabel('Count')\\nplt.show()\\n\""
      ]
     },
     "execution_count": 47,
     "metadata": {},
     "output_type": "execute_result"
    }
   ],
   "source": [
    "# Device Type and Browser Usage\n",
    "# another visualization but not important....\n",
    "'''\n",
    "plt.figure(figsize=(12, 8))\n",
    "device_browser = pd.crosstab(df2['first_device_type'], df2['first_browser'])\n",
    "device_browser.plot(kind='bar', stacked=True, colormap='viridis', figsize=(22, 15))\n",
    "plt.title('Device Type and Browser Usage')\n",
    "plt.xlabel('Device Type')\n",
    "plt.ylabel('Count')\n",
    "plt.show()\n",
    "'''"
   ]
  },
  {
   "cell_type": "markdown",
   "metadata": {
    "id": "tqrVOTVinGvh"
   },
   "source": [
    "### 4. Create an interactive dashboard for the project:\n",
    "#### a. It should contain at least two charts.\n",
    "#### b. The dashboard should include a drop-down list or radio button that allows the user to select different values. Based on the selected value, the shape of the charts should change.\n"
   ]
  },
  {
   "cell_type": "code",
   "execution_count": 48,
   "metadata": {
    "executionInfo": {
     "elapsed": 7,
     "status": "aborted",
     "timestamp": 1715365652379,
     "user": {
      "displayName": "Ammar Shihi",
      "userId": "09931002932639687714"
     },
     "user_tz": -180
    },
    "id": "qK8N6CkLnI31"
   },
   "outputs": [
    {
     "data": {
      "text/html": [
       "\n",
       "        <iframe\n",
       "            width=\"100%\"\n",
       "            height=\"650\"\n",
       "            src=\"http://127.0.0.1:8050/\"\n",
       "            frameborder=\"0\"\n",
       "            allowfullscreen\n",
       "            \n",
       "        ></iframe>\n",
       "        "
      ],
      "text/plain": [
       "<IPython.lib.display.IFrame at 0x137e07d34f0>"
      ]
     },
     "metadata": {},
     "output_type": "display_data"
    },
    {
     "data": {
      "text/html": [
       "\n",
       "        <iframe\n",
       "            width=\"100%\"\n",
       "            height=\"650\"\n",
       "            src=\"http://127.0.0.1:8050/\"\n",
       "            frameborder=\"0\"\n",
       "            allowfullscreen\n",
       "            \n",
       "        ></iframe>\n",
       "        "
      ],
      "text/plain": [
       "<IPython.lib.display.IFrame at 0x137e0181ee0>"
      ]
     },
     "metadata": {},
     "output_type": "display_data"
    },
    {
     "data": {
      "text/html": [
       "<a href=\"http://localhost:8050\" target=\"_blank\">Click here to view the dashboard</a>"
      ],
      "text/plain": [
       "<IPython.core.display.HTML object>"
      ]
     },
     "metadata": {},
     "output_type": "display_data"
    }
   ],
   "source": [
    "# Initialize Dash app\n",
    "app = dash.Dash(__name__)\n",
    "\n",
    "# Define the layout of the app\n",
    "app.layout = html.Div([\n",
    "    dcc.Dropdown(\n",
    "        id='chart-dropdown',\n",
    "        options=[\n",
    "            {'label': 'Gender Distribution', 'value': 'gender'},\n",
    "            {'label': 'Affiliate Channel Distribution', 'value': 'affiliate_channel'},\n",
    "            {'label': 'Booking Frequency by Month', 'value': 'booking_frequency'},\n",
    "            {'label': 'Age Distribution', 'value': 'age_distribution'},\n",
    "            {'label': 'Signup Method Distribution', 'value': 'user_engagement'},\n",
    "            {'label': 'Language Preferences', 'value': 'language_preferences'},\n",
    "            {'label': 'Country Destination Distribution', 'value': 'country_destination'}\n",
    "        ],\n",
    "        value='gender'\n",
    "    ),\n",
    "    html.Div(id='dashboard-container')\n",
    "])\n",
    "# Define callback to update dashboard based on dropdown value\n",
    "@app.callback(\n",
    "    Output('dashboard-container', 'children'),\n",
    "    [Input('chart-dropdown', 'value')]\n",
    ")\n",
    "def update_dashboard(selected_chart):\n",
    "    if selected_chart == 'gender':\n",
    "        # Chart 1: Gender Distribution (Pie Chart)\n",
    "        gender_counts = df2['gender'].value_counts()\n",
    "        fig = px.pie(names=gender_counts.index, values=gender_counts.values, title='Gender Distribution')\n",
    "    elif selected_chart == 'affiliate_channel':\n",
    "        # Chart 2: Affiliate Channel Distribution (Bar Chart)\n",
    "        affiliate_channel_counts = df2['affiliate_channel'].value_counts()\n",
    "        fig = px.bar(x=affiliate_channel_counts.index, y=affiliate_channel_counts.values,\n",
    "                     labels={'x': 'Affiliate Channel', 'y': 'Count'},\n",
    "                     title='Affiliate Channel Distribution')\n",
    "    elif selected_chart == 'booking_frequency':\n",
    "        # Calculate booking frequency by month\n",
    "        booking_freq = df['date_first_booking'].dt.month.value_counts().sort_index()\n",
    "        fig = go.Figure(data=[go.Bar(x=booking_freq.index, y=booking_freq.values)])\n",
    "        fig.update_layout(title='Booking Frequency by Month', xaxis_title='Month', yaxis_title='Number of Bookings')\n",
    "    elif selected_chart == 'age_distribution':\n",
    "        # Calculate age distribution\n",
    "        age_distribution = df2['age'].dropna()\n",
    "        age_distribution = age_distribution[age_distribution <= 100]\n",
    "        fig = ff.create_distplot([age_distribution.tolist()], ['Age'], bin_size=20)\n",
    "        fig.update_layout(title='Age Distribution', xaxis_title='Age', yaxis_title='Count')\n",
    "    elif selected_chart == 'user_engagement':\n",
    "        # Create a pie chart for signup methods\n",
    "        fig = go.Figure(data=[go.Pie(labels=signup_methods.index, values=signup_methods.values)])\n",
    "        fig.update_layout(title='Signup Method Distribution')\n",
    "    elif selected_chart == 'language_preferences':\n",
    "        # Create a pie chart for language preferences (counts)\n",
    "        fig = go.Figure(data=[go.Pie(labels=language_counts.index, values=language_counts.values, hole=0.3)])\n",
    "        fig.update_layout(title='Language Preferences')\n",
    "        \n",
    "    elif selected_chart == 'country_destination':\n",
    "        # Create a count plot for country destination\n",
    "        fig = go.Figure(data=[go.Bar(x=country_counts.index, y=country_counts.values)])\n",
    "        fig.update_layout(title='Country Destination Distribution', xaxis_title='Country Destination', yaxis_title='Count')\n",
    "    else:\n",
    "        # Default fallback option\n",
    "        fig = go.Figure()\n",
    "        \n",
    "    return dcc.Graph(figure=fig)\n",
    "\n",
    "\n",
    "    # Run the app\n",
    "if __name__ == '__main__': \n",
    "    app.run_server(debug=True)\n",
    "    app.run_server(port=8050, mode='inline')\n",
    "\n",
    "# Generate link to visit the dashboard\n",
    "dashboard_link = f'http://localhost:8050'\n",
    "display(HTML(f'<a href=\"{dashboard_link}\" target=\"_blank\">Click here to view the dashboard</a>'))"
   ]
  },
  {
   "cell_type": "markdown",
   "metadata": {
    "id": "wky4qYvInQIL"
   },
   "source": [
    "### 5. According to your dataset, list at least 4 preprocessing steps that should be performed\n"
   ]
  },
  {
   "cell_type": "markdown",
   "metadata": {
    "id": "HqS8_8vAE90s"
   },
   "source": [
    "#### 1) Missing values Imputation & Removing ouliers\n",
    "#### 2) Encoding\n",
    "#### 3) Data Splitting\n",
    "#### 4) Feature Selection(reduction)\n",
    "\n"
   ]
  },
  {
   "cell_type": "markdown",
   "metadata": {
    "id": "GZV_nJY0nSh0"
   },
   "source": [
    "### 6. For each listed preprocessing step, determine the different approaches you will adapt according to dataset characteristics\n",
    "### 7. Implement the listed preprocessing steps using the appropriate approach.\n"
   ]
  },
  {
   "cell_type": "markdown",
   "metadata": {
    "id": "R5I0euG8E0zw"
   },
   "source": [
    "### 1)Missing values Imputation (some cleaning & preprossesing too)"
   ]
  },
  {
   "cell_type": "code",
   "execution_count": 49,
   "metadata": {
    "colab": {
     "base_uri": "https://localhost:8080/"
    },
    "executionInfo": {
     "elapsed": 423,
     "status": "ok",
     "timestamp": 1715365775695,
     "user": {
      "displayName": "Ammar Shihi",
      "userId": "09931002932639687714"
     },
     "user_tz": -180
    },
    "id": "2f-zhihICW41",
    "outputId": "33188f79-7c08-4065-c1b9-f1b4b344bbe0"
   },
   "outputs": [
    {
     "data": {
      "text/plain": [
       "id                              0\n",
       "date_account_created            0\n",
       "timestamp_first_active          0\n",
       "date_first_booking         124543\n",
       "gender                         17\n",
       "age                         87990\n",
       "signup_method                   0\n",
       "signup_flow                     0\n",
       "language                        0\n",
       "affiliate_channel              15\n",
       "affiliate_provider              0\n",
       "first_affiliate_tracked      6065\n",
       "signup_app                      0\n",
       "first_device_type               0\n",
       "first_browser                   0\n",
       "country_destination             0\n",
       "dtype: int64"
      ]
     },
     "execution_count": 49,
     "metadata": {},
     "output_type": "execute_result"
    }
   ],
   "source": [
    "df.isna().sum()"
   ]
  },
  {
   "cell_type": "markdown",
   "metadata": {
    "id": "OdYiADroRVPO"
   },
   "source": [
    "#### df1 created"
   ]
  },
  {
   "cell_type": "code",
   "execution_count": 50,
   "metadata": {
    "executionInfo": {
     "elapsed": 2,
     "status": "ok",
     "timestamp": 1715365776158,
     "user": {
      "displayName": "Ammar Shihi",
      "userId": "09931002932639687714"
     },
     "user_tz": -180
    },
    "id": "O6eS5J2aGEet"
   },
   "outputs": [],
   "source": [
    "# Drop date_first_booking column because more than half the values is missing\n",
    "df1 = df.copy()\n",
    "df1= df1.drop('date_first_booking', axis=1)"
   ]
  },
  {
   "cell_type": "code",
   "execution_count": 51,
   "metadata": {
    "id": "Rl4UWRVjRVPQ"
   },
   "outputs": [
    {
     "name": "stdout",
     "output_type": "stream",
     "text": [
      "Count of each value in the 'gender' column: \n"
     ]
    },
    {
     "data": {
      "text/plain": [
       "-unknown-    95678\n",
       "FEMALE       63035\n",
       "MALE         54439\n",
       "OTHER          282\n",
       "Name: gender, dtype: int64"
      ]
     },
     "execution_count": 51,
     "metadata": {},
     "output_type": "execute_result"
    }
   ],
   "source": [
    "gender_counts = df1['gender'].value_counts()\n",
    "print(\"Count of each value in the 'gender' column: \")\n",
    "gender_counts"
   ]
  },
  {
   "cell_type": "code",
   "execution_count": 52,
   "metadata": {
    "executionInfo": {
     "elapsed": 322,
     "status": "ok",
     "timestamp": 1715365781842,
     "user": {
      "displayName": "Ammar Shihi",
      "userId": "09931002932639687714"
     },
     "user_tz": -180
    },
    "id": "iCEtQWDBGGHO"
   },
   "outputs": [],
   "source": [
    "# Drop Gender column, it doesn't have a lot of null values but most of the values are 'unknown'\n",
    "df1 = df1.drop('gender', axis=1)"
   ]
  },
  {
   "cell_type": "code",
   "execution_count": 53,
   "metadata": {
    "executionInfo": {
     "elapsed": 468,
     "status": "ok",
     "timestamp": 1715365783568,
     "user": {
      "displayName": "Ammar Shihi",
      "userId": "09931002932639687714"
     },
     "user_tz": -180
    },
    "id": "8WVF9zd7GLnE"
   },
   "outputs": [],
   "source": [
    "# Fill missing values of age column by the age mean\n",
    "age_mean = df['age'].mean()\n",
    "df1['age'] = df1['age'].fillna(age_mean)"
   ]
  },
  {
   "cell_type": "code",
   "execution_count": 54,
   "metadata": {
    "colab": {
     "base_uri": "https://localhost:8080/"
    },
    "executionInfo": {
     "elapsed": 416,
     "status": "ok",
     "timestamp": 1715365783983,
     "user": {
      "displayName": "Ammar Shihi",
      "userId": "09931002932639687714"
     },
     "user_tz": -180
    },
    "id": "5Y1Z4CfiRVPQ",
    "outputId": "c6841164-e878-4b1f-d67b-e60ec2d6267f"
   },
   "outputs": [
    {
     "name": "stdout",
     "output_type": "stream",
     "text": [
      "Count of each value in the 'first_affiliate_tracked' column: \n"
     ]
    },
    {
     "data": {
      "text/plain": [
       "untracked        109225\n",
       "linked            46285\n",
       "omg               43981\n",
       "tracked-other      6156\n",
       "product            1556\n",
       "marketing           139\n",
       "local ops            34\n",
       "Name: first_affiliate_tracked, dtype: int64"
      ]
     },
     "execution_count": 54,
     "metadata": {},
     "output_type": "execute_result"
    }
   ],
   "source": [
    "# Drop rows with missing values in the 'affiliate_channel' column\n",
    "df1 = df1.dropna(subset=['affiliate_channel'])\n",
    "\n",
    "# fill first_affiliate_tracked by the most common value which is 'untracked'\n",
    "first_affiliate_tracked  = df1['first_affiliate_tracked'].value_counts()\n",
    "print(\"Count of each value in the 'first_affiliate_tracked' column: \")\n",
    "first_affiliate_tracked"
   ]
  },
  {
   "cell_type": "code",
   "execution_count": 55,
   "metadata": {
    "colab": {
     "base_uri": "https://localhost:8080/"
    },
    "executionInfo": {
     "elapsed": 4,
     "status": "ok",
     "timestamp": 1715365785152,
     "user": {
      "displayName": "Ammar Shihi",
      "userId": "09931002932639687714"
     },
     "user_tz": -180
    },
    "id": "DsVJNgdEnUBK",
    "outputId": "58153547-7136-4d73-de65-75ae67b3732a",
    "scrolled": true
   },
   "outputs": [
    {
     "data": {
      "text/plain": [
       "id                         0\n",
       "date_account_created       0\n",
       "timestamp_first_active     0\n",
       "age                        0\n",
       "signup_method              0\n",
       "signup_flow                0\n",
       "language                   0\n",
       "affiliate_channel          0\n",
       "affiliate_provider         0\n",
       "first_affiliate_tracked    0\n",
       "signup_app                 0\n",
       "first_device_type          0\n",
       "first_browser              0\n",
       "country_destination        0\n",
       "dtype: int64"
      ]
     },
     "execution_count": 55,
     "metadata": {},
     "output_type": "execute_result"
    }
   ],
   "source": [
    "df1['first_affiliate_tracked'] = df1['first_affiliate_tracked'].fillna('untracked')\n",
    "df1.isna().sum()"
   ]
  },
  {
   "cell_type": "code",
   "execution_count": 56,
   "metadata": {
    "scrolled": true
   },
   "outputs": [
    {
     "name": "stdout",
     "output_type": "stream",
     "text": [
      "<class 'pandas.core.frame.DataFrame'>\n",
      "Int64Index: 213436 entries, 0 to 213450\n",
      "Data columns (total 14 columns):\n",
      " #   Column                   Non-Null Count   Dtype         \n",
      "---  ------                   --------------   -----         \n",
      " 0   id                       213436 non-null  object        \n",
      " 1   date_account_created     213436 non-null  datetime64[ns]\n",
      " 2   timestamp_first_active   213436 non-null  datetime64[ns]\n",
      " 3   age                      213436 non-null  float64       \n",
      " 4   signup_method            213436 non-null  object        \n",
      " 5   signup_flow              213436 non-null  int64         \n",
      " 6   language                 213436 non-null  object        \n",
      " 7   affiliate_channel        213436 non-null  object        \n",
      " 8   affiliate_provider       213436 non-null  object        \n",
      " 9   first_affiliate_tracked  213436 non-null  object        \n",
      " 10  signup_app               213436 non-null  object        \n",
      " 11  first_device_type        213436 non-null  object        \n",
      " 12  first_browser            213436 non-null  object        \n",
      " 13  country_destination      213436 non-null  object        \n",
      "dtypes: datetime64[ns](2), float64(1), int64(1), object(10)\n",
      "memory usage: 24.4+ MB\n"
     ]
    }
   ],
   "source": [
    "df1.info()"
   ]
  },
  {
   "cell_type": "code",
   "execution_count": 57,
   "metadata": {},
   "outputs": [],
   "source": [
    "# Droping ID because it is an identifier and doesn't carry any meaningful information for modeling purpose\n",
    "df1 = df1.drop('id', axis=1)"
   ]
  },
  {
   "cell_type": "code",
   "execution_count": 58,
   "metadata": {},
   "outputs": [],
   "source": [
    "#remove some of the outliers detected before:\n",
    "# Filter out ages over 90 and under 16\n",
    "df1 = df1[df1['age'] <= 90]\n",
    "df1 = df1[df1['age'] >= 16]"
   ]
  },
  {
   "cell_type": "code",
   "execution_count": 59,
   "metadata": {},
   "outputs": [],
   "source": [
    "df1.drop(['date_account_created', 'timestamp_first_active'], axis=1, inplace=True)"
   ]
  },
  {
   "cell_type": "code",
   "execution_count": 60,
   "metadata": {
    "scrolled": true
   },
   "outputs": [
    {
     "data": {
      "text/html": [
       "<div>\n",
       "<style scoped>\n",
       "    .dataframe tbody tr th:only-of-type {\n",
       "        vertical-align: middle;\n",
       "    }\n",
       "\n",
       "    .dataframe tbody tr th {\n",
       "        vertical-align: top;\n",
       "    }\n",
       "\n",
       "    .dataframe thead th {\n",
       "        text-align: right;\n",
       "    }\n",
       "</style>\n",
       "<table border=\"1\" class=\"dataframe\">\n",
       "  <thead>\n",
       "    <tr style=\"text-align: right;\">\n",
       "      <th></th>\n",
       "      <th>age</th>\n",
       "      <th>signup_method</th>\n",
       "      <th>signup_flow</th>\n",
       "      <th>language</th>\n",
       "      <th>affiliate_channel</th>\n",
       "      <th>affiliate_provider</th>\n",
       "      <th>first_affiliate_tracked</th>\n",
       "      <th>signup_app</th>\n",
       "      <th>first_device_type</th>\n",
       "      <th>first_browser</th>\n",
       "      <th>country_destination</th>\n",
       "    </tr>\n",
       "  </thead>\n",
       "  <tbody>\n",
       "    <tr>\n",
       "      <th>0</th>\n",
       "      <td>50</td>\n",
       "      <td>facebook</td>\n",
       "      <td>0</td>\n",
       "      <td>en</td>\n",
       "      <td>direct</td>\n",
       "      <td>direct</td>\n",
       "      <td>untracked</td>\n",
       "      <td>Web</td>\n",
       "      <td>Mac Desktop</td>\n",
       "      <td>Chrome</td>\n",
       "      <td>NDF</td>\n",
       "    </tr>\n",
       "    <tr>\n",
       "      <th>1</th>\n",
       "      <td>38</td>\n",
       "      <td>facebook</td>\n",
       "      <td>0</td>\n",
       "      <td>en</td>\n",
       "      <td>seo</td>\n",
       "      <td>google</td>\n",
       "      <td>untracked</td>\n",
       "      <td>Web</td>\n",
       "      <td>Mac Desktop</td>\n",
       "      <td>Chrome</td>\n",
       "      <td>NDF</td>\n",
       "    </tr>\n",
       "    <tr>\n",
       "      <th>2</th>\n",
       "      <td>56</td>\n",
       "      <td>basic</td>\n",
       "      <td>3</td>\n",
       "      <td>en</td>\n",
       "      <td>direct</td>\n",
       "      <td>direct</td>\n",
       "      <td>untracked</td>\n",
       "      <td>Web</td>\n",
       "      <td>Windows Desktop</td>\n",
       "      <td>IE</td>\n",
       "      <td>US</td>\n",
       "    </tr>\n",
       "    <tr>\n",
       "      <th>3</th>\n",
       "      <td>42</td>\n",
       "      <td>facebook</td>\n",
       "      <td>0</td>\n",
       "      <td>en</td>\n",
       "      <td>direct</td>\n",
       "      <td>direct</td>\n",
       "      <td>untracked</td>\n",
       "      <td>Web</td>\n",
       "      <td>Mac Desktop</td>\n",
       "      <td>Firefox</td>\n",
       "      <td>other</td>\n",
       "    </tr>\n",
       "    <tr>\n",
       "      <th>4</th>\n",
       "      <td>41</td>\n",
       "      <td>basic</td>\n",
       "      <td>0</td>\n",
       "      <td>en</td>\n",
       "      <td>direct</td>\n",
       "      <td>direct</td>\n",
       "      <td>untracked</td>\n",
       "      <td>Web</td>\n",
       "      <td>Mac Desktop</td>\n",
       "      <td>Chrome</td>\n",
       "      <td>US</td>\n",
       "    </tr>\n",
       "    <tr>\n",
       "      <th>...</th>\n",
       "      <td>...</td>\n",
       "      <td>...</td>\n",
       "      <td>...</td>\n",
       "      <td>...</td>\n",
       "      <td>...</td>\n",
       "      <td>...</td>\n",
       "      <td>...</td>\n",
       "      <td>...</td>\n",
       "      <td>...</td>\n",
       "      <td>...</td>\n",
       "      <td>...</td>\n",
       "    </tr>\n",
       "    <tr>\n",
       "      <th>213446</th>\n",
       "      <td>32</td>\n",
       "      <td>basic</td>\n",
       "      <td>0</td>\n",
       "      <td>en</td>\n",
       "      <td>sem-brand</td>\n",
       "      <td>google</td>\n",
       "      <td>omg</td>\n",
       "      <td>Web</td>\n",
       "      <td>Mac Desktop</td>\n",
       "      <td>Safari</td>\n",
       "      <td>NDF</td>\n",
       "    </tr>\n",
       "    <tr>\n",
       "      <th>213447</th>\n",
       "      <td>50</td>\n",
       "      <td>basic</td>\n",
       "      <td>0</td>\n",
       "      <td>en</td>\n",
       "      <td>direct</td>\n",
       "      <td>direct</td>\n",
       "      <td>linked</td>\n",
       "      <td>Web</td>\n",
       "      <td>Windows Desktop</td>\n",
       "      <td>Chrome</td>\n",
       "      <td>NDF</td>\n",
       "    </tr>\n",
       "    <tr>\n",
       "      <th>213448</th>\n",
       "      <td>32</td>\n",
       "      <td>basic</td>\n",
       "      <td>0</td>\n",
       "      <td>en</td>\n",
       "      <td>direct</td>\n",
       "      <td>direct</td>\n",
       "      <td>untracked</td>\n",
       "      <td>Web</td>\n",
       "      <td>Mac Desktop</td>\n",
       "      <td>Firefox</td>\n",
       "      <td>NDF</td>\n",
       "    </tr>\n",
       "    <tr>\n",
       "      <th>213449</th>\n",
       "      <td>50</td>\n",
       "      <td>basic</td>\n",
       "      <td>25</td>\n",
       "      <td>en</td>\n",
       "      <td>other</td>\n",
       "      <td>other</td>\n",
       "      <td>tracked-other</td>\n",
       "      <td>iOS</td>\n",
       "      <td>iPhone</td>\n",
       "      <td>Mobile Safari</td>\n",
       "      <td>NDF</td>\n",
       "    </tr>\n",
       "    <tr>\n",
       "      <th>213450</th>\n",
       "      <td>50</td>\n",
       "      <td>basic</td>\n",
       "      <td>25</td>\n",
       "      <td>en</td>\n",
       "      <td>direct</td>\n",
       "      <td>direct</td>\n",
       "      <td>untracked</td>\n",
       "      <td>iOS</td>\n",
       "      <td>iPhone</td>\n",
       "      <td>-unknown-</td>\n",
       "      <td>NDF</td>\n",
       "    </tr>\n",
       "  </tbody>\n",
       "</table>\n",
       "<p>210828 rows × 11 columns</p>\n",
       "</div>"
      ],
      "text/plain": [
       "        age signup_method  signup_flow language affiliate_channel  \\\n",
       "0        50      facebook            0       en            direct   \n",
       "1        38      facebook            0       en               seo   \n",
       "2        56         basic            3       en            direct   \n",
       "3        42      facebook            0       en            direct   \n",
       "4        41         basic            0       en            direct   \n",
       "...     ...           ...          ...      ...               ...   \n",
       "213446   32         basic            0       en         sem-brand   \n",
       "213447   50         basic            0       en            direct   \n",
       "213448   32         basic            0       en            direct   \n",
       "213449   50         basic           25       en             other   \n",
       "213450   50         basic           25       en            direct   \n",
       "\n",
       "       affiliate_provider first_affiliate_tracked signup_app  \\\n",
       "0                  direct               untracked        Web   \n",
       "1                  google               untracked        Web   \n",
       "2                  direct               untracked        Web   \n",
       "3                  direct               untracked        Web   \n",
       "4                  direct               untracked        Web   \n",
       "...                   ...                     ...        ...   \n",
       "213446             google                     omg        Web   \n",
       "213447             direct                  linked        Web   \n",
       "213448             direct               untracked        Web   \n",
       "213449              other           tracked-other        iOS   \n",
       "213450             direct               untracked        iOS   \n",
       "\n",
       "       first_device_type  first_browser country_destination  \n",
       "0            Mac Desktop         Chrome                 NDF  \n",
       "1            Mac Desktop         Chrome                 NDF  \n",
       "2        Windows Desktop             IE                  US  \n",
       "3            Mac Desktop        Firefox               other  \n",
       "4            Mac Desktop         Chrome                  US  \n",
       "...                  ...            ...                 ...  \n",
       "213446       Mac Desktop         Safari                 NDF  \n",
       "213447   Windows Desktop         Chrome                 NDF  \n",
       "213448       Mac Desktop        Firefox                 NDF  \n",
       "213449            iPhone  Mobile Safari                 NDF  \n",
       "213450            iPhone      -unknown-                 NDF  \n",
       "\n",
       "[210828 rows x 11 columns]"
      ]
     },
     "execution_count": 60,
     "metadata": {},
     "output_type": "execute_result"
    }
   ],
   "source": [
    "df1['age'] = df1['age'].round().astype(int)\n",
    "df1"
   ]
  },
  {
   "cell_type": "markdown",
   "metadata": {
    "id": "7c-exf2RCm4-"
   },
   "source": [
    "### 2)Enconding"
   ]
  },
  {
   "cell_type": "code",
   "execution_count": 61,
   "metadata": {
    "colab": {
     "base_uri": "https://localhost:8080/"
    },
    "executionInfo": {
     "elapsed": 6,
     "status": "ok",
     "timestamp": 1715365788820,
     "user": {
      "displayName": "Ammar Shihi",
      "userId": "09931002932639687714"
     },
     "user_tz": -180
    },
    "id": "wh3jnsmzdMV5",
    "outputId": "97252f83-4f81-438f-ed98-626d7a1500b7"
   },
   "outputs": [
    {
     "name": "stdout",
     "output_type": "stream",
     "text": [
      "Categorical Features: \n",
      "['signup_method', 'language', 'affiliate_channel', 'affiliate_provider', 'first_affiliate_tracked', 'signup_app', 'first_device_type', 'first_browser']\n"
     ]
    }
   ],
   "source": [
    "# Categorical Features are nominal so we will use Frequency Encoding\n",
    "categorical_features = df1.select_dtypes(include=['object']).columns.tolist()\n",
    "categorical_features.remove('country_destination')\n",
    "print(\"Categorical Features: \")\n",
    "print(categorical_features)"
   ]
  },
  {
   "cell_type": "code",
   "execution_count": 62,
   "metadata": {
    "colab": {
     "base_uri": "https://localhost:8080/",
     "height": 424
    },
    "executionInfo": {
     "elapsed": 485,
     "status": "ok",
     "timestamp": 1715365789301,
     "user": {
      "displayName": "Ammar Shihi",
      "userId": "09931002932639687714"
     },
     "user_tz": -180
    },
    "id": "20jPPTZcRVPR",
    "outputId": "59099af5-01f3-415b-a309-b8f548b1f9ca"
   },
   "outputs": [
    {
     "data": {
      "text/html": [
       "<div>\n",
       "<style scoped>\n",
       "    .dataframe tbody tr th:only-of-type {\n",
       "        vertical-align: middle;\n",
       "    }\n",
       "\n",
       "    .dataframe tbody tr th {\n",
       "        vertical-align: top;\n",
       "    }\n",
       "\n",
       "    .dataframe thead th {\n",
       "        text-align: right;\n",
       "    }\n",
       "</style>\n",
       "<table border=\"1\" class=\"dataframe\">\n",
       "  <thead>\n",
       "    <tr style=\"text-align: right;\">\n",
       "      <th></th>\n",
       "      <th>age</th>\n",
       "      <th>signup_flow</th>\n",
       "      <th>country_destination</th>\n",
       "      <th>signup_method</th>\n",
       "      <th>language</th>\n",
       "      <th>affiliate_channel</th>\n",
       "      <th>affiliate_provider</th>\n",
       "      <th>first_affiliate_tracked</th>\n",
       "      <th>signup_app</th>\n",
       "      <th>first_device_type</th>\n",
       "      <th>first_browser</th>\n",
       "      <th>country_destination</th>\n",
       "    </tr>\n",
       "  </thead>\n",
       "  <tbody>\n",
       "    <tr>\n",
       "      <th>0</th>\n",
       "      <td>50</td>\n",
       "      <td>0</td>\n",
       "      <td>NDF</td>\n",
       "      <td>59311</td>\n",
       "      <td>203752</td>\n",
       "      <td>136088</td>\n",
       "      <td>135792</td>\n",
       "      <td>113948</td>\n",
       "      <td>180295</td>\n",
       "      <td>88379</td>\n",
       "      <td>63090</td>\n",
       "      <td>NDF</td>\n",
       "    </tr>\n",
       "    <tr>\n",
       "      <th>1</th>\n",
       "      <td>38</td>\n",
       "      <td>0</td>\n",
       "      <td>NDF</td>\n",
       "      <td>59311</td>\n",
       "      <td>203752</td>\n",
       "      <td>8542</td>\n",
       "      <td>51002</td>\n",
       "      <td>113948</td>\n",
       "      <td>180295</td>\n",
       "      <td>88379</td>\n",
       "      <td>63090</td>\n",
       "      <td>NDF</td>\n",
       "    </tr>\n",
       "    <tr>\n",
       "      <th>2</th>\n",
       "      <td>56</td>\n",
       "      <td>3</td>\n",
       "      <td>US</td>\n",
       "      <td>150972</td>\n",
       "      <td>203752</td>\n",
       "      <td>136088</td>\n",
       "      <td>135792</td>\n",
       "      <td>113948</td>\n",
       "      <td>180295</td>\n",
       "      <td>71799</td>\n",
       "      <td>20770</td>\n",
       "      <td>US</td>\n",
       "    </tr>\n",
       "    <tr>\n",
       "      <th>3</th>\n",
       "      <td>42</td>\n",
       "      <td>0</td>\n",
       "      <td>other</td>\n",
       "      <td>59311</td>\n",
       "      <td>203752</td>\n",
       "      <td>136088</td>\n",
       "      <td>135792</td>\n",
       "      <td>113948</td>\n",
       "      <td>180295</td>\n",
       "      <td>88379</td>\n",
       "      <td>33204</td>\n",
       "      <td>other</td>\n",
       "    </tr>\n",
       "    <tr>\n",
       "      <th>4</th>\n",
       "      <td>41</td>\n",
       "      <td>0</td>\n",
       "      <td>US</td>\n",
       "      <td>150972</td>\n",
       "      <td>203752</td>\n",
       "      <td>136088</td>\n",
       "      <td>135792</td>\n",
       "      <td>113948</td>\n",
       "      <td>180295</td>\n",
       "      <td>88379</td>\n",
       "      <td>63090</td>\n",
       "      <td>US</td>\n",
       "    </tr>\n",
       "    <tr>\n",
       "      <th>...</th>\n",
       "      <td>...</td>\n",
       "      <td>...</td>\n",
       "      <td>...</td>\n",
       "      <td>...</td>\n",
       "      <td>...</td>\n",
       "      <td>...</td>\n",
       "      <td>...</td>\n",
       "      <td>...</td>\n",
       "      <td>...</td>\n",
       "      <td>...</td>\n",
       "      <td>...</td>\n",
       "      <td>...</td>\n",
       "    </tr>\n",
       "    <tr>\n",
       "      <th>213446</th>\n",
       "      <td>32</td>\n",
       "      <td>0</td>\n",
       "      <td>NDF</td>\n",
       "      <td>150972</td>\n",
       "      <td>203752</td>\n",
       "      <td>25695</td>\n",
       "      <td>51002</td>\n",
       "      <td>43466</td>\n",
       "      <td>180295</td>\n",
       "      <td>88379</td>\n",
       "      <td>44518</td>\n",
       "      <td>NDF</td>\n",
       "    </tr>\n",
       "    <tr>\n",
       "      <th>213447</th>\n",
       "      <td>50</td>\n",
       "      <td>0</td>\n",
       "      <td>NDF</td>\n",
       "      <td>150972</td>\n",
       "      <td>203752</td>\n",
       "      <td>136088</td>\n",
       "      <td>135792</td>\n",
       "      <td>45664</td>\n",
       "      <td>180295</td>\n",
       "      <td>71799</td>\n",
       "      <td>63090</td>\n",
       "      <td>NDF</td>\n",
       "    </tr>\n",
       "    <tr>\n",
       "      <th>213448</th>\n",
       "      <td>32</td>\n",
       "      <td>0</td>\n",
       "      <td>NDF</td>\n",
       "      <td>150972</td>\n",
       "      <td>203752</td>\n",
       "      <td>136088</td>\n",
       "      <td>135792</td>\n",
       "      <td>113948</td>\n",
       "      <td>180295</td>\n",
       "      <td>88379</td>\n",
       "      <td>33204</td>\n",
       "      <td>NDF</td>\n",
       "    </tr>\n",
       "    <tr>\n",
       "      <th>213449</th>\n",
       "      <td>50</td>\n",
       "      <td>25</td>\n",
       "      <td>NDF</td>\n",
       "      <td>150972</td>\n",
       "      <td>203752</td>\n",
       "      <td>8802</td>\n",
       "      <td>12414</td>\n",
       "      <td>6046</td>\n",
       "      <td>18914</td>\n",
       "      <td>20610</td>\n",
       "      <td>19056</td>\n",
       "      <td>NDF</td>\n",
       "    </tr>\n",
       "    <tr>\n",
       "      <th>213450</th>\n",
       "      <td>50</td>\n",
       "      <td>25</td>\n",
       "      <td>NDF</td>\n",
       "      <td>150972</td>\n",
       "      <td>203752</td>\n",
       "      <td>136088</td>\n",
       "      <td>135792</td>\n",
       "      <td>113948</td>\n",
       "      <td>18914</td>\n",
       "      <td>20610</td>\n",
       "      <td>27068</td>\n",
       "      <td>NDF</td>\n",
       "    </tr>\n",
       "  </tbody>\n",
       "</table>\n",
       "<p>210828 rows × 12 columns</p>\n",
       "</div>"
      ],
      "text/plain": [
       "        age  signup_flow country_destination  signup_method  language  \\\n",
       "0        50            0                 NDF          59311    203752   \n",
       "1        38            0                 NDF          59311    203752   \n",
       "2        56            3                  US         150972    203752   \n",
       "3        42            0               other          59311    203752   \n",
       "4        41            0                  US         150972    203752   \n",
       "...     ...          ...                 ...            ...       ...   \n",
       "213446   32            0                 NDF         150972    203752   \n",
       "213447   50            0                 NDF         150972    203752   \n",
       "213448   32            0                 NDF         150972    203752   \n",
       "213449   50           25                 NDF         150972    203752   \n",
       "213450   50           25                 NDF         150972    203752   \n",
       "\n",
       "        affiliate_channel  affiliate_provider  first_affiliate_tracked  \\\n",
       "0                  136088              135792                   113948   \n",
       "1                    8542               51002                   113948   \n",
       "2                  136088              135792                   113948   \n",
       "3                  136088              135792                   113948   \n",
       "4                  136088              135792                   113948   \n",
       "...                   ...                 ...                      ...   \n",
       "213446              25695               51002                    43466   \n",
       "213447             136088              135792                    45664   \n",
       "213448             136088              135792                   113948   \n",
       "213449               8802               12414                     6046   \n",
       "213450             136088              135792                   113948   \n",
       "\n",
       "        signup_app  first_device_type  first_browser country_destination  \n",
       "0           180295              88379          63090                 NDF  \n",
       "1           180295              88379          63090                 NDF  \n",
       "2           180295              71799          20770                  US  \n",
       "3           180295              88379          33204               other  \n",
       "4           180295              88379          63090                  US  \n",
       "...            ...                ...            ...                 ...  \n",
       "213446      180295              88379          44518                 NDF  \n",
       "213447      180295              71799          63090                 NDF  \n",
       "213448      180295              88379          33204                 NDF  \n",
       "213449       18914              20610          19056                 NDF  \n",
       "213450       18914              20610          27068                 NDF  \n",
       "\n",
       "[210828 rows x 12 columns]"
      ]
     },
     "execution_count": 62,
     "metadata": {},
     "output_type": "execute_result"
    }
   ],
   "source": [
    "df1_numerical_features = df1.drop(categorical_features, axis=1)\n",
    "\n",
    "# Apply frequency encoding to each categorical feature\n",
    "for feature in categorical_features:\n",
    "    # Get the frequency of each category in the feature\n",
    "    freq = df1[feature].value_counts()\n",
    "    # Map the frequencies to the feature in the DataFrame\n",
    "    df1[feature] = df1[feature].map(freq)\n",
    "\n",
    "df1 = pd.concat([df1_numerical_features, df1[categorical_features], df1['country_destination']], axis=1)\n",
    "df1"
   ]
  },
  {
   "cell_type": "markdown",
   "metadata": {},
   "source": [
    "###### we don't have enough hardware to use one hot encoding...It gives a lot of coloumns due to the presence of large no. of unique values in each feature "
   ]
  },
  {
   "cell_type": "code",
   "execution_count": 63,
   "metadata": {
    "executionInfo": {
     "elapsed": 455,
     "status": "ok",
     "timestamp": 1715365792449,
     "user": {
      "displayName": "Ammar Shihi",
      "userId": "09931002932639687714"
     },
     "user_tz": -180
    },
    "id": "jZgSkGuRVAeH"
   },
   "outputs": [],
   "source": [
    "# Drop duplicate columns\n",
    "df1 = df1.loc[:,~df1.columns.duplicated()]"
   ]
  },
  {
   "cell_type": "code",
   "execution_count": 64,
   "metadata": {},
   "outputs": [
    {
     "data": {
      "text/html": [
       "<div>\n",
       "<style scoped>\n",
       "    .dataframe tbody tr th:only-of-type {\n",
       "        vertical-align: middle;\n",
       "    }\n",
       "\n",
       "    .dataframe tbody tr th {\n",
       "        vertical-align: top;\n",
       "    }\n",
       "\n",
       "    .dataframe thead th {\n",
       "        text-align: right;\n",
       "    }\n",
       "</style>\n",
       "<table border=\"1\" class=\"dataframe\">\n",
       "  <thead>\n",
       "    <tr style=\"text-align: right;\">\n",
       "      <th></th>\n",
       "      <th>age</th>\n",
       "      <th>signup_flow</th>\n",
       "      <th>country_destination</th>\n",
       "      <th>signup_method</th>\n",
       "      <th>language</th>\n",
       "      <th>affiliate_channel</th>\n",
       "      <th>affiliate_provider</th>\n",
       "      <th>first_affiliate_tracked</th>\n",
       "      <th>signup_app</th>\n",
       "      <th>first_device_type</th>\n",
       "      <th>first_browser</th>\n",
       "    </tr>\n",
       "  </thead>\n",
       "  <tbody>\n",
       "    <tr>\n",
       "      <th>0</th>\n",
       "      <td>50</td>\n",
       "      <td>0</td>\n",
       "      <td>NDF</td>\n",
       "      <td>59311</td>\n",
       "      <td>203752</td>\n",
       "      <td>136088</td>\n",
       "      <td>135792</td>\n",
       "      <td>113948</td>\n",
       "      <td>180295</td>\n",
       "      <td>88379</td>\n",
       "      <td>63090</td>\n",
       "    </tr>\n",
       "    <tr>\n",
       "      <th>1</th>\n",
       "      <td>38</td>\n",
       "      <td>0</td>\n",
       "      <td>NDF</td>\n",
       "      <td>59311</td>\n",
       "      <td>203752</td>\n",
       "      <td>8542</td>\n",
       "      <td>51002</td>\n",
       "      <td>113948</td>\n",
       "      <td>180295</td>\n",
       "      <td>88379</td>\n",
       "      <td>63090</td>\n",
       "    </tr>\n",
       "    <tr>\n",
       "      <th>2</th>\n",
       "      <td>56</td>\n",
       "      <td>3</td>\n",
       "      <td>US</td>\n",
       "      <td>150972</td>\n",
       "      <td>203752</td>\n",
       "      <td>136088</td>\n",
       "      <td>135792</td>\n",
       "      <td>113948</td>\n",
       "      <td>180295</td>\n",
       "      <td>71799</td>\n",
       "      <td>20770</td>\n",
       "    </tr>\n",
       "    <tr>\n",
       "      <th>3</th>\n",
       "      <td>42</td>\n",
       "      <td>0</td>\n",
       "      <td>other</td>\n",
       "      <td>59311</td>\n",
       "      <td>203752</td>\n",
       "      <td>136088</td>\n",
       "      <td>135792</td>\n",
       "      <td>113948</td>\n",
       "      <td>180295</td>\n",
       "      <td>88379</td>\n",
       "      <td>33204</td>\n",
       "    </tr>\n",
       "    <tr>\n",
       "      <th>4</th>\n",
       "      <td>41</td>\n",
       "      <td>0</td>\n",
       "      <td>US</td>\n",
       "      <td>150972</td>\n",
       "      <td>203752</td>\n",
       "      <td>136088</td>\n",
       "      <td>135792</td>\n",
       "      <td>113948</td>\n",
       "      <td>180295</td>\n",
       "      <td>88379</td>\n",
       "      <td>63090</td>\n",
       "    </tr>\n",
       "    <tr>\n",
       "      <th>...</th>\n",
       "      <td>...</td>\n",
       "      <td>...</td>\n",
       "      <td>...</td>\n",
       "      <td>...</td>\n",
       "      <td>...</td>\n",
       "      <td>...</td>\n",
       "      <td>...</td>\n",
       "      <td>...</td>\n",
       "      <td>...</td>\n",
       "      <td>...</td>\n",
       "      <td>...</td>\n",
       "    </tr>\n",
       "    <tr>\n",
       "      <th>213446</th>\n",
       "      <td>32</td>\n",
       "      <td>0</td>\n",
       "      <td>NDF</td>\n",
       "      <td>150972</td>\n",
       "      <td>203752</td>\n",
       "      <td>25695</td>\n",
       "      <td>51002</td>\n",
       "      <td>43466</td>\n",
       "      <td>180295</td>\n",
       "      <td>88379</td>\n",
       "      <td>44518</td>\n",
       "    </tr>\n",
       "    <tr>\n",
       "      <th>213447</th>\n",
       "      <td>50</td>\n",
       "      <td>0</td>\n",
       "      <td>NDF</td>\n",
       "      <td>150972</td>\n",
       "      <td>203752</td>\n",
       "      <td>136088</td>\n",
       "      <td>135792</td>\n",
       "      <td>45664</td>\n",
       "      <td>180295</td>\n",
       "      <td>71799</td>\n",
       "      <td>63090</td>\n",
       "    </tr>\n",
       "    <tr>\n",
       "      <th>213448</th>\n",
       "      <td>32</td>\n",
       "      <td>0</td>\n",
       "      <td>NDF</td>\n",
       "      <td>150972</td>\n",
       "      <td>203752</td>\n",
       "      <td>136088</td>\n",
       "      <td>135792</td>\n",
       "      <td>113948</td>\n",
       "      <td>180295</td>\n",
       "      <td>88379</td>\n",
       "      <td>33204</td>\n",
       "    </tr>\n",
       "    <tr>\n",
       "      <th>213449</th>\n",
       "      <td>50</td>\n",
       "      <td>25</td>\n",
       "      <td>NDF</td>\n",
       "      <td>150972</td>\n",
       "      <td>203752</td>\n",
       "      <td>8802</td>\n",
       "      <td>12414</td>\n",
       "      <td>6046</td>\n",
       "      <td>18914</td>\n",
       "      <td>20610</td>\n",
       "      <td>19056</td>\n",
       "    </tr>\n",
       "    <tr>\n",
       "      <th>213450</th>\n",
       "      <td>50</td>\n",
       "      <td>25</td>\n",
       "      <td>NDF</td>\n",
       "      <td>150972</td>\n",
       "      <td>203752</td>\n",
       "      <td>136088</td>\n",
       "      <td>135792</td>\n",
       "      <td>113948</td>\n",
       "      <td>18914</td>\n",
       "      <td>20610</td>\n",
       "      <td>27068</td>\n",
       "    </tr>\n",
       "  </tbody>\n",
       "</table>\n",
       "<p>210828 rows × 11 columns</p>\n",
       "</div>"
      ],
      "text/plain": [
       "        age  signup_flow country_destination  signup_method  language  \\\n",
       "0        50            0                 NDF          59311    203752   \n",
       "1        38            0                 NDF          59311    203752   \n",
       "2        56            3                  US         150972    203752   \n",
       "3        42            0               other          59311    203752   \n",
       "4        41            0                  US         150972    203752   \n",
       "...     ...          ...                 ...            ...       ...   \n",
       "213446   32            0                 NDF         150972    203752   \n",
       "213447   50            0                 NDF         150972    203752   \n",
       "213448   32            0                 NDF         150972    203752   \n",
       "213449   50           25                 NDF         150972    203752   \n",
       "213450   50           25                 NDF         150972    203752   \n",
       "\n",
       "        affiliate_channel  affiliate_provider  first_affiliate_tracked  \\\n",
       "0                  136088              135792                   113948   \n",
       "1                    8542               51002                   113948   \n",
       "2                  136088              135792                   113948   \n",
       "3                  136088              135792                   113948   \n",
       "4                  136088              135792                   113948   \n",
       "...                   ...                 ...                      ...   \n",
       "213446              25695               51002                    43466   \n",
       "213447             136088              135792                    45664   \n",
       "213448             136088              135792                   113948   \n",
       "213449               8802               12414                     6046   \n",
       "213450             136088              135792                   113948   \n",
       "\n",
       "        signup_app  first_device_type  first_browser  \n",
       "0           180295              88379          63090  \n",
       "1           180295              88379          63090  \n",
       "2           180295              71799          20770  \n",
       "3           180295              88379          33204  \n",
       "4           180295              88379          63090  \n",
       "...            ...                ...            ...  \n",
       "213446      180295              88379          44518  \n",
       "213447      180295              71799          63090  \n",
       "213448      180295              88379          33204  \n",
       "213449       18914              20610          19056  \n",
       "213450       18914              20610          27068  \n",
       "\n",
       "[210828 rows x 11 columns]"
      ]
     },
     "execution_count": 64,
     "metadata": {},
     "output_type": "execute_result"
    }
   ],
   "source": [
    "df1"
   ]
  },
  {
   "cell_type": "code",
   "execution_count": 65,
   "metadata": {
    "scrolled": true
   },
   "outputs": [
    {
     "name": "stdout",
     "output_type": "stream",
     "text": [
      "<class 'pandas.core.frame.DataFrame'>\n",
      "Int64Index: 210828 entries, 0 to 213450\n",
      "Data columns (total 11 columns):\n",
      " #   Column                   Non-Null Count   Dtype \n",
      "---  ------                   --------------   ----- \n",
      " 0   age                      210828 non-null  int32 \n",
      " 1   signup_flow              210828 non-null  int64 \n",
      " 2   country_destination      210828 non-null  object\n",
      " 3   signup_method            210828 non-null  int64 \n",
      " 4   language                 210828 non-null  int64 \n",
      " 5   affiliate_channel        210828 non-null  int64 \n",
      " 6   affiliate_provider       210828 non-null  int64 \n",
      " 7   first_affiliate_tracked  210828 non-null  int64 \n",
      " 8   signup_app               210828 non-null  int64 \n",
      " 9   first_device_type        210828 non-null  int64 \n",
      " 10  first_browser            210828 non-null  int64 \n",
      "dtypes: int32(1), int64(9), object(1)\n",
      "memory usage: 18.5+ MB\n"
     ]
    }
   ],
   "source": [
    "df1.info()"
   ]
  },
  {
   "cell_type": "code",
   "execution_count": 66,
   "metadata": {
    "colab": {
     "base_uri": "https://localhost:8080/",
     "height": 175
    },
    "executionInfo": {
     "elapsed": 393,
     "status": "ok",
     "timestamp": 1715365793273,
     "user": {
      "displayName": "Ammar Shihi",
      "userId": "09931002932639687714"
     },
     "user_tz": -180
    },
    "id": "had34mjn6AEk",
    "outputId": "615eac4f-989f-4a84-8e93-6117251ffc47",
    "scrolled": true
   },
   "outputs": [
    {
     "data": {
      "text/html": [
       "<div>\n",
       "<style scoped>\n",
       "    .dataframe tbody tr th:only-of-type {\n",
       "        vertical-align: middle;\n",
       "    }\n",
       "\n",
       "    .dataframe tbody tr th {\n",
       "        vertical-align: top;\n",
       "    }\n",
       "\n",
       "    .dataframe thead th {\n",
       "        text-align: right;\n",
       "    }\n",
       "</style>\n",
       "<table border=\"1\" class=\"dataframe\">\n",
       "  <thead>\n",
       "    <tr style=\"text-align: right;\">\n",
       "      <th></th>\n",
       "      <th>country_destination</th>\n",
       "    </tr>\n",
       "  </thead>\n",
       "  <tbody>\n",
       "    <tr>\n",
       "      <th>count</th>\n",
       "      <td>210828</td>\n",
       "    </tr>\n",
       "    <tr>\n",
       "      <th>unique</th>\n",
       "      <td>12</td>\n",
       "    </tr>\n",
       "    <tr>\n",
       "      <th>top</th>\n",
       "      <td>NDF</td>\n",
       "    </tr>\n",
       "    <tr>\n",
       "      <th>freq</th>\n",
       "      <td>123316</td>\n",
       "    </tr>\n",
       "  </tbody>\n",
       "</table>\n",
       "</div>"
      ],
      "text/plain": [
       "       country_destination\n",
       "count               210828\n",
       "unique                  12\n",
       "top                    NDF\n",
       "freq                123316"
      ]
     },
     "execution_count": 66,
     "metadata": {},
     "output_type": "execute_result"
    }
   ],
   "source": [
    "df1.describe(include = 'object')"
   ]
  },
  {
   "cell_type": "markdown",
   "metadata": {
    "id": "Jp2dquGALwgm"
   },
   "source": [
    "### 3)Data Splitting"
   ]
  },
  {
   "cell_type": "code",
   "execution_count": 67,
   "metadata": {
    "executionInfo": {
     "elapsed": 283,
     "status": "ok",
     "timestamp": 1715365797646,
     "user": {
      "displayName": "Ammar Shihi",
      "userId": "09931002932639687714"
     },
     "user_tz": -180
    },
    "id": "cU6pNFzAnVno"
   },
   "outputs": [],
   "source": [
    "y = df1['country_destination']\n",
    "X = df1.drop(['country_destination'], axis = 1)\n",
    "X_train, X_test, y_train, y_test = train_test_split(X, y,random_state=100, test_size=0.2)"
   ]
  },
  {
   "cell_type": "markdown",
   "metadata": {
    "id": "EctdSnBBFWQx"
   },
   "source": [
    "### 4)Feature Selection(reduction)"
   ]
  },
  {
   "cell_type": "code",
   "execution_count": 68,
   "metadata": {
    "colab": {
     "base_uri": "https://localhost:8080/"
    },
    "executionInfo": {
     "elapsed": 314,
     "status": "ok",
     "timestamp": 1715365831425,
     "user": {
      "displayName": "Ammar Shihi",
      "userId": "09931002932639687714"
     },
     "user_tz": -180
    },
    "id": "VGihnRRAVmyg",
    "outputId": "93935d95-2f97-432a-fb23-a508f646742d"
   },
   "outputs": [
    {
     "name": "stdout",
     "output_type": "stream",
     "text": [
      "Data types of features:\n",
      "age                        int32\n",
      "signup_flow                int64\n",
      "signup_method              int64\n",
      "language                   int64\n",
      "affiliate_channel          int64\n",
      "affiliate_provider         int64\n",
      "first_affiliate_tracked    int64\n",
      "signup_app                 int64\n",
      "first_device_type          int64\n",
      "first_browser              int64\n",
      "dtype: object\n",
      "\n",
      "Data type of labels:\n",
      "object\n"
     ]
    }
   ],
   "source": [
    "#Check data types\n",
    "print(\"Data types of features:\")\n",
    "print(X_train.dtypes)\n",
    "print(\"\\nData type of labels:\")\n",
    "print(y_train.dtype)"
   ]
  },
  {
   "cell_type": "markdown",
   "metadata": {},
   "source": [
    "#### we used for feature selection the Recursive Feature Elimination (RFE)\n"
   ]
  },
  {
   "cell_type": "code",
   "execution_count": 69,
   "metadata": {
    "executionInfo": {
     "elapsed": 3,
     "status": "ok",
     "timestamp": 1715365898425,
     "user": {
      "displayName": "Ammar Shihi",
      "userId": "09931002932639687714"
     },
     "user_tz": -180
    },
    "id": "MRgMFK3nVtLj"
   },
   "outputs": [],
   "source": [
    "from sklearn.feature_selection import RFE\n",
    "from sklearn.ensemble import RandomForestClassifier\n",
    "\n",
    "# Define your estimator (classifier) for RFE\n",
    "estimator = RandomForestClassifier(random_state=100)\n",
    "\n",
    "# Initialize RFE and specify the number of desired features to retain\n",
    "rfe = RFE(estimator, n_features_to_select=10)\n",
    "\n",
    "# Fit RFE on the training data\n",
    "rfe.fit(X_train, y_train)\n",
    "\n",
    "# Get the selected features\n",
    "selected_features = X_train.columns[rfe.support_]\n",
    "\n",
    "# Filter the training data to include only the selected features\n",
    "X_train_selected = rfe.transform(X_train)\n",
    "X_test_selected = rfe.transform(X_test)\n"
   ]
  },
  {
   "cell_type": "code",
   "execution_count": 70,
   "metadata": {
    "colab": {
     "base_uri": "https://localhost:8080/"
    },
    "executionInfo": {
     "elapsed": 428,
     "status": "ok",
     "timestamp": 1715366015056,
     "user": {
      "displayName": "Ammar Shihi",
      "userId": "09931002932639687714"
     },
     "user_tz": -180
    },
    "id": "I5QcHSF-IwXD",
    "outputId": "8f462aec-af00-4d33-9712-ea22d6354ebc"
   },
   "outputs": [
    {
     "data": {
      "text/plain": [
       "Index(['age', 'signup_flow', 'signup_method', 'language', 'affiliate_channel',\n",
       "       'affiliate_provider', 'first_affiliate_tracked', 'signup_app',\n",
       "       'first_device_type', 'first_browser'],\n",
       "      dtype='object')"
      ]
     },
     "execution_count": 70,
     "metadata": {},
     "output_type": "execute_result"
    }
   ],
   "source": [
    "selected_features"
   ]
  },
  {
   "cell_type": "markdown",
   "metadata": {
    "id": "g_j8CDU1nVxG"
   },
   "source": [
    "## 8. After applying preprocessing steps, build a regression machine learning model according to your dataset and the type of the problem."
   ]
  },
  {
   "cell_type": "markdown",
   "metadata": {},
   "source": [
    "## Model 1 random Forest Classifier"
   ]
  },
  {
   "cell_type": "code",
   "execution_count": 71,
   "metadata": {
    "executionInfo": {
     "elapsed": 5,
     "status": "aborted",
     "timestamp": 1715365652797,
     "user": {
      "displayName": "Ammar Shihi",
      "userId": "09931002932639687714"
     },
     "user_tz": -180
    },
    "id": "aut9DxCjRC7z"
   },
   "outputs": [
    {
     "name": "stdout",
     "output_type": "stream",
     "text": [
      "Random Forest Classification Report:\n",
      "               precision    recall  f1-score   support\n",
      "\n",
      "          AU       0.08      0.01      0.02       119\n",
      "          CA       0.00      0.00      0.00       275\n",
      "          DE       0.00      0.00      0.00       227\n",
      "          ES       0.00      0.00      0.00       442\n",
      "          FR       0.04      0.01      0.01       991\n",
      "          GB       0.00      0.00      0.00       422\n",
      "          IT       0.03      0.01      0.01       518\n",
      "         NDF       0.68      0.82      0.74     24741\n",
      "          NL       0.04      0.01      0.01       152\n",
      "          PT       0.00      0.00      0.00        32\n",
      "          US       0.46      0.43      0.44     12275\n",
      "       other       0.09      0.01      0.02      1972\n",
      "\n",
      "    accuracy                           0.61     42166\n",
      "   macro avg       0.12      0.11      0.11     42166\n",
      "weighted avg       0.54      0.61      0.57     42166\n",
      "\n"
     ]
    }
   ],
   "source": [
    "# Initialize the model\n",
    "rf_model = RandomForestClassifier(n_estimators=100, random_state=100)\n",
    "\n",
    "# Fit the model\n",
    "rf_model.fit(X_train_selected, y_train)\n",
    "\n",
    "# Predict using the trained model\n",
    "y_pred_rf = rf_model.predict(X_test_selected)\n",
    "\n",
    "# Evaluate the model\n",
    "accuracy_rf = accuracy_score(y_test, y_pred_rf)\n",
    "report_rf = classification_report(y_test, y_pred_rf)\n",
    "\n",
    "print(\"Random Forest Classification Report:\\n\", report_rf)"
   ]
  },
  {
   "cell_type": "markdown",
   "metadata": {
    "id": "9WFWGVf2nXXu"
   },
   "source": [
    "### 9. Evaluate the model with the appropriate measure and save it as a .pkl file\n"
   ]
  },
  {
   "cell_type": "code",
   "execution_count": 72,
   "metadata": {
    "executionInfo": {
     "elapsed": 4,
     "status": "aborted",
     "timestamp": 1715365652797,
     "user": {
      "displayName": "Ammar Shihi",
      "userId": "09931002932639687714"
     },
     "user_tz": -180
    },
    "id": "qo7WfjLKOkk9"
   },
   "outputs": [
    {
     "name": "stdout",
     "output_type": "stream",
     "text": [
      "Random Forest Accuracy: 0.6084523075463644\n",
      "-----------------------------------------------\n",
      "Model saved as random_forest_model.pkl\n"
     ]
    }
   ],
   "source": [
    "# Print the results\n",
    "print(\"Random Forest Accuracy:\", accuracy_rf)\n",
    "print(\"-----------------------------------------------\")\n",
    "\n",
    "# Save the model as a .pkl file\n",
    "joblib.dump(rf_model, 'random_forest_model.pkl')\n",
    "print(\"Model saved as random_forest_model.pkl\")"
   ]
  },
  {
   "cell_type": "markdown",
   "metadata": {
    "id": "3VARyvmrnYiK"
   },
   "source": [
    "### 10. Write a function to be called for predicting new coming rows."
   ]
  },
  {
   "cell_type": "code",
   "execution_count": 73,
   "metadata": {},
   "outputs": [
    {
     "name": "stdout",
     "output_type": "stream",
     "text": [
      "['NDF' 'US' 'NDF' ... 'US' 'NDF' 'US']\n"
     ]
    }
   ],
   "source": [
    "def predict_with_random_forest(new_data,y_train):\n",
    "    # Fit the model\n",
    "    rf_model = RandomForestClassifier(n_estimators=100, random_state=100)\n",
    "    rf_model.fit(new_data, y_train)\n",
    "    # Load the trained model\n",
    "    rf_model = joblib.load('random_forest_model.pkl')\n",
    "\n",
    "    # Predict using the trained model\n",
    "    predictions = rf_model.predict(new_data)\n",
    "\n",
    "    return predictions\n",
    "\n",
    "new_predictions = predict_with_random_forest(X_train_selected, y_train)\n",
    "print(new_predictions)"
   ]
  },
  {
   "cell_type": "markdown",
   "metadata": {},
   "source": [
    "## Model 2  XGBoost "
   ]
  },
  {
   "cell_type": "code",
   "execution_count": 74,
   "metadata": {},
   "outputs": [
    {
     "name": "stdout",
     "output_type": "stream",
     "text": [
      "Encoded classes: ['AU' 'CA' 'DE' 'ES' 'FR' 'GB' 'IT' 'NDF' 'NL' 'PT' 'US' 'other']\n"
     ]
    }
   ],
   "source": [
    "#in order for the xgb to run y_train has to be int not object, so label encoder:\n",
    "label_encoder = LabelEncoder()\n",
    "y_train_encoded = label_encoder.fit_transform(y_train)\n",
    "classes = label_encoder.classes_\n",
    "print(\"Encoded classes:\", classes)"
   ]
  },
  {
   "cell_type": "code",
   "execution_count": 75,
   "metadata": {
    "scrolled": true
   },
   "outputs": [
    {
     "name": "stderr",
     "output_type": "stream",
     "text": [
      "C:\\Users\\JESUS\\AppData\\Roaming\\Python\\Python39\\site-packages\\sklearn\\metrics\\_classification.py:1509: UndefinedMetricWarning:\n",
      "\n",
      "Precision is ill-defined and being set to 0.0 in labels with no predicted samples. Use `zero_division` parameter to control this behavior.\n",
      "\n",
      "C:\\Users\\JESUS\\AppData\\Roaming\\Python\\Python39\\site-packages\\sklearn\\metrics\\_classification.py:1509: UndefinedMetricWarning:\n",
      "\n",
      "Precision is ill-defined and being set to 0.0 in labels with no predicted samples. Use `zero_division` parameter to control this behavior.\n",
      "\n"
     ]
    },
    {
     "name": "stdout",
     "output_type": "stream",
     "text": [
      "XGBoost Classification Report:\n",
      "               precision    recall  f1-score   support\n",
      "\n",
      "          AU       0.00      0.00      0.00       119\n",
      "          CA       0.00      0.00      0.00       275\n",
      "          DE       0.00      0.00      0.00       227\n",
      "          ES       0.00      0.00      0.00       442\n",
      "          FR       0.00      0.00      0.00       991\n",
      "          GB       0.00      0.00      0.00       422\n",
      "          IT       0.00      0.00      0.00       518\n",
      "         NDF       0.69      0.84      0.76     24741\n",
      "          NL       0.00      0.00      0.00       152\n",
      "          PT       0.00      0.00      0.00        32\n",
      "          US       0.49      0.48      0.49     12275\n",
      "       other       0.20      0.00      0.00      1972\n",
      "\n",
      "    accuracy                           0.63     42166\n",
      "   macro avg       0.12      0.11      0.10     42166\n",
      "weighted avg       0.56      0.63      0.59     42166\n",
      "\n",
      "XGBoost Accuracy: 0.634349950196841\n"
     ]
    },
    {
     "name": "stderr",
     "output_type": "stream",
     "text": [
      "C:\\Users\\JESUS\\AppData\\Roaming\\Python\\Python39\\site-packages\\sklearn\\metrics\\_classification.py:1509: UndefinedMetricWarning:\n",
      "\n",
      "Precision is ill-defined and being set to 0.0 in labels with no predicted samples. Use `zero_division` parameter to control this behavior.\n",
      "\n"
     ]
    }
   ],
   "source": [
    "xgb_model = xgb.XGBClassifier(objective='multi:softmax', num_class=len(classes), random_state=100)\n",
    "xgb_model.fit(X_train_selected, y_train_encoded)\n",
    "y_pred_xgb_encoded = xgb_model.predict(X_test_selected)\n",
    "y_pred_xgb = label_encoder.inverse_transform(y_pred_xgb_encoded)\n",
    "accuracy_xgb = accuracy_score(y_test, y_pred_xgb)\n",
    "report_xgb = classification_report(y_test, y_pred_xgb)\n",
    "\n",
    "# Print results\n",
    "print(\"XGBoost Classification Report:\\n\", report_xgb)\n",
    "print(\"XGBoost Accuracy:\", accuracy_xgb)\n"
   ]
  },
  {
   "cell_type": "markdown",
   "metadata": {},
   "source": [
    "### 9. Evaluate the model with the appropriate measure and save it as a .pkl file"
   ]
  },
  {
   "cell_type": "code",
   "execution_count": 76,
   "metadata": {},
   "outputs": [
    {
     "name": "stdout",
     "output_type": "stream",
     "text": [
      "XGBoost Accuracy: 0.634349950196841\n",
      "-----------------------------------------------\n",
      "XGBoost Model saved as xgboost_model.pkl\n"
     ]
    }
   ],
   "source": [
    "print(\"XGBoost Accuracy:\", accuracy_xgb)\n",
    "print(\"-----------------------------------------------\")\n",
    "\n",
    "joblib.dump(xgb_model, 'xgboost_model.pkl')\n",
    "print(\"XGBoost Model saved as xgboost_model.pkl\")"
   ]
  },
  {
   "cell_type": "markdown",
   "metadata": {},
   "source": [
    "### 10. Write a function to be called for predicting new coming rows."
   ]
  },
  {
   "cell_type": "code",
   "execution_count": 77,
   "metadata": {},
   "outputs": [
    {
     "name": "stdout",
     "output_type": "stream",
     "text": [
      "['NDF' 'US' 'NDF' ... 'US' 'NDF' 'NDF']\n"
     ]
    }
   ],
   "source": [
    "def predict_with_xgboost(new_data, y_train):\n",
    "    # Initialize LabelEncoder\n",
    "    label_encoder = LabelEncoder()\n",
    "\n",
    "    # Fit LabelEncoder on y_train and transform y_train\n",
    "    y_train_encoded = label_encoder.fit_transform(y_train)\n",
    "\n",
    "    # Initialize XGBoost Classifier\n",
    "    xgb_model = xgb.XGBClassifier(objective='multi:softmax', num_class=len(label_encoder.classes_), random_state=100)\n",
    "\n",
    "    # Fit the model\n",
    "    xgb_model.fit(new_data, y_train_encoded)\n",
    "\n",
    "    # Predict using the trained model\n",
    "    predictions_encoded = xgb_model.predict(new_data)\n",
    "\n",
    "    # Convert the predicted labels back to original class labels\n",
    "    predictions = label_encoder.inverse_transform(predictions_encoded)\n",
    "\n",
    "    return predictions\n",
    "\n",
    "new_predictions_xgb = predict_with_xgboost(X_train_selected, y_train)\n",
    "print(new_predictions_xgb)\n"
   ]
  },
  {
   "cell_type": "code",
   "execution_count": null,
   "metadata": {},
   "outputs": [],
   "source": [
    "new_predictions_xgb"
   ]
  },
  {
   "cell_type": "markdown",
   "metadata": {},
   "source": [
    "## another Models"
   ]
  },
  {
   "cell_type": "code",
   "execution_count": 78,
   "metadata": {},
   "outputs": [
    {
     "name": "stderr",
     "output_type": "stream",
     "text": [
      "C:\\Users\\JESUS\\AppData\\Roaming\\Python\\Python39\\site-packages\\sklearn\\ensemble\\_weight_boosting.py:519: FutureWarning:\n",
      "\n",
      "The SAMME.R algorithm (the default) is deprecated and will be removed in 1.6. Use the SAMME algorithm to circumvent this warning.\n",
      "\n",
      "C:\\Users\\JESUS\\AppData\\Roaming\\Python\\Python39\\site-packages\\sklearn\\metrics\\_classification.py:1509: UndefinedMetricWarning:\n",
      "\n",
      "Precision is ill-defined and being set to 0.0 in labels with no predicted samples. Use `zero_division` parameter to control this behavior.\n",
      "\n",
      "C:\\Users\\JESUS\\AppData\\Roaming\\Python\\Python39\\site-packages\\sklearn\\metrics\\_classification.py:1509: UndefinedMetricWarning:\n",
      "\n",
      "Precision is ill-defined and being set to 0.0 in labels with no predicted samples. Use `zero_division` parameter to control this behavior.\n",
      "\n"
     ]
    },
    {
     "name": "stdout",
     "output_type": "stream",
     "text": [
      "AdaBoost Classification Report:\n",
      "               precision    recall  f1-score   support\n",
      "\n",
      "          AU       0.00      0.00      0.00       119\n",
      "          CA       0.00      0.00      0.00       275\n",
      "          DE       0.00      0.00      0.00       227\n",
      "          ES       0.00      0.00      0.00       442\n",
      "          FR       0.00      0.00      0.00       991\n",
      "          GB       0.00      0.00      0.00       422\n",
      "          IT       0.00      0.00      0.00       518\n",
      "         NDF       0.67      0.86      0.76     24741\n",
      "          NL       0.00      0.00      0.00       152\n",
      "          PT       0.00      0.00      0.00        32\n",
      "          US       0.49      0.42      0.45     12275\n",
      "       other       0.00      0.00      0.00      1972\n",
      "\n",
      "    accuracy                           0.63     42166\n",
      "   macro avg       0.10      0.11      0.10     42166\n",
      "weighted avg       0.54      0.63      0.57     42166\n",
      "\n",
      "AdaBoost Accuracy: 0.6268557605653844\n"
     ]
    },
    {
     "name": "stderr",
     "output_type": "stream",
     "text": [
      "C:\\Users\\JESUS\\AppData\\Roaming\\Python\\Python39\\site-packages\\sklearn\\metrics\\_classification.py:1509: UndefinedMetricWarning:\n",
      "\n",
      "Precision is ill-defined and being set to 0.0 in labels with no predicted samples. Use `zero_division` parameter to control this behavior.\n",
      "\n"
     ]
    }
   ],
   "source": [
    "from sklearn.ensemble import AdaBoostClassifier\n",
    "\n",
    "# Initialize AdaBoost Classifier\n",
    "adaboost_model = AdaBoostClassifier(n_estimators=100, random_state=100)\n",
    "adaboost_model.fit(X_train_selected, y_train)\n",
    "y_pred_adaboost = adaboost_model.predict(X_test_selected)\n",
    "accuracy_adaboost = accuracy_score(y_test, y_pred_adaboost)\n",
    "report_adaboost = classification_report(y_test, y_pred_adaboost)\n",
    "print(\"AdaBoost Classification Report:\\n\", report_adaboost)\n",
    "print(\"AdaBoost Accuracy:\", accuracy_adaboost)"
   ]
  },
  {
   "cell_type": "markdown",
   "metadata": {},
   "source": [
    "#### Normalizing the Data for the SVM and NN"
   ]
  },
  {
   "cell_type": "code",
   "execution_count": 79,
   "metadata": {},
   "outputs": [],
   "source": [
    "from sklearn.preprocessing import MinMaxScaler\n",
    "# Initialize MinMaxScaler\n",
    "scaler = MinMaxScaler()\n",
    "\n",
    "# Fit and transform the training data\n",
    "X_train_scaled = scaler.fit_transform(X_train_selected)\n",
    "\n",
    "# Transform the test data using the same scaler\n",
    "X_test_scaled = scaler.transform(X_test_selected)\n"
   ]
  },
  {
   "cell_type": "code",
   "execution_count": 80,
   "metadata": {
    "scrolled": true
   },
   "outputs": [
    {
     "name": "stderr",
     "output_type": "stream",
     "text": [
      "C:\\Users\\JESUS\\AppData\\Roaming\\Python\\Python39\\site-packages\\sklearn\\metrics\\_classification.py:1509: UndefinedMetricWarning:\n",
      "\n",
      "Precision is ill-defined and being set to 0.0 in labels with no predicted samples. Use `zero_division` parameter to control this behavior.\n",
      "\n"
     ]
    },
    {
     "name": "stdout",
     "output_type": "stream",
     "text": [
      "Neural Network Classification Report:\n",
      "               precision    recall  f1-score   support\n",
      "\n",
      "          AU       0.00      0.00      0.00       119\n",
      "          CA       0.00      0.00      0.00       275\n",
      "          DE       0.00      0.00      0.00       227\n",
      "          ES       0.00      0.00      0.00       442\n",
      "          FR       0.00      0.00      0.00       991\n",
      "          GB       0.00      0.00      0.00       422\n",
      "          IT       0.00      0.00      0.00       518\n",
      "         NDF       0.68      0.85      0.76     24741\n",
      "          NL       0.00      0.00      0.00       152\n",
      "          PT       0.00      0.00      0.00        32\n",
      "          US       0.49      0.45      0.47     12275\n",
      "       other       0.00      0.00      0.00      1972\n",
      "\n",
      "    accuracy                           0.63     42166\n",
      "   macro avg       0.10      0.11      0.10     42166\n",
      "weighted avg       0.54      0.63      0.58     42166\n",
      "\n",
      "Neural Network Accuracy: 0.6300573922117346\n"
     ]
    },
    {
     "name": "stderr",
     "output_type": "stream",
     "text": [
      "C:\\Users\\JESUS\\AppData\\Roaming\\Python\\Python39\\site-packages\\sklearn\\metrics\\_classification.py:1509: UndefinedMetricWarning:\n",
      "\n",
      "Precision is ill-defined and being set to 0.0 in labels with no predicted samples. Use `zero_division` parameter to control this behavior.\n",
      "\n",
      "C:\\Users\\JESUS\\AppData\\Roaming\\Python\\Python39\\site-packages\\sklearn\\metrics\\_classification.py:1509: UndefinedMetricWarning:\n",
      "\n",
      "Precision is ill-defined and being set to 0.0 in labels with no predicted samples. Use `zero_division` parameter to control this behavior.\n",
      "\n"
     ]
    }
   ],
   "source": [
    "from sklearn.neural_network import MLPClassifier\n",
    "\n",
    "nn_model = MLPClassifier(hidden_layer_sizes=(100, ), activation='relu', solver='adam', random_state=100)\n",
    "nn_model.fit(X_train_scaled, y_train)\n",
    "y_pred_nn = nn_model.predict(X_test_scaled)\n",
    "accuracy_nn = accuracy_score(y_test, y_pred_nn)\n",
    "report_nn = classification_report(y_test, y_pred_nn)\n",
    "print(\"Neural Network Classification Report:\\n\", report_nn)\n",
    "print(\"Neural Network Accuracy:\", accuracy_nn)\n"
   ]
  },
  {
   "cell_type": "code",
   "execution_count": null,
   "metadata": {},
   "outputs": [],
   "source": [
    "#you can also run SVM but take care it will take forever.....it will give a 62% accuracy \n",
    "\n",
    "'''\n",
    "from sklearn.svm import SVC\n",
    "\n",
    "svm_model = SVC(kernel='rbf', random_state=100)\n",
    "svm_model.fit(X_train_scaled, y_train)\n",
    "y_pred_svm = svm_model.predict(X_test_scaled)\n",
    "accuracy_svm = accuracy_score(y_test, y_pred_svm)\n",
    "report_svm = classification_report(y_test, y_pred_svm)\n",
    "print(\"SVM Classification Report:\\n\", report_svm)\n",
    "print(\"SVM Accuracy:\", accuracy_svm)\n",
    "'''\n"
   ]
  },
  {
   "cell_type": "markdown",
   "metadata": {
    "id": "SbAUtWKonZPD"
   },
   "source": [
    "### Bonus\n",
    "\n",
    "### • Develop web application with two main functionalities (train, predict)\n",
    "### • In python develop flask api. One for train and one for test\n",
    "### • If you choose train from web application, train api will be called to apply the ML pipeline and save the model as pkl\n",
    "### • In case you select predict from web application, predict api will be called to predict the new given rows."
   ]
  },
  {
   "cell_type": "code",
   "execution_count": 83,
   "metadata": {
    "scrolled": false
   },
   "outputs": [],
   "source": [
    "#To save the training data in csv for the website to train\n",
    "\n",
    "# Assuming X_train_selected and y_train are already defined\n",
    "# Convert X_train_selected to a DataFrame\n",
    "Testing_Data = pd.DataFrame(X_test_selected)\n",
    "X_train_selected_df = pd.DataFrame(X_train_selected)\n",
    "\n",
    "# Concatenate X_train_selected_df and y_train\n",
    "train_data_with_target = pd.concat([X_train_selected_df, pd.DataFrame(y_train, columns=['country_destination'])], axis=1)\n",
    "train_data_with_target = train_data_with_target.dropna(how='any',axis=0)\n",
    "\n",
    "# Save the concatenated DataFrame to a CSV file\n",
    "train_data_with_target.to_csv('Training.csv', index=False)\n",
    "train_data_with_target.to_csv('Testing.csv', index=False)"
   ]
  }
 ],
 "metadata": {
  "colab": {
   "provenance": []
  },
  "kernelspec": {
   "display_name": "Python 3 (ipykernel)",
   "language": "python",
   "name": "python3"
  },
  "language_info": {
   "codemirror_mode": {
    "name": "ipython",
    "version": 3
   },
   "file_extension": ".py",
   "mimetype": "text/x-python",
   "name": "python",
   "nbconvert_exporter": "python",
   "pygments_lexer": "ipython3",
   "version": "3.9.19"
  }
 },
 "nbformat": 4,
 "nbformat_minor": 1
}
